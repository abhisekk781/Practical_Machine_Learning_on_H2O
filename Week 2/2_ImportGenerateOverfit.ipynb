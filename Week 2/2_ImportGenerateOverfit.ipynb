{
 "cells": [
  {
   "cell_type": "markdown",
   "metadata": {},
   "source": [
    "# Importing, Generating and Overfitting"
   ]
  },
  {
   "cell_type": "code",
   "execution_count": 1,
   "metadata": {},
   "outputs": [],
   "source": [
    "import h2o\n",
    "import numpy as np\n",
    "import pandas as pd\n",
    "import matplotlib.pyplot as plt"
   ]
  },
  {
   "cell_type": "code",
   "execution_count": 2,
   "metadata": {},
   "outputs": [
    {
     "name": "stdout",
     "output_type": "stream",
     "text": [
      "Checking whether there is an H2O instance running at http://localhost:54321 . connected.\n"
     ]
    },
    {
     "data": {
      "text/html": [
       "<div style=\"overflow:auto\"><table style=\"width:50%\"><tr><td>H2O cluster uptime:</td>\n",
       "<td>56 mins 12 secs</td></tr>\n",
       "<tr><td>H2O cluster timezone:</td>\n",
       "<td>Europe/Paris</td></tr>\n",
       "<tr><td>H2O data parsing timezone:</td>\n",
       "<td>UTC</td></tr>\n",
       "<tr><td>H2O cluster version:</td>\n",
       "<td>3.24.0.1</td></tr>\n",
       "<tr><td>H2O cluster version age:</td>\n",
       "<td>6 days </td></tr>\n",
       "<tr><td>H2O cluster name:</td>\n",
       "<td>H2O_from_python_a_nogue_sanchez_09o9sx</td></tr>\n",
       "<tr><td>H2O cluster total nodes:</td>\n",
       "<td>1</td></tr>\n",
       "<tr><td>H2O cluster free memory:</td>\n",
       "<td>3.405 Gb</td></tr>\n",
       "<tr><td>H2O cluster total cores:</td>\n",
       "<td>4</td></tr>\n",
       "<tr><td>H2O cluster allowed cores:</td>\n",
       "<td>4</td></tr>\n",
       "<tr><td>H2O cluster status:</td>\n",
       "<td>locked, healthy</td></tr>\n",
       "<tr><td>H2O connection url:</td>\n",
       "<td>http://localhost:54321</td></tr>\n",
       "<tr><td>H2O connection proxy:</td>\n",
       "<td>None</td></tr>\n",
       "<tr><td>H2O internal security:</td>\n",
       "<td>False</td></tr>\n",
       "<tr><td>H2O API Extensions:</td>\n",
       "<td>Amazon S3, Algos, AutoML, Core V3, Core V4</td></tr>\n",
       "<tr><td>Python version:</td>\n",
       "<td>3.7.1 final</td></tr></table></div>"
      ],
      "text/plain": [
       "--------------------------  ------------------------------------------\n",
       "H2O cluster uptime:         56 mins 12 secs\n",
       "H2O cluster timezone:       Europe/Paris\n",
       "H2O data parsing timezone:  UTC\n",
       "H2O cluster version:        3.24.0.1\n",
       "H2O cluster version age:    6 days\n",
       "H2O cluster name:           H2O_from_python_a_nogue_sanchez_09o9sx\n",
       "H2O cluster total nodes:    1\n",
       "H2O cluster free memory:    3.405 Gb\n",
       "H2O cluster total cores:    4\n",
       "H2O cluster allowed cores:  4\n",
       "H2O cluster status:         locked, healthy\n",
       "H2O connection url:         http://localhost:54321\n",
       "H2O connection proxy:\n",
       "H2O internal security:      False\n",
       "H2O API Extensions:         Amazon S3, Algos, AutoML, Core V3, Core V4\n",
       "Python version:             3.7.1 final\n",
       "--------------------------  ------------------------------------------"
      ]
     },
     "metadata": {},
     "output_type": "display_data"
    }
   ],
   "source": [
    "h2o.init()"
   ]
  },
  {
   "cell_type": "code",
   "execution_count": 3,
   "metadata": {},
   "outputs": [],
   "source": [
    "x = [z*0.01 for z in range (0,1001)]"
   ]
  },
  {
   "cell_type": "code",
   "execution_count": 4,
   "metadata": {},
   "outputs": [
    {
     "name": "stdout",
     "output_type": "stream",
     "text": [
      "[0.0, 0.01, 0.02, 0.03, 0.04]\n",
      "[9.950000000000001, 9.96, 9.97, 9.98, 9.99, 10.0]\n"
     ]
    }
   ],
   "source": [
    "print(x[0:5])\n",
    "print(x[995:1001])"
   ]
  },
  {
   "cell_type": "code",
   "execution_count": 5,
   "metadata": {},
   "outputs": [],
   "source": [
    "y = np.sin(x)\n",
    "y = y + np.random.normal(0, 0.1, len(x))"
   ]
  },
  {
   "cell_type": "code",
   "execution_count": 6,
   "metadata": {},
   "outputs": [
    {
     "data": {
      "image/png": "[encoded data removed]",
      "text/plain": [
       "<Figure size 432x288 with 1 Axes>"
      ]
     },
     "metadata": {
      "needs_background": "light"
     },
     "output_type": "display_data"
    }
   ],
   "source": [
    "plt.plot(x, y)\n",
    "plt.show()"
   ]
  },
  {
   "cell_type": "code",
   "execution_count": 7,
   "metadata": {},
   "outputs": [],
   "source": [
    "sine_wave = pd.DataFrame({\n",
    "    'a':x,\n",
    "    'b':y\n",
    "})"
   ]
  },
  {
   "cell_type": "code",
   "execution_count": 8,
   "metadata": {},
   "outputs": [
    {
     "name": "stdout",
     "output_type": "stream",
     "text": [
      "Parse progress: |█████████████████████████████████████████████████████████| 100%\n"
     ]
    }
   ],
   "source": [
    "sine_wave_h2o = h2o.H2OFrame(sine_wave)"
   ]
  },
  {
   "cell_type": "code",
   "execution_count": 9,
   "metadata": {},
   "outputs": [
    {
     "data": {
      "text/html": [
       "<table>\n",
       "<thead>\n",
       "<tr><th>       </th><th>a                </th><th>b                    </th></tr>\n",
       "</thead>\n",
       "<tbody>\n",
       "<tr><td>type   </td><td>real             </td><td>real                 </td></tr>\n",
       "<tr><td>mins   </td><td>0.0              </td><td>-1.25374651619761    </td></tr>\n",
       "<tr><td>mean   </td><td>4.999999999999934</td><td>0.1819152110029474   </td></tr>\n",
       "<tr><td>maxs   </td><td>10.0             </td><td>1.2078773770300022   </td></tr>\n",
       "<tr><td>sigma  </td><td>2.891081112663593</td><td>0.6796118743631937   </td></tr>\n",
       "<tr><td>zeros  </td><td>1                </td><td>0                    </td></tr>\n",
       "<tr><td>missing</td><td>0                </td><td>0                    </td></tr>\n",
       "<tr><td>0      </td><td>0.0              </td><td>0.07446632054440389  </td></tr>\n",
       "<tr><td>1      </td><td>0.01             </td><td>0.2157504815492758   </td></tr>\n",
       "<tr><td>2      </td><td>0.02             </td><td>-0.036079864560255706</td></tr>\n",
       "<tr><td>3      </td><td>0.03             </td><td>-0.02100457862168385 </td></tr>\n",
       "<tr><td>4      </td><td>0.04             </td><td>0.07120476836168715  </td></tr>\n",
       "<tr><td>5      </td><td>0.05             </td><td>0.07735619994680831  </td></tr>\n",
       "<tr><td>6      </td><td>0.06             </td><td>0.18029534363565403  </td></tr>\n",
       "<tr><td>7      </td><td>0.07             </td><td>0.02214096467427866  </td></tr>\n",
       "<tr><td>8      </td><td>0.08             </td><td>-0.014236217697030942</td></tr>\n",
       "<tr><td>9      </td><td>0.09             </td><td>0.20538003666534935  </td></tr>\n",
       "</tbody>\n",
       "</table>"
      ]
     },
     "metadata": {},
     "output_type": "display_data"
    }
   ],
   "source": [
    "sine_wave_h2o.summary()"
   ]
  },
  {
   "cell_type": "code",
   "execution_count": 10,
   "metadata": {},
   "outputs": [
    {
     "name": "stdout",
     "output_type": "stream",
     "text": [
      "Parse progress: |█████████████████████████████████████████████████████████| 100%\n"
     ]
    }
   ],
   "source": [
    "# When going to h2o, we won't see the name sine_wave_h2o. To do so, we need\n",
    "sine_wave_h2o = h2o.H2OFrame(\n",
    "    sine_wave,\n",
    "    destination_frame = 'sine_wave')"
   ]
  },
  {
   "cell_type": "code",
   "execution_count": 11,
   "metadata": {},
   "outputs": [
    {
     "data": {
      "text/html": [
       "<div>\n",
       "<style scoped>\n",
       "    .dataframe tbody tr th:only-of-type {\n",
       "        vertical-align: middle;\n",
       "    }\n",
       "\n",
       "    .dataframe tbody tr th {\n",
       "        vertical-align: top;\n",
       "    }\n",
       "\n",
       "    .dataframe thead th {\n",
       "        text-align: right;\n",
       "    }\n",
       "</style>\n",
       "<table border=\"1\" class=\"dataframe\">\n",
       "  <thead>\n",
       "    <tr style=\"text-align: right;\">\n",
       "      <th></th>\n",
       "      <th>a</th>\n",
       "      <th>b</th>\n",
       "    </tr>\n",
       "  </thead>\n",
       "  <tbody>\n",
       "    <tr>\n",
       "      <th>0</th>\n",
       "      <td>0.00</td>\n",
       "      <td>0.074466</td>\n",
       "    </tr>\n",
       "    <tr>\n",
       "      <th>1</th>\n",
       "      <td>0.01</td>\n",
       "      <td>0.215750</td>\n",
       "    </tr>\n",
       "    <tr>\n",
       "      <th>2</th>\n",
       "      <td>0.02</td>\n",
       "      <td>-0.036080</td>\n",
       "    </tr>\n",
       "    <tr>\n",
       "      <th>3</th>\n",
       "      <td>0.03</td>\n",
       "      <td>-0.021005</td>\n",
       "    </tr>\n",
       "    <tr>\n",
       "      <th>4</th>\n",
       "      <td>0.04</td>\n",
       "      <td>0.071205</td>\n",
       "    </tr>\n",
       "    <tr>\n",
       "      <th>5</th>\n",
       "      <td>0.05</td>\n",
       "      <td>0.077356</td>\n",
       "    </tr>\n",
       "    <tr>\n",
       "      <th>6</th>\n",
       "      <td>0.06</td>\n",
       "      <td>0.180295</td>\n",
       "    </tr>\n",
       "    <tr>\n",
       "      <th>7</th>\n",
       "      <td>0.07</td>\n",
       "      <td>0.022141</td>\n",
       "    </tr>\n",
       "    <tr>\n",
       "      <th>8</th>\n",
       "      <td>0.08</td>\n",
       "      <td>-0.014236</td>\n",
       "    </tr>\n",
       "    <tr>\n",
       "      <th>9</th>\n",
       "      <td>0.09</td>\n",
       "      <td>0.205380</td>\n",
       "    </tr>\n",
       "    <tr>\n",
       "      <th>10</th>\n",
       "      <td>0.10</td>\n",
       "      <td>-0.051849</td>\n",
       "    </tr>\n",
       "    <tr>\n",
       "      <th>11</th>\n",
       "      <td>0.11</td>\n",
       "      <td>0.007418</td>\n",
       "    </tr>\n",
       "    <tr>\n",
       "      <th>12</th>\n",
       "      <td>0.12</td>\n",
       "      <td>-0.119331</td>\n",
       "    </tr>\n",
       "    <tr>\n",
       "      <th>13</th>\n",
       "      <td>0.13</td>\n",
       "      <td>0.190248</td>\n",
       "    </tr>\n",
       "    <tr>\n",
       "      <th>14</th>\n",
       "      <td>0.14</td>\n",
       "      <td>0.185493</td>\n",
       "    </tr>\n",
       "    <tr>\n",
       "      <th>15</th>\n",
       "      <td>0.15</td>\n",
       "      <td>0.203735</td>\n",
       "    </tr>\n",
       "    <tr>\n",
       "      <th>16</th>\n",
       "      <td>0.16</td>\n",
       "      <td>0.072800</td>\n",
       "    </tr>\n",
       "    <tr>\n",
       "      <th>17</th>\n",
       "      <td>0.17</td>\n",
       "      <td>0.212331</td>\n",
       "    </tr>\n",
       "    <tr>\n",
       "      <th>18</th>\n",
       "      <td>0.18</td>\n",
       "      <td>0.159325</td>\n",
       "    </tr>\n",
       "    <tr>\n",
       "      <th>19</th>\n",
       "      <td>0.19</td>\n",
       "      <td>0.338043</td>\n",
       "    </tr>\n",
       "    <tr>\n",
       "      <th>20</th>\n",
       "      <td>0.20</td>\n",
       "      <td>0.094414</td>\n",
       "    </tr>\n",
       "    <tr>\n",
       "      <th>21</th>\n",
       "      <td>0.21</td>\n",
       "      <td>0.308249</td>\n",
       "    </tr>\n",
       "    <tr>\n",
       "      <th>22</th>\n",
       "      <td>0.22</td>\n",
       "      <td>0.259023</td>\n",
       "    </tr>\n",
       "    <tr>\n",
       "      <th>23</th>\n",
       "      <td>0.23</td>\n",
       "      <td>0.166992</td>\n",
       "    </tr>\n",
       "    <tr>\n",
       "      <th>24</th>\n",
       "      <td>0.24</td>\n",
       "      <td>0.241231</td>\n",
       "    </tr>\n",
       "    <tr>\n",
       "      <th>25</th>\n",
       "      <td>0.25</td>\n",
       "      <td>0.162566</td>\n",
       "    </tr>\n",
       "    <tr>\n",
       "      <th>26</th>\n",
       "      <td>0.26</td>\n",
       "      <td>0.263267</td>\n",
       "    </tr>\n",
       "    <tr>\n",
       "      <th>27</th>\n",
       "      <td>0.27</td>\n",
       "      <td>0.529884</td>\n",
       "    </tr>\n",
       "    <tr>\n",
       "      <th>28</th>\n",
       "      <td>0.28</td>\n",
       "      <td>0.237701</td>\n",
       "    </tr>\n",
       "    <tr>\n",
       "      <th>29</th>\n",
       "      <td>0.29</td>\n",
       "      <td>0.358364</td>\n",
       "    </tr>\n",
       "    <tr>\n",
       "      <th>...</th>\n",
       "      <td>...</td>\n",
       "      <td>...</td>\n",
       "    </tr>\n",
       "    <tr>\n",
       "      <th>971</th>\n",
       "      <td>9.71</td>\n",
       "      <td>-0.355444</td>\n",
       "    </tr>\n",
       "    <tr>\n",
       "      <th>972</th>\n",
       "      <td>9.72</td>\n",
       "      <td>-0.546188</td>\n",
       "    </tr>\n",
       "    <tr>\n",
       "      <th>973</th>\n",
       "      <td>9.73</td>\n",
       "      <td>-0.383942</td>\n",
       "    </tr>\n",
       "    <tr>\n",
       "      <th>974</th>\n",
       "      <td>9.74</td>\n",
       "      <td>-0.317080</td>\n",
       "    </tr>\n",
       "    <tr>\n",
       "      <th>975</th>\n",
       "      <td>9.75</td>\n",
       "      <td>-0.393581</td>\n",
       "    </tr>\n",
       "    <tr>\n",
       "      <th>976</th>\n",
       "      <td>9.76</td>\n",
       "      <td>-0.320420</td>\n",
       "    </tr>\n",
       "    <tr>\n",
       "      <th>977</th>\n",
       "      <td>9.77</td>\n",
       "      <td>-0.301847</td>\n",
       "    </tr>\n",
       "    <tr>\n",
       "      <th>978</th>\n",
       "      <td>9.78</td>\n",
       "      <td>-0.327820</td>\n",
       "    </tr>\n",
       "    <tr>\n",
       "      <th>979</th>\n",
       "      <td>9.79</td>\n",
       "      <td>-0.558879</td>\n",
       "    </tr>\n",
       "    <tr>\n",
       "      <th>980</th>\n",
       "      <td>9.80</td>\n",
       "      <td>-0.382568</td>\n",
       "    </tr>\n",
       "    <tr>\n",
       "      <th>981</th>\n",
       "      <td>9.81</td>\n",
       "      <td>-0.605833</td>\n",
       "    </tr>\n",
       "    <tr>\n",
       "      <th>982</th>\n",
       "      <td>9.82</td>\n",
       "      <td>-0.472158</td>\n",
       "    </tr>\n",
       "    <tr>\n",
       "      <th>983</th>\n",
       "      <td>9.83</td>\n",
       "      <td>-0.416706</td>\n",
       "    </tr>\n",
       "    <tr>\n",
       "      <th>984</th>\n",
       "      <td>9.84</td>\n",
       "      <td>-0.542705</td>\n",
       "    </tr>\n",
       "    <tr>\n",
       "      <th>985</th>\n",
       "      <td>9.85</td>\n",
       "      <td>-0.589097</td>\n",
       "    </tr>\n",
       "    <tr>\n",
       "      <th>986</th>\n",
       "      <td>9.86</td>\n",
       "      <td>-0.376416</td>\n",
       "    </tr>\n",
       "    <tr>\n",
       "      <th>987</th>\n",
       "      <td>9.87</td>\n",
       "      <td>-0.435216</td>\n",
       "    </tr>\n",
       "    <tr>\n",
       "      <th>988</th>\n",
       "      <td>9.88</td>\n",
       "      <td>-0.456564</td>\n",
       "    </tr>\n",
       "    <tr>\n",
       "      <th>989</th>\n",
       "      <td>9.89</td>\n",
       "      <td>-0.359818</td>\n",
       "    </tr>\n",
       "    <tr>\n",
       "      <th>990</th>\n",
       "      <td>9.90</td>\n",
       "      <td>-0.385141</td>\n",
       "    </tr>\n",
       "    <tr>\n",
       "      <th>991</th>\n",
       "      <td>9.91</td>\n",
       "      <td>-0.569679</td>\n",
       "    </tr>\n",
       "    <tr>\n",
       "      <th>992</th>\n",
       "      <td>9.92</td>\n",
       "      <td>-0.296450</td>\n",
       "    </tr>\n",
       "    <tr>\n",
       "      <th>993</th>\n",
       "      <td>9.93</td>\n",
       "      <td>-0.574126</td>\n",
       "    </tr>\n",
       "    <tr>\n",
       "      <th>994</th>\n",
       "      <td>9.94</td>\n",
       "      <td>-0.428057</td>\n",
       "    </tr>\n",
       "    <tr>\n",
       "      <th>995</th>\n",
       "      <td>9.95</td>\n",
       "      <td>-0.523672</td>\n",
       "    </tr>\n",
       "    <tr>\n",
       "      <th>996</th>\n",
       "      <td>9.96</td>\n",
       "      <td>-0.644141</td>\n",
       "    </tr>\n",
       "    <tr>\n",
       "      <th>997</th>\n",
       "      <td>9.97</td>\n",
       "      <td>-0.362232</td>\n",
       "    </tr>\n",
       "    <tr>\n",
       "      <th>998</th>\n",
       "      <td>9.98</td>\n",
       "      <td>-0.588969</td>\n",
       "    </tr>\n",
       "    <tr>\n",
       "      <th>999</th>\n",
       "      <td>9.99</td>\n",
       "      <td>-0.449021</td>\n",
       "    </tr>\n",
       "    <tr>\n",
       "      <th>1000</th>\n",
       "      <td>10.00</td>\n",
       "      <td>-0.588219</td>\n",
       "    </tr>\n",
       "  </tbody>\n",
       "</table>\n",
       "<p>1001 rows × 2 columns</p>\n",
       "</div>"
      ],
      "text/plain": [
       "          a         b\n",
       "0      0.00  0.074466\n",
       "1      0.01  0.215750\n",
       "2      0.02 -0.036080\n",
       "3      0.03 -0.021005\n",
       "4      0.04  0.071205\n",
       "5      0.05  0.077356\n",
       "6      0.06  0.180295\n",
       "7      0.07  0.022141\n",
       "8      0.08 -0.014236\n",
       "9      0.09  0.205380\n",
       "10     0.10 -0.051849\n",
       "11     0.11  0.007418\n",
       "12     0.12 -0.119331\n",
       "13     0.13  0.190248\n",
       "14     0.14  0.185493\n",
       "15     0.15  0.203735\n",
       "16     0.16  0.072800\n",
       "17     0.17  0.212331\n",
       "18     0.18  0.159325\n",
       "19     0.19  0.338043\n",
       "20     0.20  0.094414\n",
       "21     0.21  0.308249\n",
       "22     0.22  0.259023\n",
       "23     0.23  0.166992\n",
       "24     0.24  0.241231\n",
       "25     0.25  0.162566\n",
       "26     0.26  0.263267\n",
       "27     0.27  0.529884\n",
       "28     0.28  0.237701\n",
       "29     0.29  0.358364\n",
       "...     ...       ...\n",
       "971    9.71 -0.355444\n",
       "972    9.72 -0.546188\n",
       "973    9.73 -0.383942\n",
       "974    9.74 -0.317080\n",
       "975    9.75 -0.393581\n",
       "976    9.76 -0.320420\n",
       "977    9.77 -0.301847\n",
       "978    9.78 -0.327820\n",
       "979    9.79 -0.558879\n",
       "980    9.80 -0.382568\n",
       "981    9.81 -0.605833\n",
       "982    9.82 -0.472158\n",
       "983    9.83 -0.416706\n",
       "984    9.84 -0.542705\n",
       "985    9.85 -0.589097\n",
       "986    9.86 -0.376416\n",
       "987    9.87 -0.435216\n",
       "988    9.88 -0.456564\n",
       "989    9.89 -0.359818\n",
       "990    9.90 -0.385141\n",
       "991    9.91 -0.569679\n",
       "992    9.92 -0.296450\n",
       "993    9.93 -0.574126\n",
       "994    9.94 -0.428057\n",
       "995    9.95 -0.523672\n",
       "996    9.96 -0.644141\n",
       "997    9.97 -0.362232\n",
       "998    9.98 -0.588969\n",
       "999    9.99 -0.449021\n",
       "1000  10.00 -0.588219\n",
       "\n",
       "[1001 rows x 2 columns]"
      ]
     },
     "execution_count": 11,
     "metadata": {},
     "output_type": "execute_result"
    }
   ],
   "source": [
    "# To come back to a pandas data frame\n",
    "sine_wave_h2o.as_data_frame()"
   ]
  },
  {
   "cell_type": "code",
   "execution_count": 29,
   "metadata": {},
   "outputs": [
    {
     "name": "stdout",
     "output_type": "stream",
     "text": [
      "Checking whether there is an H2O instance running at http://localhost:54321 . connected.\n"
     ]
    },
    {
     "data": {
      "text/html": [
       "<div style=\"overflow:auto\"><table style=\"width:50%\"><tr><td>H2O cluster uptime:</td>\n",
       "<td>1 hour 16 mins</td></tr>\n",
       "<tr><td>H2O cluster timezone:</td>\n",
       "<td>Europe/Paris</td></tr>\n",
       "<tr><td>H2O data parsing timezone:</td>\n",
       "<td>UTC</td></tr>\n",
       "<tr><td>H2O cluster version:</td>\n",
       "<td>3.24.0.1</td></tr>\n",
       "<tr><td>H2O cluster version age:</td>\n",
       "<td>6 days </td></tr>\n",
       "<tr><td>H2O cluster name:</td>\n",
       "<td>H2O_from_python_a_nogue_sanchez_09o9sx</td></tr>\n",
       "<tr><td>H2O cluster total nodes:</td>\n",
       "<td>1</td></tr>\n",
       "<tr><td>H2O cluster free memory:</td>\n",
       "<td>3.403 Gb</td></tr>\n",
       "<tr><td>H2O cluster total cores:</td>\n",
       "<td>4</td></tr>\n",
       "<tr><td>H2O cluster allowed cores:</td>\n",
       "<td>4</td></tr>\n",
       "<tr><td>H2O cluster status:</td>\n",
       "<td>locked, healthy</td></tr>\n",
       "<tr><td>H2O connection url:</td>\n",
       "<td>http://localhost:54321</td></tr>\n",
       "<tr><td>H2O connection proxy:</td>\n",
       "<td>None</td></tr>\n",
       "<tr><td>H2O internal security:</td>\n",
       "<td>False</td></tr>\n",
       "<tr><td>H2O API Extensions:</td>\n",
       "<td>Amazon S3, Algos, AutoML, Core V3, Core V4</td></tr>\n",
       "<tr><td>Python version:</td>\n",
       "<td>3.7.1 final</td></tr></table></div>"
      ],
      "text/plain": [
       "--------------------------  ------------------------------------------\n",
       "H2O cluster uptime:         1 hour 16 mins\n",
       "H2O cluster timezone:       Europe/Paris\n",
       "H2O data parsing timezone:  UTC\n",
       "H2O cluster version:        3.24.0.1\n",
       "H2O cluster version age:    6 days\n",
       "H2O cluster name:           H2O_from_python_a_nogue_sanchez_09o9sx\n",
       "H2O cluster total nodes:    1\n",
       "H2O cluster free memory:    3.403 Gb\n",
       "H2O cluster total cores:    4\n",
       "H2O cluster allowed cores:  4\n",
       "H2O cluster status:         locked, healthy\n",
       "H2O connection url:         http://localhost:54321\n",
       "H2O connection proxy:\n",
       "H2O internal security:      False\n",
       "H2O API Extensions:         Amazon S3, Algos, AutoML, Core V3, Core V4\n",
       "Python version:             3.7.1 final\n",
       "--------------------------  ------------------------------------------"
      ]
     },
     "metadata": {},
     "output_type": "display_data"
    },
    {
     "name": "stdout",
     "output_type": "stream",
     "text": [
      "['O', 'AB', 'O', 'A', 'AB', 'B', 'A', 'O', 'O', 'B', 'O', 'A', 'B', 'A', 'A', 'B', 'A', 'O', 'A', 'A', 'O', 'O', 'A', 'O', 'B', 'A', 'B', 'B', 'B', 'O', 'A', 'O', 'O', 'A', 'A', 'B', 'B', 'B', 'A', 'A', 'AB', 'A', 'A', 'B', 'O', 'B', 'O', 'O', 'B', 'A', 'AB', 'AB', 'O', 'AB', 'AB', 'AB', 'A', 'B', 'A', 'A', 'AB', 'A', 'B', 'A', 'O', 'A', 'A', 'AB', 'A', 'B', 'B', 'B', 'AB', 'A', 'O', 'B', 'A', 'B', 'O', 'O', 'A', 'O', 'A', 'A', 'AB', 'A', 'A', 'B', 'A', 'O', 'B', 'A', 'O', 'O', 'A', 'A', 'O', 'O', 'B', 'B', 'A', 'A', 'AB', 'AB', 'A', 'A', 'AB', 'O', 'AB', 'A', 'O', 'O', 'O', 'AB', 'O', 'A', 'B', 'AB', 'A', 'B', 'AB', 'A', 'A', 'AB', 'A', 'O', 'B', 'AB', 'AB', 'O', 'O', 'A', 'O', 'AB', 'A', 'O', 'O', 'B', 'AB', 'A', 'O', 'B', 'B', 'O', 'B', 'O', 'B', 'A', 'O', 'AB', 'A', 'AB', 'B', 'O', 'A', 'O', 'A', 'O', 'AB', 'AB', 'O', 'AB', 'A', 'A', 'AB', 'B', 'O', 'A', 'O', 'A', 'O', 'B', 'B', 'B', 'A', 'A', 'A', 'AB', 'O', 'O', 'AB', 'O', 'B', 'AB', 'AB', 'AB', 'B', 'O', 'O', 'O', 'A', 'A', 'O', 'B', 'O', 'A', 'A', 'B', 'A', 'B', 'O', 'O', 'A', 'AB', 'O', 'B', 'A', 'A', 'O', 'O', 'O', 'AB', 'O', 'A', 'A', 'O', 'B', 'A', 'B', 'B', 'B', 'B', 'O', 'B', 'AB', 'A', 'B', 'O', 'O', 'B', 'AB', 'B', 'B', 'AB', 'A', 'A', 'A', 'A', 'A', 'AB', 'B', 'B', 'O', 'AB', 'A', 'A', 'A', 'O', 'B', 'O', 'B', 'A', 'A', 'O', 'O', 'A', 'B', 'O', 'A', 'O', 'A', 'AB', 'A', 'AB', 'B', 'B', 'A', 'AB', 'AB', 'B', 'AB', 'B', 'B', 'AB', 'AB', 'O', 'A', 'AB', 'AB', 'B', 'B', 'A', 'AB', 'B', 'AB', 'A', 'A', 'AB', 'AB', 'O', 'O', 'B', 'AB', 'O', 'A', 'B', 'A', 'O', 'A', 'B', 'A', 'A', 'O', 'B', 'B', 'B', 'B', 'O', 'AB', 'AB', 'A', 'B', 'A', 'B', 'A', 'A', 'O', 'A', 'AB', 'B', 'AB', 'AB', 'B', 'O', 'O', 'B', 'O', 'B', 'A', 'A', 'AB', 'A', 'AB', 'O', 'A', 'A', 'A', 'B', 'A', 'AB', 'O', 'O', 'AB', 'AB', 'O', 'A', 'B', 'O', 'A', 'O', 'A', 'B', 'A', 'O', 'AB', 'O', 'A', 'B', 'A', 'A', 'O', 'A', 'O', 'B', 'O', 'AB', 'AB', 'A', 'O', 'AB', 'O', 'AB', 'B', 'O', 'O', 'AB', 'A', 'O', 'AB', 'A', 'AB', 'A', 'AB', 'O', 'B', 'B', 'O', 'O', 'A', 'A', 'AB', 'AB', 'AB', 'B', 'A', 'A', 'AB', 'A', 'AB', 'AB', 'A', 'A', 'O', 'A', 'A', 'B', 'B', 'B', 'A', 'B', 'O', 'B', 'A', 'O', 'B', 'O', 'A', 'O', 'O', 'AB', 'A', 'O', 'A', 'A', 'O', 'B', 'A', 'O', 'B', 'B', 'A', 'O', 'AB', 'O', 'B', 'A', 'A', 'AB', 'AB', 'A', 'AB', 'O', 'A', 'A', 'A', 'O', 'O', 'A', 'AB', 'A', 'AB', 'A', 'O', 'O', 'A', 'A', 'AB', 'O', 'O', 'A', 'B', 'AB', 'AB', 'AB', 'O', 'B', 'AB', 'A', 'A', 'A', 'AB', 'O', 'O', 'A', 'B', 'O', 'A', 'O', 'AB', 'B', 'B', 'B', 'A', 'AB', 'O', 'AB', 'O', 'A', 'AB', 'A', 'AB', 'B', 'AB', 'O', 'O', 'AB', 'A', 'A', 'B', 'A', 'O', 'B', 'B', 'O', 'O', 'A', 'O', 'A', 'O', 'O', 'AB', 'A', 'O', 'O', 'B', 'O', 'O', 'O', 'O', 'A', 'AB', 'B', 'AB', 'B', 'A', 'B', 'O', 'AB', 'O', 'A', 'B', 'A', 'A', 'AB', 'A', 'B', 'AB', 'O', 'AB', 'AB', 'B', 'A', 'B', 'A', 'A', 'A', 'AB', 'B', 'O', 'AB', 'O', 'B', 'O', 'A', 'O', 'O', 'O', 'A', 'AB', 'O', 'O', 'A', 'B', 'B', 'B', 'AB', 'O', 'AB', 'A', 'A', 'A', 'B', 'A', 'O', 'AB', 'B', 'O', 'AB', 'O', 'B', 'AB', 'O', 'O', 'O', 'O', 'A', 'O', 'AB', 'A', 'A', 'O', 'AB', 'A', 'O', 'O', 'A', 'B', 'A', 'AB', 'A', 'A', 'AB', 'O', 'A', 'O', 'O', 'B', 'O', 'A', 'B', 'A', 'AB', 'O', 'A', 'AB', 'A', 'O', 'AB', 'A', 'AB', 'B', 'A', 'O', 'B', 'B', 'AB', 'O', 'O', 'A', 'B', 'AB', 'A', 'B', 'O', 'B', 'AB', 'B', 'O', 'A', 'AB', 'B', 'B', 'AB', 'AB', 'O', 'A', 'B', 'B', 'O', 'A', 'B', 'O', 'A', 'AB', 'A', 'A', 'O', 'O', 'A', 'A', 'O', 'A', 'A', 'A', 'O', 'O', 'AB', 'A', 'A', 'A', 'A', 'A', 'AB', 'B', 'B', 'B', 'B', 'O', 'A', 'O', 'B', 'B', 'A', 'O', 'A', 'B', 'A', 'AB', 'O', 'A', 'B', 'A', 'AB', 'B', 'A', 'O', 'A', 'B', 'A', 'B', 'O', 'AB', 'A', 'A', 'O', 'A', 'B', 'O', 'O', 'AB', 'A', 'A', 'AB', 'B', 'A', 'O', 'A', 'AB', 'B', 'O', 'AB', 'O', 'O', 'B', 'O', 'B', 'A', 'O', 'O', 'B', 'A', 'B', 'O', 'B', 'A', 'A', 'A', 'AB', 'AB', 'A', 'O', 'A', 'AB', 'AB', 'B', 'O', 'A', 'AB', 'O', 'A', 'AB', 'O', 'O', 'A', 'O', 'B', 'O', 'A', 'O', 'A', 'AB', 'A', 'B', 'O', 'A', 'A', 'O', 'A', 'B', 'AB', 'O', 'O', 'AB', 'B', 'A', 'A', 'AB', 'O', 'B', 'AB', 'A', 'B', 'O', 'AB', 'B', 'B', 'B', 'O', 'A', 'AB', 'B', 'A', 'A', 'O', 'A', 'A', 'O', 'AB', 'O', 'O', 'A', 'B', 'O', 'O', 'A', 'O', 'AB', 'A', 'B', 'O', 'O', 'AB', 'AB', 'B', 'B', 'A', 'O', 'B', 'O', 'O', 'AB', 'A', 'B', 'AB', 'A', 'B', 'A', 'AB', 'A', 'O', 'A', 'AB', 'A', 'B', 'A', 'AB', 'B', 'A', 'O', 'AB', 'O', 'AB', 'B', 'O', 'A', 'O', 'AB', 'A', 'A', 'B', 'AB', 'AB', 'B', 'B', 'AB', 'O', 'A', 'A', 'A', 'O', 'O', 'O', 'O', 'B', 'O', 'B', 'AB', 'AB', 'AB', 'O', 'A', 'A', 'AB', 'A', 'O', 'O', 'O', 'A', 'O', 'A', 'AB', 'A', 'A', 'B', 'A', 'A', 'B', 'A', 'B', 'O', 'A', 'AB', 'O', 'O', 'B', 'O', 'O', 'A', 'A', 'B', 'A', 'A', 'AB', 'O', 'B', 'B', 'O', 'AB', 'O', 'O', 'A', 'O', 'O', 'AB', 'O', 'O', 'O', 'A', 'O', 'A', 'AB', 'O', 'B', 'A', 'O', 'B', 'O', 'A', 'AB', 'AB', 'O', 'A', 'B', 'A', 'AB', 'O', 'AB', 'B', 'O', 'B', 'A', 'O', 'B', 'O', 'AB', 'O', 'O', 'A', 'O', 'A', 'A', 'A', 'B', 'O', 'AB', 'B', 'B', 'AB', 'O', 'AB', 'AB', 'O', 'A', 'B', 'A', 'B', 'A', 'B', 'O', 'O', 'AB', 'O', 'A', 'AB', 'O', 'O', 'A', 'A', 'A', 'AB', 'O', 'B', 'O', 'B', 'A', 'A', 'O', 'O', 'O', 'O', 'AB', 'O', 'A', 'O', 'AB', 'B', 'A', 'B', 'A', 'O']\n",
      "[54, 59, 43, 49, 32, 63, 63, 38, 64, 47, 26, 27, 64, 46, 57, 48, 27, 63, 20, 43, 19, 41, 31, 20, 32, 43, 54, 24, 22, 56, 25, 42, 18, 30, 54, 48, 25, 47, 53, 20, 56, 30, 55, 29, 43, 25, 37, 25, 58, 58, 43, 47, 57, 35, 42, 37, 45, 36, 63, 59, 51, 60, 44, 60, 40, 42, 33, 60, 50, 34, 64, 52, 65, 41, 62, 54, 63, 64, 35, 52, 34, 18, 58, 45, 30, 27, 27, 52, 60, 21, 50, 35, 35, 48, 39, 46, 57, 30, 21, 62, 57, 46, 24, 58, 43, 34, 31, 32, 65, 57, 37, 48, 36, 40, 50, 18, 61, 23, 23, 52, 34, 34, 22, 34, 30, 31, 59, 32, 60, 33, 22, 54, 33, 39, 48, 35, 32, 19, 29, 20, 18, 32, 46, 27, 60, 18, 32, 32, 65, 25, 26, 29, 19, 50, 32, 26, 51, 61, 18, 37, 46, 52, 60, 33, 65, 43, 43, 48, 24, 29, 21, 19, 25, 18, 42, 57, 41, 60, 27, 61, 51, 51, 31, 21, 48, 26, 23, 51, 49, 58, 46, 42, 29, 52, 19, 51, 54, 21, 24, 44, 42, 22, 31, 35, 59, 59, 27, 65, 20, 36, 43, 65, 61, 41, 52, 31, 54, 25, 24, 33, 36, 38, 19, 54, 35, 37, 54, 60, 59, 38, 58, 35, 48, 39, 52, 56, 49, 29, 64, 65, 55, 57, 30, 54, 62, 30, 45, 46, 46, 47, 19, 39, 44, 41, 21, 32, 41, 22, 37, 58, 23, 59, 58, 34, 50, 52, 47, 45, 36, 44, 39, 36, 55, 48, 24, 19, 35, 23, 25, 21, 28, 47, 43, 31, 22, 32, 30, 25, 53, 64, 61, 35, 44, 60, 61, 61, 63, 40, 30, 62, 41, 64, 32, 57, 34, 18, 47, 64, 22, 57, 65, 44, 64, 65, 21, 47, 25, 21, 58, 20, 57, 62, 30, 54, 60, 50, 60, 32, 65, 21, 60, 30, 39, 24, 59, 18, 20, 49, 30, 40, 21, 28, 58, 30, 41, 23, 21, 60, 38, 50, 54, 26, 55, 59, 51, 29, 30, 60, 57, 21, 62, 48, 45, 25, 35, 34, 33, 33, 20, 58, 33, 21, 58, 32, 24, 56, 49, 25, 18, 59, 53, 59, 55, 27, 22, 56, 58, 50, 33, 53, 42, 63, 65, 46, 46, 40, 24, 50, 54, 51, 44, 43, 64, 36, 65, 58, 20, 43, 55, 39, 58, 38, 19, 53, 59, 60, 21, 53, 38, 44, 65, 38, 55, 58, 37, 53, 62, 49, 50, 34, 44, 58, 51, 57, 48, 39, 56, 47, 55, 65, 59, 44, 52, 35, 59, 36, 58, 34, 34, 46, 38, 32, 43, 47, 23, 26, 51, 26, 30, 50, 26, 42, 64, 44, 48, 39, 23, 46, 63, 56, 53, 61, 20, 57, 19, 29, 35, 34, 22, 58, 54, 34, 31, 55, 32, 43, 26, 64, 49, 18, 47, 64, 21, 18, 46, 43, 27, 29, 41, 36, 54, 46, 44, 19, 21, 54, 19, 40, 39, 45, 39, 45, 40, 46, 43, 23, 20, 52, 58, 60, 60, 20, 47, 34, 37, 40, 39, 24, 28, 45, 20, 58, 40, 34, 61, 47, 34, 57, 28, 51, 37, 50, 37, 48, 53, 38, 50, 22, 47, 58, 29, 64, 53, 33, 42, 35, 59, 26, 50, 30, 46, 20, 62, 24, 37, 37, 56, 54, 47, 24, 32, 27, 61, 36, 22, 49, 44, 31, 65, 35, 32, 34, 37, 57, 41, 47, 21, 26, 22, 44, 18, 47, 21, 43, 65, 23, 46, 21, 45, 25, 26, 51, 52, 52, 42, 34, 40, 63, 25, 25, 33, 57, 31, 39, 22, 64, 61, 37, 45, 30, 53, 34, 60, 65, 36, 20, 24, 38, 62, 40, 45, 39, 46, 35, 59, 53, 61, 25, 29, 24, 19, 45, 44, 21, 41, 51, 46, 52, 51, 20, 26, 55, 43, 31, 35, 62, 30, 54, 50, 24, 52, 45, 61, 39, 50, 53, 36, 38, 36, 28, 25, 50, 19, 64, 58, 62, 58, 63, 50, 37, 51, 56, 57, 62, 47, 65, 25, 33, 41, 28, 53, 21, 39, 37, 36, 22, 20, 30, 59, 45, 49, 40, 25, 27, 50, 50, 55, 58, 40, 27, 34, 21, 35, 55, 19, 65, 18, 46, 29, 18, 43, 30, 61, 27, 36, 32, 60, 26, 45, 60, 35, 30, 62, 41, 46, 64, 59, 37, 25, 42, 20, 33, 48, 62, 54, 55, 48, 57, 57, 39, 38, 48, 31, 65, 30, 28, 64, 63, 50, 48, 62, 28, 59, 39, 38, 37, 39, 65, 56, 44, 50, 50, 42, 27, 29, 49, 32, 32, 39, 63, 57, 63, 44, 35, 37, 46, 19, 31, 20, 51, 41, 35, 40, 34, 21, 51, 54, 21, 27, 51, 33, 23, 38, 63, 21, 44, 20, 40, 29, 64, 28, 20, 21, 22, 19, 19, 39, 34, 60, 38, 63, 56, 37, 39, 46, 50, 48, 32, 62, 37, 58, 26, 33, 39, 19, 48, 33, 45, 25, 32, 42, 27, 39, 62, 43, 50, 54, 41, 37, 26, 42, 45, 55, 18, 52, 36, 19, 33, 52, 59, 20, 53, 53, 65, 56, 55, 56, 20, 59, 20, 33, 22, 40, 23, 27, 59, 46, 24, 31, 48, 38, 26, 36, 64, 24, 26, 31, 28, 27, 39, 45, 39, 43, 38, 37, 42, 51, 48, 18, 40, 64, 48, 39, 45, 19, 51, 58, 46, 51, 51, 59, 55, 25, 65, 50, 25, 18, 65, 41, 32, 21, 32, 37, 48, 31, 65, 51, 46, 61, 41, 35, 58, 37, 51, 29, 51, 39, 61, 29, 58, 38, 37, 30, 25, 31, 24, 28, 19, 43, 53, 32, 51, 34, 18, 57, 38, 47, 37, 19, 26, 46, 62, 44, 53, 22, 20, 54, 19, 27, 34, 63, 34, 43, 63, 49, 43, 24, 59, 53, 19, 33, 30, 29, 34, 38, 59, 37, 27, 55, 32, 62, 29, 35, 47, 47, 55, 65, 18, 42, 33]\n",
      "[3, 8, 5, 4, 4, 7, 8, 3, 2, 0, 6, 4, 4, 7, 8, 7, 8, 8, 6, 8, 9, 0, 0, 9, 6, 3, 1, 7, 1, 8, 4, 8, 6, 3, 4, 0, 6, 4, 8, 0, 1, 8, 8, 1, 9, 3, 8, 3, 6, 0, 7, 4, 5, 4, 5, 9, 5, 5, 2, 0, 5, 9, 2, 8, 1, 1, 4, 4, 9, 9, 1, 2, 9, 0, 1, 1, 2, 2, 7, 3, 2, 3, 9, 6, 8, 5, 9, 3, 1, 5, 5, 4, 4, 1, 1, 5, 6, 0, 4, 8, 7, 2, 5, 5, 1, 3, 9, 4, 6, 5, 2, 8, 9, 2, 6, 5, 3, 2, 1, 9, 9, 9, 4, 8, 3, 1, 0, 9, 1, 9, 9, 2, 1, 6, 6, 7, 4, 2, 1, 0, 5, 7, 0, 5, 2, 8, 1, 0, 4, 7, 0, 7, 8, 4, 9, 7, 9, 3, 4, 6, 9, 0, 6, 6, 0, 7, 0, 3, 9, 7, 8, 8, 4, 5, 5, 1, 5, 5, 2, 1, 1, 5, 3, 3, 1, 6, 4, 3, 3, 1, 3, 2, 1, 6, 7, 9, 3, 0, 7, 7, 9, 5, 6, 4, 6, 3, 6, 6, 7, 1, 5, 7, 4, 4, 5, 4, 3, 5, 7, 4, 5, 5, 9, 9, 2, 9, 3, 9, 9, 5, 7, 8, 3, 0, 0, 8, 2, 5, 7, 6, 0, 1, 2, 4, 4, 6, 8, 4, 8, 8, 2, 5, 1, 3, 2, 3, 1, 7, 9, 8, 1, 0, 0, 4, 4, 0, 2, 1, 6, 9, 8, 0, 6, 9, 4, 6, 9, 2, 6, 0, 1, 0, 1, 0, 1, 9, 6, 6, 6, 1, 9, 3, 6, 3, 6, 6, 7, 4, 9, 3, 0, 9, 4, 0, 4, 6, 9, 5, 9, 5, 0, 4, 7, 8, 1, 9, 3, 8, 1, 6, 4, 1, 2, 1, 2, 1, 6, 1, 4, 5, 2, 7, 8, 3, 7, 3, 5, 4, 0, 9, 9, 8, 0, 1, 6, 3, 5, 7, 2, 3, 1, 4, 1, 3, 5, 7, 9, 1, 5, 1, 5, 5, 2, 9, 8, 8, 5, 5, 8, 6, 2, 5, 6, 7, 2, 4, 2, 7, 2, 3, 6, 0, 4, 6, 8, 4, 1, 0, 5, 2, 8, 7, 8, 7, 6, 3, 6, 9, 9, 7, 6, 6, 3, 3, 9, 9, 0, 4, 3, 1, 9, 6, 7, 9, 2, 1, 5, 0, 6, 4, 1, 2, 8, 1, 4, 9, 3, 5, 8, 9, 6, 6, 1, 8, 6, 4, 7, 7, 4, 6, 5, 9, 4, 9, 7, 6, 5, 0, 3, 7, 2, 3, 1, 7, 0, 6, 3, 5, 0, 4, 7, 3, 8, 8, 6, 4, 3, 4, 9, 6, 9, 5, 4, 5, 3, 6, 0, 7, 2, 2, 3, 7, 4, 2, 5, 5, 6, 4, 2, 0, 0, 3, 5, 8, 2, 9, 8, 0, 3, 0, 0, 4, 5, 2, 0, 9, 6, 3, 1, 3, 0, 1, 5, 7, 8, 4, 8, 6, 4, 0, 6, 6, 2, 1, 4, 6, 5, 6, 0, 3, 0, 1, 5, 2, 6, 4, 5, 2, 9, 2, 8, 2, 7, 9, 0, 5, 7, 5, 9, 3, 8, 3, 2, 0, 9, 4, 5, 6, 6, 3, 1, 5, 1, 7, 8, 2, 4, 7, 2, 0, 5, 3, 2, 9, 6, 7, 0, 5, 5, 4, 9, 5, 5, 8, 7, 3, 4, 3, 4, 5, 3, 9, 7, 0, 4, 5, 0, 0, 0, 2, 2, 2, 1, 8, 2, 0, 2, 0, 0, 1, 6, 8, 4, 1, 8, 5, 7, 7, 8, 2, 8, 1, 0, 5, 0, 4, 3, 0, 9, 3, 6, 5, 4, 8, 2, 9, 2, 4, 8, 1, 8, 6, 8, 5, 6, 6, 2, 8, 5, 0, 5, 6, 5, 9, 0, 8, 3, 7, 0, 8, 9, 6, 9, 9, 4, 4, 4, 6, 9, 3, 8, 3, 4, 2, 3, 4, 0, 4, 2, 8, 1, 0, 2, 8, 8, 1, 4, 6, 3, 2, 6, 1, 5, 4, 8, 0, 6, 6, 1, 9, 1, 6, 1, 9, 2, 4, 2, 2, 9, 3, 7, 6, 2, 6, 7, 3, 1, 8, 3, 1, 4, 7, 5, 1, 0, 4, 8, 7, 9, 9, 9, 0, 9, 1, 7, 3, 2, 7, 0, 0, 6, 3, 8, 8, 2, 8, 9, 5, 7, 2, 0, 9, 4, 8, 8, 8, 3, 2, 2, 2, 6, 5, 0, 7, 2, 2, 1, 3, 2, 6, 6, 9, 0, 4, 0, 5, 8, 1, 6, 9, 5, 3, 7, 4, 4, 9, 7, 6, 2, 5, 4, 6, 7, 3, 3, 9, 6, 1, 8, 9, 0, 7, 7, 4, 4, 6, 2, 5, 2, 3, 9, 8, 4, 9, 9, 1, 0, 8, 5, 3, 6, 8, 6, 9, 2, 6, 2, 6, 5, 8, 1, 3, 1, 3, 4, 1, 3, 6, 7, 7, 2, 7, 9, 5, 8, 7, 8, 8, 7, 3, 3, 4, 9, 1, 0, 2, 0, 0, 9, 8, 3, 9, 7, 9, 0, 2, 1, 3, 9, 1, 0, 6, 2, 7, 4, 9, 4, 4, 2, 1, 5, 6, 8, 9, 8, 5, 9, 6, 4, 0, 2, 5, 8, 9, 7, 4, 7, 0, 1, 4, 0, 0, 3, 0, 7, 2, 4, 2, 4, 2, 4, 7, 4, 7, 8, 5, 4, 1, 6, 6, 9, 1, 3, 2, 4, 8, 0, 4, 6, 1, 4, 4, 0, 9, 1, 1, 2, 1, 2, 5, 6, 2, 1, 8, 9, 1, 8, 1, 6, 4, 7, 8, 2, 4, 2, 5, 8, 1, 0, 3, 1, 4, 9, 1, 6, 9, 1, 2, 9, 3, 5, 2, 8, 1, 1, 7, 9, 4, 4, 1, 8, 7, 6, 0, 8, 1, 3, 2, 4, 8, 3, 5, 7, 6, 9, 8, 0, 9, 8, 7]\n"
     ]
    },
    {
     "name": "stdout",
     "output_type": "stream",
     "text": [
      "[7.0, 5.0, 4.0, 1.0, 3.0, 3.0, 10.0, 3.0, 6.0, 5.0, 11.0, 7.0, 6.0, 6.0, 7.0, 6.0, 4.0, 3.0, 7.0, 4.0, 6.0, 4.0, 4.0, 5.0, 6.0, 7.0, 8.0, 10.0, 2.0, 1.0, 4.0, 2.0, 4.0, 7.0, 5.0, 3.0, 4.0, 4.0, 5.0, 5.0, 7.0, 5.0, 3.0, 8.0, 9.0, 2.0, 5.0, 2.0, 3.0, 7.0, 4.0, 2.0, 5.0, 3.0, 3.0, 5.0, 3.0, 9.0, 5.0, 8.0, 5.0, 5.0, 7.0, 6.0, 6.0, 4.0, 4.0, 9.0, 2.0, 8.0, 5.0, 9.0, 4.0, 4.0, 5.0, -0.0, 4.0, 4.0, 8.0, 3.0, 6.0, 3.0, 6.0, 8.0, 3.0, 5.0, 9.0, 6.0, 4.0, 4.0, 3.0, 5.0, 3.0, 5.0, 2.0, 4.0, 3.0, 7.0, 9.0, 7.0, 4.0, 9.0, 3.0, 6.0, 5.0, 8.0, 6.0, 3.0, 1.0, 1.0, 4.0, 4.0, 0.0, 3.0, 4.0, 8.0, 5.0, 3.0, 4.0, 4.0, 3.0, 7.0, 8.0, 8.0, 8.0, 5.0, 6.0, 7.0, 8.0, 10.0, 4.0, 9.0, 5.0, 7.0, 4.0, 5.0, 8.0, 7.0, 7.0, 6.0, 4.0, 8.0, 4.0, 5.0, 5.0, 7.0, 4.0, 4.0, 7.0, 8.0, 1.0, 8.0, 6.0, 8.0, 6.0, 2.0, 4.0, 6.0, 6.0, 5.0, 3.0, 6.0, 6.0, 5.0, 6.0, 6.0, 7.0, 6.0, 6.0, 7.0, 6.0, 8.0, 3.0, 7.0, 3.0, 6.0, 7.0, 3.0, 8.0, 5.0, 5.0, 3.0, 3.0, 4.0, 3.0, 7.0, 2.0, 3.0, 5.0, 5.0, 5.0, 9.0, 4.0, 5.0, 8.0, 3.0, 5.0, 7.0, 5.0, 7.0, 5.0, 5.0, 3.0, 6.0, 2.0, 7.0, 5.0, 3.0, 6.0, 7.0, 7.0, 5.0, 6.0, 4.0, 5.0, 3.0, 8.0, 4.0, 8.0, 3.0, 4.0, 3.0, 9.0, 4.0, 4.0, 8.0, 6.0, 7.0, 4.0, 3.0, 5.0, 7.0, 3.0, 5.0, 3.0, 5.0, 3.0, 7.0, 10.0, 5.0, 7.0, 4.0, 8.0, 5.0, 6.0, 7.0, 9.0, 6.0, 2.0, 4.0, 10.0, 5.0, 3.0, 5.0, 5.0, 4.0, 7.0, 8.0, 7.0, 4.0, 5.0, -0.0, 3.0, 5.0, 6.0, 7.0, 4.0, 5.0, 7.0, 6.0, 2.0, 4.0, 6.0, 10.0, 4.0, 9.0, 4.0, 6.0, 4.0, 5.0, 5.0, 6.0, 5.0, 4.0, 6.0, 5.0, 5.0, 10.0, 5.0, 4.0, 9.0, 7.0, 4.0, 2.0, 5.0, 3.0, 5.0, 6.0, 7.0, 6.0, 5.0, 2.0, 7.0, 3.0, 6.0, 7.0, 3.0, 4.0, 3.0, 4.0, 4.0, 1.0, 5.0, 8.0, 3.0, -0.0, 8.0, 6.0, 3.0, 4.0, 5.0, 7.0, 7.0, 9.0, 5.0, 4.0, 5.0, 7.0, 6.0, 4.0, 5.0, 9.0, 6.0, 5.0, 5.0, 3.0, 8.0, 6.0, 2.0, 7.0, 9.0, 4.0, 4.0, 9.0, 5.0, 8.0, 6.0, 7.0, 8.0, 4.0, 4.0, 3.0, 10.0, 8.0, 5.0, 4.0, 4.0, 5.0, 3.0, 6.0, 7.0, 5.0, 4.0, 8.0, 4.0, 2.0, 0.0, 5.0, 6.0, 6.0, 7.0, 5.0, 8.0, 4.0, 9.0, 2.0, 3.0, 5.0, 3.0, 6.0, 8.0, 4.0, 5.0, 9.0, 5.0, 3.0, 3.0, 7.0, 6.0, 7.0, 1.0, 4.0, 5.0, 9.0, 6.0, 6.0, 8.0, 5.0, 5.0, 8.0, 3.0, 5.0, 5.0, 5.0, 6.0, 6.0, 5.0, 2.0, 8.0, 1.0, 6.0, 3.0, 7.0, 5.0, 4.0, 4.0, 9.0, 4.0, 2.0, 7.0, 6.0, 3.0, 3.0, 3.0, 1.0, 2.0, 7.0, 7.0, 5.0, 4.0, 8.0, 5.0, 5.0, 6.0, 5.0, 4.0, 5.0, 4.0, 4.0, 7.0, 6.0, 4.0, 5.0, 3.0, 6.0, 5.0, 1.0, 7.0, 6.0, 6.0, 8.0, 8.0, 8.0, 4.0, 6.0, 11.0, 6.0, 6.0, 5.0, 6.0, 5.0, 8.0, 8.0, 2.0, 4.0, 5.0, 6.0, 6.0, 5.0, 1.0, 1.0, 4.0, 3.0, 4.0, 8.0, 1.0, 6.0, 8.0, 9.0, 5.0, 6.0, 1.0, 5.0, 9.0, 6.0, 2.0, 6.0, 4.0, 6.0, 10.0, 5.0, 6.0, 5.0, 8.0, 2.0, 1.0, 4.0, 6.0, 8.0, 1.0, 7.0, 6.0, 3.0, 3.0, 5.0, 2.0, 8.0, 3.0, 3.0, 3.0, 6.0, 5.0, 10.0, 8.0, 5.0, 4.0, 6.0, 5.0, 10.0, 8.0, 5.0, 5.0, 4.0, 2.0, 5.0, 6.0, 7.0, 5.0, 5.0, 5.0, 8.0, 6.0, 5.0, 8.0, 3.0, 8.0, 3.0, 2.0, 5.0, 7.0, 4.0, 5.0, 3.0, 5.0, 5.0, 5.0, 5.0, 6.0, 5.0, 7.0, 7.0, 6.0, 4.0, 5.0, 7.0, 7.0, 6.0, 6.0, 4.0, 5.0, 6.0, 6.0, 2.0, 6.0, 0.0, 6.0, 6.0, 4.0, 3.0, 9.0, 8.0, 9.0, 3.0, 6.0, 7.0, 6.0, 3.0, 7.0, 4.0, 6.0, 4.0, 8.0, 5.0, -1.0, 3.0, 6.0, 7.0, 8.0, 7.0, 5.0, 4.0, 4.0, 6.0, 2.0, 2.0, 3.0, 7.0, 9.0, 8.0, 8.0, 1.0, 3.0, 3.0, 6.0, 4.0, 2.0, 8.0, 4.0, 5.0, 4.0, 4.0, 5.0, 3.0, 5.0, 5.0, 5.0, 6.0, 3.0, 2.0, 8.0, 2.0, 0.0, 7.0, 6.0, 6.0, 6.0, 4.0, 4.0, 8.0, 7.0, 8.0, 3.0, 3.0, 3.0, 8.0, 3.0, 8.0, 7.0, 8.0, 7.0, 2.0, 0.0, 6.0, 7.0, 10.0, 5.0, 7.0, 4.0, 9.0, 6.0, 6.0, 6.0, 8.0, 7.0, 4.0, 5.0, 5.0, 4.0, 6.0, 8.0, 6.0, 9.0, 2.0, 5.0, 5.0, 4.0, 6.0, 2.0, 2.0, 8.0, 4.0, 4.0, 5.0, 3.0, 4.0, 8.0, 5.0, 7.0, 5.0, 6.0, 4.0, 3.0, 6.0, 3.0, 7.0, 6.0, 6.0, 4.0, 5.0, 2.0, 8.0, 4.0, 5.0, 1.0, 3.0, 4.0, 7.0, 6.0, 2.0, 6.0, 4.0, 6.0, 6.0, 5.0, 6.0, 3.0, 4.0, 7.0, 5.0, 5.0, 4.0, 8.0, 3.0, 7.0, 6.0, 7.0, 4.0, 6.0, 7.0, 10.0, 4.0, 4.0, -1.0, 3.0, 6.0, 5.0, 1.0, 8.0, 5.0, 6.0, 4.0, 3.0, 7.0, 5.0, 6.0, -0.0, 4.0, 6.0, 4.0, 4.0, 1.0, 2.0, 6.0, 4.0, 5.0, 4.0, 3.0, 5.0, 6.0, 5.0, 11.0, 5.0, 6.0, 2.0, 10.0, 6.0, 5.0, 1.0, 6.0, 6.0, 6.0, 3.0, 7.0, 3.0, 3.0, 4.0, 4.0, 7.0, 8.0, 5.0, 4.0, 4.0, 7.0, 5.0, 6.0, 6.0, 8.0, 4.0, 4.0, 5.0, 9.0, 6.0, 3.0, 6.0, 4.0, 11.0, 6.0, 7.0, 6.0, 7.0, 7.0, 4.0, 6.0, 7.0, 5.0, 8.0, 10.0, 5.0, 7.0, 7.0, 3.0, 8.0, 5.0, 4.0, 5.0, 10.0, 4.0, 6.0, 5.0, 8.0, 7.0, 4.0, 6.0, 5.0, 5.0, 6.0, 3.0, 6.0, 8.0, 5.0, 4.0, 4.0, 9.0, 3.0, 3.0, 5.0, 6.0, 5.0, 7.0, 5.0, 9.0, 5.0, 2.0, 7.0, 3.0, 7.0, 3.0, 5.0, 5.0, 2.0, 4.0, 6.0, 5.0, 5.0, 5.0, 3.0, 3.0, 4.0, 7.0, 7.0, 4.0, 2.0, 3.0, 6.0, 5.0, 3.0, 6.0, 5.0, 3.0, 7.0, 6.0, 2.0, 6.0, 3.0, 7.0, 7.0, 2.0, 6.0, 3.0, 6.0, 5.0, 2.0, 5.0, 4.0, 8.0, 6.0, 4.0, 4.0, 2.0, 7.0, 6.0, 8.0, 4.0, 3.0, 10.0, 11.0, 9.0, 3.0, 5.0, 7.0, 4.0, 6.0, 8.0, 5.0, 4.0, 4.0, 9.0, 3.0, 7.0, 4.0, 7.0, 6.0, 6.0, 5.0, 13.0, 7.0, 3.0, 1.0, 5.0, 4.0, 7.0, 6.0, 4.0, 5.0, 6.0, 7.0, 8.0, 6.0, 2.0, 2.0, 8.0, 6.0, 4.0, 6.0, 3.0, 6.0, 7.0, 2.0, 9.0, 6.0, 6.0, 6.0, 7.0, 4.0, 4.0, 8.0, 5.0, 6.0, 5.0, 5.0, 6.0, 3.0, 3.0, 7.0, 4.0, 9.0, 7.0, 7.0, 5.0, 3.0, 6.0, 6.0, 4.0, 7.0, 6.0, 3.0, 6.0, 8.0, 4.0, 9.0, 3.0, 6.0, 1.0, 3.0, 6.0, 3.0, 6.0, 10.0, 6.0, 6.0, 6.0, 7.0, 7.0, 4.0, 4.0, 4.0, 4.0, 7.0, 2.0, 8.0, 7.0, 6.0, 6.0, 6.0, 4.0, 7.0, 7.0, 7.0, 6.0, 2.0, 4.0, 4.0, 6.0, 6.0, 4.0, 8.0, 7.0, 8.0, 5.0, 6.0]\n",
      "[4600.0, 7300.0, 3400.0, 6500.0, 5100.0, 4900.0, 5000.0, 6500.0, 5800.0, 3000.0, 6400.0, 6100.0, 6400.0, 6400.0, 7900.0, 8200.0, 9300.0, 5400.0, 4100.0, 5700.0, 8600.0, 3300.0, 5100.0, 7100.0, 6100.0, 5500.0, 4700.0, 7200.0, 3100.0, 10500.0, 3400.0, 10400.0, 6600.0, 4600.0, 7300.0, 4500.0, 4500.0, 7500.0, 8100.0, 5300.0, 4500.0, 7600.0, 5900.0, 3700.0, 6100.0, 7900.0, 6500.0, 7700.0, 5900.0, 2600.0, 6000.0, 6100.0, 4500.0, 5100.0, 6600.0, 9500.0, 8000.0, 3600.0, 2600.0, 4200.0, 7400.0, 5600.0, 5700.0, 8300.0, 2000.0, 3300.0, 5200.0, 5700.0, 7900.0, 7300.0, 4900.0, 600.0, 10400.0, 4700.0, 1400.0, 5100.0, 2700.0, 6500.0, 3300.0, 5300.0, 2000.0, 6900.0, 8800.0, 7700.0, 8300.0, 4200.0, 4800.0, 5300.0, 3200.0, 6500.0, 6100.0, 5700.0, 5600.0, 3800.0, 3100.0, 8100.0, 7800.0, 3600.0, 5200.0, 4200.0, 9000.0, 3800.0, 4900.0, 6900.0, 3200.0, 3400.0, 7900.0, 3400.0, 8400.0, 8600.0, 2600.0, 8800.0, 7700.0, 2700.0, 6300.0, 5600.0, 4800.0, 2500.0, 4700.0, 6300.0, 6300.0, 7800.0, 4000.0, 4700.0, 1800.0, 3900.0, 3100.0, 6900.0, 2200.0, 5900.0, 10000.0, 900.0, 3000.0, 3700.0, 7800.0, 8300.0, 2000.0, 2500.0, 800.0, 3100.0, 7400.0, 8000.0, 1500.0, 6700.0, 4300.0, 5500.0, 3900.0, 4900.0, 7000.0, 5300.0, 6100.0, 3300.0, 8600.0, 3900.0, 8000.0, 8100.0, 9300.0, 5700.0, 6700.0, 4500.0, 9100.0, 3100.0, 8300.0, 5700.0, 5200.0, 4900.0, 3000.0, 1900.0, 6200.0, 5900.0, 8900.0, 4300.0, 7100.0, 5900.0, 7000.0, 4900.0, 4000.0, 8000.0, 3800.0, 5000.0, 5000.0, 5000.0, 4500.0, 3200.0, 6600.0, 3900.0, 7400.0, 3200.0, 6000.0, 3200.0, 2900.0, 600.0, 5900.0, 8300.0, 4900.0, 10500.0, 5400.0, 1600.0, 8000.0, 6700.0, 5400.0, 4300.0, 4800.0, 6700.0, 5600.0, 3700.0, 7300.0, 5400.0, 8100.0, 2900.0, 2700.0, 6700.0, 4800.0, 6800.0, 6200.0, 3200.0, 3600.0, 7100.0, 7000.0, 5700.0, 5900.0, 6400.0, 5300.0, 9000.0, 3400.0, 5400.0, 6500.0, 9300.0, 6600.0, 5200.0, 5600.0, 6900.0, 2800.0, 2200.0, 1900.0, 6700.0, 4700.0, 4800.0, 2800.0, 4800.0, 700.0, 5900.0, 5600.0, 4400.0, 4500.0, 4300.0, 6500.0, 3600.0, 9000.0, 9400.0, 2400.0, 4900.0, 6200.0, 6800.0, 2300.0, 5000.0, 2900.0, 7900.0, 7500.0, 9900.0, 3600.0, 4800.0, 3900.0, 6700.0, 2900.0, 3200.0, 4500.0, 4700.0, 3300.0, 9300.0, 10400.0, 3900.0, 7700.0, 6300.0, 3400.0, 7300.0, 7500.0, 4800.0, 5300.0, 3700.0, 4000.0, 4900.0, 5300.0, 3700.0, 1600.0, 6200.0, 6100.0, 2800.0, 7400.0, 4300.0, 7800.0, 5600.0, 5400.0, 8000.0, 4400.0, 4600.0, 6100.0, 3700.0, 7500.0, 2800.0, 1500.0, 9900.0, 3500.0, 5400.0, 3400.0, 4500.0, 6700.0, 5800.0, 10600.0, 3800.0, 3700.0, 4000.0, 6100.0, 3800.0, 6500.0, 9900.0, 5100.0, 4600.0, 2500.0, 6700.0, 2800.0, 2500.0, 5300.0, 4500.0, 4600.0, 3500.0, 5100.0, 3600.0, 7400.0, 7600.0, 6200.0, 6700.0, 8200.0, 6100.0, 5200.0, 4500.0, 2600.0, 6500.0, 6000.0, 6100.0, 4300.0, 8700.0, 5000.0, 2000.0, 8500.0, 2600.0, 6500.0, 6100.0, 2500.0, 6900.0, 2600.0, 6000.0, 2600.0, 2900.0, 6000.0, 4500.0, 10100.0, 3800.0, 8400.0, 2900.0, 4500.0, 4400.0, 6600.0, 4800.0, 8500.0, 9900.0, 7600.0, 3300.0, 5900.0, 5200.0, 5800.0, 4500.0, 3200.0, 7400.0, 1400.0, 4800.0, 6400.0, 5800.0, 2900.0, 3800.0, 3200.0, 4700.0, 7600.0, 3400.0, 7800.0, 3700.0, 6600.0, 3100.0, 7500.0, 2700.0, 8000.0, 8500.0, 6800.0, 6200.0, 6800.0, 4300.0, 5000.0, 5300.0, 5800.0, 3800.0, 9000.0, 7800.0, 6600.0, 4200.0, 9600.0, 9200.0, 2000.0, 7900.0, 2600.0, 4500.0, 5400.0, 7900.0, 8300.0, 8400.0, 2100.0, 2800.0, 1900.0, 1900.0, 5200.0, 3200.0, 1600.0, 2500.0, 9500.0, 3500.0, 8800.0, 9200.0, 5200.0, 5600.0, 8500.0, 7200.0, 6600.0, 7200.0, 5600.0, 8900.0, 8000.0, 3700.0, 7600.0, 8300.0, 4700.0, 6900.0, 5400.0, 5500.0, 4500.0, 7500.0, 8500.0, 8000.0, 5200.0, 3300.0, 5400.0, 7900.0, 4500.0, 2900.0, 2200.0, 5400.0, 4300.0, 6400.0, 4400.0, 4100.0, 5100.0, 5300.0, 7500.0, 5200.0, 4900.0, 8300.0, 4300.0, 4500.0, 5600.0, 4800.0, 8700.0, 5100.0, 10400.0, 4200.0, 5400.0, 4300.0, 2000.0, 9600.0, 1600.0, 8000.0, 2500.0, 2900.0, 6000.0, 9900.0, 7300.0, 5300.0, 3900.0, 7800.0, 6400.0, 3800.0, 1500.0, 2900.0, 5200.0, 5500.0, 4000.0, 6700.0, 3500.0, 8800.0, 8000.0, 5100.0, 5900.0, 4300.0, 1500.0, 6900.0, 7800.0, 4500.0, 3300.0, 6400.0, 5800.0, 4000.0, 5800.0, 4100.0, 3800.0, 2800.0, 5700.0, 3600.0, 8900.0, 6600.0, 4300.0, 8300.0, 5200.0, 3800.0, 5800.0, 5000.0, 4200.0, 5700.0, 6900.0, 3900.0, 6800.0, 5600.0, 3100.0, 7000.0, 3000.0, 1200.0, 3600.0, 4600.0, 8700.0, 5900.0, 4600.0, 5500.0, 8900.0, 2400.0, 8900.0, 6000.0, 7400.0, 8300.0, 3400.0, 4500.0, 6100.0, 5300.0, 6800.0, 1600.0, 6500.0, 4100.0, 3200.0, 4600.0, 6700.0, 4500.0, 3900.0, 3400.0, 5700.0, 5800.0, 4000.0, 5500.0, 5700.0, 4900.0, 10300.0, 1900.0, 3500.0, 9300.0, 3500.0, 100.0, 2400.0, 1900.0, 3800.0, 5200.0, 5700.0, 7500.0, 4100.0, 2700.0, 6400.0, 5300.0, 8800.0, 4900.0, 4700.0, 9200.0, 5100.0, 6200.0, 6300.0, 5000.0, 6400.0, 7600.0, 5400.0, 10200.0, 7000.0, 4000.0, 6900.0, 4800.0, 3900.0, 2200.0, 3100.0, 3800.0, 7000.0, 3400.0, 5900.0, 6300.0, 6300.0, 3700.0, 2500.0, 3100.0, 4600.0, 5700.0, 4500.0, 9400.0, 5800.0, 3100.0, 8500.0, 3700.0, 5800.0, 8000.0, 10300.0, 4900.0, 6000.0, 4800.0, 3400.0, 4600.0, 3900.0, 5000.0, 4300.0, 4900.0, 7200.0, 3300.0, 6200.0, 6700.0, 5300.0, 9700.0, 1300.0, 6200.0, 4400.0, 4700.0, 8200.0, 2200.0, 8100.0, 6000.0, 7300.0, 6800.0, 3200.0, 6800.0, 1300.0, 7500.0, 2200.0, 1900.0, 6700.0, 6700.0, 3500.0, 7000.0, 3900.0, 9100.0, 5800.0, 8300.0, 4900.0, 5700.0, 6300.0, 2900.0, 7900.0, 5400.0, 5500.0, 6000.0, 6800.0, 5300.0, 6600.0, 5500.0, 5500.0, 3500.0, 4000.0, 6300.0, 4300.0, 3900.0, 4700.0, 5100.0, 4000.0, 7100.0, 2500.0, 4400.0, 1800.0, 6400.0, 7400.0, 4500.0, 6500.0, 8500.0, 3900.0, 6500.0, 7200.0, 6300.0, 6900.0, 4500.0, 8100.0, 2300.0, 7000.0, 6300.0, 5600.0, 7900.0, 2900.0, 6600.0, 5600.0, 7400.0, 4600.0, 4200.0, 5500.0, 4200.0, 5300.0, 2700.0, 9000.0, 5200.0, 4500.0, 7000.0, 8100.0, 6200.0, 1800.0, 8600.0, 4800.0, 1900.0, 4200.0, 6800.0, 8200.0, 6700.0, 800.0, 6700.0, 7800.0, 7100.0, 8800.0, 7000.0, 5500.0, 3200.0, 8300.0, 3100.0, 7400.0, 4600.0, 5800.0, 5900.0, 1700.0, 1500.0, 6900.0, 5700.0, 7900.0, 6700.0, 4700.0, 9900.0, 7900.0, 6600.0, 7400.0, 3100.0, 1400.0, 9800.0, 4100.0, 8300.0, 6600.0, 4600.0, 3800.0, 5500.0, 2200.0, 6200.0, 6900.0, 5700.0, 3700.0, 5600.0, 5200.0, 4500.0, 4500.0, 4200.0, 3800.0, 5500.0, 4700.0, 5600.0, 3300.0, 5600.0, 800.0, 4000.0, 8400.0, 2300.0, 8900.0, 9600.0, 5100.0, 5000.0, 6200.0, 4900.0, 7200.0, 6100.0, 7900.0, 4900.0, 3800.0, 6800.0, 6700.0, 5600.0, 6500.0, 4100.0, 5500.0, 6800.0, 6000.0, 4600.0, 6600.0, 4900.0, 3400.0, 3500.0, 8100.0, 5700.0, 4600.0, 3500.0, 2000.0, 6200.0, 5000.0, 1500.0, 8200.0, 8100.0, 3400.0, 9900.0, 9800.0, 3700.0, 3100.0, 6300.0, 3900.0, 6300.0, 8600.0, 5500.0, 6600.0, 7300.0, 7100.0, 4500.0, 3200.0, 6400.0, 7200.0, 8000.0, 2100.0, 6800.0, 3700.0, 4300.0, 7500.0, 3200.0, 5900.0, 8000.0, 4300.0, 5100.0, 5100.0, 7300.0, 9500.0, 6500.0, 5700.0, 4900.0, 10000.0, 6100.0, 5300.0, 2700.0, 6000.0, 5700.0, 7600.0, 2900.0, 2300.0, 2500.0, 4900.0, 2100.0, 8700.0, 8400.0, 4600.0, 6300.0, 5500.0, 6100.0, 400.0, 1800.0, 5300.0, 6400.0, 7800.0, 1600.0, 2400.0, 6300.0, 2200.0, 7400.0, 6100.0, 5500.0, 5400.0, 7700.0, 6200.0, 1100.0, 7200.0, 3300.0, 8100.0, 8300.0, 3700.0, 3500.0, 5600.0, 7600.0, 5700.0, 200.0, 4100.0, 6500.0, 6600.0, 7800.0, 9000.0, 4900.0, 4800.0, 5000.0, 500.0, 4300.0, 2100.0, 2300.0, 2300.0, 5100.0, 3500.0, 1800.0, 3900.0, 4700.0, 3000.0, 4900.0, 5300.0, 7400.0, 5700.0, 6600.0, 6700.0, 4100.0, 3400.0, 2600.0, 4700.0, 5500.0, 4800.0, 1500.0, 5400.0, 1400.0, 4500.0, 4800.0, 100.0, 7700.0, 3000.0, 3600.0, 3700.0, 3700.0, 2800.0, 9000.0, 1400.0, 1700.0, 2500.0, 4200.0, 1900.0, 5800.0, 5100.0, 4000.0, 6600.0, 5900.0, 7200.0, 800.0, 6600.0, 4300.0, 8000.0, 5200.0, 6000.0, 7900.0, 4900.0, 2600.0, 6000.0, 6200.0, 5800.0, 3100.0, 5100.0, 2400.0, 3700.0, 5200.0, 6500.0, 6200.0, 7700.0, 7700.0, 4600.0, 2700.0, 8700.0, 4900.0, 3100.0, 3800.0, 7800.0, 4200.0, 6100.0, 5200.0, 7100.0, 2900.0, 7800.0, 3700.0, 5600.0, 8500.0, 6900.0, 3400.0, 7800.0, 2400.0, 3400.0, 2100.0, 3000.0, 9200.0, 4400.0, 6200.0, 7900.0, 5600.0, 7000.0, 4500.0, 3600.0, 8800.0, 7400.0, 4700.0]\n",
      "  Btype  Age  HealthyEating  ActiveLifestyle  Income\n",
      "0     O   54              3              7.0  4600.0\n",
      "1    AB   59              8              5.0  7300.0\n",
      "2     O   43              5              4.0  3400.0\n",
      "3     A   49              4              1.0  6500.0\n"
     ]
    },
    {
     "name": "stdout",
     "output_type": "stream",
     "text": [
      "4    AB   32              4              3.0  5100.0\n",
      "    Btype  Age  HealthyEating  ActiveLifestyle   Income\n",
      "0       O   54              3              7.0   4600.0\n",
      "1      AB   59              8              5.0   7300.0\n",
      "2       O   43              5              4.0   3400.0\n",
      "3       A   49              4              1.0   6500.0\n",
      "4      AB   32              4              3.0   5100.0\n",
      "5       B   63              7              3.0   4900.0\n",
      "6       A   63              8             10.0   5000.0\n",
      "7       O   38              3              3.0   6500.0\n",
      "8       O   64              2              6.0   5800.0\n",
      "9       B   47              0              5.0   3000.0\n",
      "10      O   26              6             11.0   6400.0\n",
      "11      A   27              4              7.0   6100.0\n",
      "12      B   64              4              6.0   6400.0\n",
      "13      A   46              7              6.0   6400.0\n",
      "14      A   57              8              7.0   7900.0\n",
      "15      B   48              7              6.0   8200.0\n",
      "16      A   27              8              4.0   9300.0\n",
      "17      O   63              8              3.0   5400.0\n",
      "18      A   20              6              7.0   4100.0\n",
      "19      A   43              8              4.0   5700.0\n",
      "20      O   19              9              6.0   8600.0\n",
      "21      O   41              0              4.0   3300.0\n",
      "22      A   31              0              4.0   5100.0\n",
      "23      O   20              9              5.0   7100.0\n",
      "24      B   32              6              6.0   6100.0\n",
      "25      A   43              3              7.0   5500.0\n",
      "26      B   54              1              8.0   4700.0\n",
      "27      B   24              7             10.0   7200.0\n",
      "28      B   22              1              2.0   3100.0\n",
      "29      O   56              8              1.0  10500.0\n",
      "..    ...  ...            ...              ...      ...\n",
      "970    AB   63              5              6.0   3100.0\n",
      "971     O   34              2              7.0   3800.0\n",
      "972     A   43              8              7.0   7800.0\n",
      "973    AB   63              1              4.0   4200.0\n",
      "974     O   49              1              4.0   6100.0\n",
      "975     O   43              7              4.0   5200.0\n",
      "976     A   24              9              4.0   7100.0\n",
      "977     A   59              4              7.0   2900.0\n",
      "978     A   53              4              2.0   7800.0\n",
      "979    AB   19              1              8.0   3700.0\n",
      "980     O   33              8              7.0   5600.0\n",
      "981     B   30              7              6.0   8500.0\n",
      "982     O   29              6              6.0   6900.0\n",
      "983     B   34              0              6.0   3400.0\n",
      "984     A   38              8              4.0   7800.0\n",
      "985     A   59              1              7.0   2400.0\n",
      "986     O   37              3              7.0   3400.0\n",
      "987     O   27              2              7.0   2100.0\n",
      "988     O   55              4              6.0   3000.0\n",
      "989     O   32              8              2.0   9200.0\n",
      "990    AB   62              3              4.0   4400.0\n",
      "991     O   29              5              4.0   6200.0\n",
      "992     A   35              7              6.0   7900.0\n",
      "993     O   47              6              6.0   5600.0\n",
      "994    AB   47              9              4.0   7000.0\n",
      "995     B   55              8              8.0   4500.0\n",
      "996     A   65              0              7.0   3600.0\n",
      "997     B   18              9              8.0   8800.0\n",
      "998     A   42              8              5.0   7400.0\n",
      "999     O   33              7              6.0   4700.0\n",
      "\n",
      "[1000 rows x 5 columns]\n",
      "               Age  HealthyEating  ActiveLifestyle        Income\n",
      "count  1000.000000    1000.000000      1000.000000   1000.000000\n",
      "mean     41.487000       4.525000         5.254000   5385.600000\n",
      "std      13.891753       2.882305         2.108537   2119.642783\n",
      "min      18.000000       0.000000        -1.000000    100.000000\n",
      "25%      30.000000       2.000000         4.000000   3800.000000\n",
      "50%      41.000000       4.000000         5.000000   5300.000000\n",
      "75%      53.000000       7.000000         7.000000   6800.000000\n",
      "max      65.000000       9.000000        13.000000  10600.000000\n",
      "Parse progress: |█████████████████████████████████████████████████████████| 100%\n"
     ]
    },
    {
     "ename": "PermissionError",
     "evalue": "[WinError 32] The process cannot access the file because it is being used by another process: 'C:\\\\Users\\\\ANOGUE~1.SAN\\\\AppData\\\\Local\\\\Temp\\\\tmp7i1lc_ro.csv'",
     "output_type": "error",
     "traceback": [
      "\u001b[1;31m---------------------------------------------------------------------------\u001b[0m",
      "\u001b[1;31mPermissionError\u001b[0m                           Traceback (most recent call last)",
      "\u001b[1;32m<ipython-input-29-68b6c30f52b3>\u001b[0m in \u001b[0;36m<module>\u001b[1;34m\u001b[0m\n\u001b[0;32m     60\u001b[0m \u001b[0mprint\u001b[0m\u001b[1;33m(\u001b[0m\u001b[0mpeopleDF\u001b[0m\u001b[1;33m.\u001b[0m\u001b[0mdescribe\u001b[0m\u001b[1;33m(\u001b[0m\u001b[1;33m)\u001b[0m\u001b[1;33m)\u001b[0m\u001b[1;33m\u001b[0m\u001b[1;33m\u001b[0m\u001b[0m\n\u001b[0;32m     61\u001b[0m \u001b[1;33m\u001b[0m\u001b[0m\n\u001b[1;32m---> 62\u001b[1;33m \u001b[0mhf\u001b[0m \u001b[1;33m=\u001b[0m \u001b[0mh2o\u001b[0m\u001b[1;33m.\u001b[0m\u001b[0mH2OFrame\u001b[0m\u001b[1;33m(\u001b[0m\u001b[0mpeopleDF\u001b[0m\u001b[1;33m,\u001b[0m \u001b[0mdestination_frame\u001b[0m \u001b[1;33m=\u001b[0m \u001b[1;34m\"people\"\u001b[0m\u001b[1;33m)\u001b[0m\u001b[1;33m\u001b[0m\u001b[1;33m\u001b[0m\u001b[0m\n\u001b[0m",
      "\u001b[1;32m~\\AppData\\Local\\Continuum\\anaconda3\\lib\\site-packages\\h2o\\frame.py\u001b[0m in \u001b[0;36m__init__\u001b[1;34m(self, python_obj, destination_frame, header, separator, column_names, column_types, na_strings, skipped_columns)\u001b[0m\n\u001b[0;32m    104\u001b[0m         \u001b[1;32mif\u001b[0m \u001b[0mpython_obj\u001b[0m \u001b[1;32mis\u001b[0m \u001b[1;32mnot\u001b[0m \u001b[1;32mNone\u001b[0m\u001b[1;33m:\u001b[0m\u001b[1;33m\u001b[0m\u001b[1;33m\u001b[0m\u001b[0m\n\u001b[0;32m    105\u001b[0m             self._upload_python_object(python_obj, destination_frame, header, separator,\n\u001b[1;32m--> 106\u001b[1;33m                                        column_names, column_types, na_strings, skipped_columns)\n\u001b[0m\u001b[0;32m    107\u001b[0m \u001b[1;33m\u001b[0m\u001b[0m\n\u001b[0;32m    108\u001b[0m     \u001b[1;33m@\u001b[0m\u001b[0mstaticmethod\u001b[0m\u001b[1;33m\u001b[0m\u001b[1;33m\u001b[0m\u001b[0m\n",
      "\u001b[1;32m~\\AppData\\Local\\Continuum\\anaconda3\\lib\\site-packages\\h2o\\frame.py\u001b[0m in \u001b[0;36m_upload_python_object\u001b[1;34m(self, python_obj, destination_frame, header, separator, column_names, column_types, na_strings, skipped_columns)\u001b[0m\n\u001b[0;32m    146\u001b[0m         \u001b[0mtmp_file\u001b[0m\u001b[1;33m.\u001b[0m\u001b[0mclose\u001b[0m\u001b[1;33m(\u001b[0m\u001b[1;33m)\u001b[0m  \u001b[1;31m# close the streams\u001b[0m\u001b[1;33m\u001b[0m\u001b[1;33m\u001b[0m\u001b[0m\n\u001b[0;32m    147\u001b[0m         \u001b[0mself\u001b[0m\u001b[1;33m.\u001b[0m\u001b[0m_upload_parse\u001b[0m\u001b[1;33m(\u001b[0m\u001b[0mtmp_path\u001b[0m\u001b[1;33m,\u001b[0m \u001b[0mdestination_frame\u001b[0m\u001b[1;33m,\u001b[0m \u001b[1;36m1\u001b[0m\u001b[1;33m,\u001b[0m \u001b[0mseparator\u001b[0m\u001b[1;33m,\u001b[0m \u001b[0mcolumn_names\u001b[0m\u001b[1;33m,\u001b[0m \u001b[0mcolumn_types\u001b[0m\u001b[1;33m,\u001b[0m \u001b[0mna_strings\u001b[0m\u001b[1;33m,\u001b[0m \u001b[0mskipped_columns\u001b[0m\u001b[1;33m)\u001b[0m\u001b[1;33m\u001b[0m\u001b[1;33m\u001b[0m\u001b[0m\n\u001b[1;32m--> 148\u001b[1;33m         \u001b[0mos\u001b[0m\u001b[1;33m.\u001b[0m\u001b[0mremove\u001b[0m\u001b[1;33m(\u001b[0m\u001b[0mtmp_path\u001b[0m\u001b[1;33m)\u001b[0m  \u001b[1;31m# delete the tmp file\u001b[0m\u001b[1;33m\u001b[0m\u001b[1;33m\u001b[0m\u001b[0m\n\u001b[0m\u001b[0;32m    149\u001b[0m \u001b[1;33m\u001b[0m\u001b[0m\n\u001b[0;32m    150\u001b[0m \u001b[1;33m\u001b[0m\u001b[0m\n",
      "\u001b[1;31mPermissionError\u001b[0m: [WinError 32] The process cannot access the file because it is being used by another process: 'C:\\\\Users\\\\ANOGUE~1.SAN\\\\AppData\\\\Local\\\\Temp\\\\tmp7i1lc_ro.csv'"
     ]
    }
   ],
   "source": [
    "import random\n",
    "\n",
    "h2o.init()\n",
    "\n",
    "#generating a random data set\n",
    "random.seed(123)\n",
    "SampleSize = 1000\n",
    "\n",
    "bloodTypes= ['A','AB','B','O','A','B','AB','O','A','O'];\n",
    "bloodTypeList=[]\n",
    "for i in range (SampleSize):\n",
    "    bloodTypeList.append(bloodTypes[random.randrange(0, 10, 1)])\n",
    "print(bloodTypeList)\n",
    "    \n",
    "    \n",
    "    \n",
    "ageList = []\n",
    "for i in range (SampleSize):\n",
    "    ageList.append(random.randrange(18, 66, 1))\n",
    "    \n",
    "print (ageList)\n",
    "\n",
    "healthyEating= []\n",
    "\n",
    "for i in range (SampleSize):\n",
    "    healthyEating.append(random.randrange(0, 10,1))\n",
    "print (healthyEating)\n",
    "\n",
    "activeLivestyle = []\n",
    "for i in range (SampleSize):\n",
    "    activVar = round(np.random.normal(loc=5, scale=2, size=None),0)\n",
    "    if(ageList[i] <30):\n",
    "        activVar += 1\n",
    "    activeLivestyle.append(activVar)\n",
    "print (activeLivestyle)\n",
    "    \n",
    "incomeList = []\n",
    "for i in range (SampleSize):\n",
    "    incomeVar = 2000 + (ageList[i] *3)^2\n",
    "    incomeVar +=(healthyEating[i]*500)\n",
    "    incomeVar -=(activeLivestyle[i]*300)\n",
    "    \n",
    "    # ADD Random noise\n",
    "    incomeVar += random.randrange(0, 5001,1)\n",
    "    incomeVar = round(incomeVar,-2)\n",
    "#    activVar = round(np.random.normal(loc=5, scale=2, size=None),0)\n",
    "#    if(ageList[i] <30):\n",
    "#        activVar += 1\n",
    "    incomeList.append(incomeVar)\n",
    "print (incomeList)\n",
    "\n",
    " \n",
    " \n",
    "peopleDF = pd.DataFrame(list(zip(bloodTypeList, ageList, healthyEating,activeLivestyle,incomeList)))\n",
    "\n",
    "peopleDF.columns =['Btype','Age','HealthyEating','ActiveLifestyle','Income']\n",
    "\n",
    "print(peopleDF.head())  \n",
    "print(peopleDF)\n",
    "print(peopleDF.describe())\n",
    "\n",
    "hf = h2o.H2OFrame(peopleDF, destination_frame = \"people\")"
   ]
  },
  {
   "cell_type": "code",
   "execution_count": 30,
   "metadata": {},
   "outputs": [
    {
     "data": {
      "text/html": [
       "<table>\n",
       "<thead>\n",
       "<tr><th>Btype  </th><th style=\"text-align: right;\">  Age</th><th style=\"text-align: right;\">  HealthyEating</th><th style=\"text-align: right;\">  ActiveLifestyle</th><th style=\"text-align: right;\">  Income</th></tr>\n",
       "</thead>\n",
       "<tbody>\n",
       "<tr><td>O      </td><td style=\"text-align: right;\">   54</td><td style=\"text-align: right;\">              3</td><td style=\"text-align: right;\">                7</td><td style=\"text-align: right;\">    4600</td></tr>\n",
       "<tr><td>AB     </td><td style=\"text-align: right;\">   59</td><td style=\"text-align: right;\">              8</td><td style=\"text-align: right;\">                5</td><td style=\"text-align: right;\">    7300</td></tr>\n",
       "<tr><td>O      </td><td style=\"text-align: right;\">   43</td><td style=\"text-align: right;\">              5</td><td style=\"text-align: right;\">                4</td><td style=\"text-align: right;\">    3400</td></tr>\n",
       "<tr><td>A      </td><td style=\"text-align: right;\">   49</td><td style=\"text-align: right;\">              4</td><td style=\"text-align: right;\">                1</td><td style=\"text-align: right;\">    6500</td></tr>\n",
       "<tr><td>AB     </td><td style=\"text-align: right;\">   32</td><td style=\"text-align: right;\">              4</td><td style=\"text-align: right;\">                3</td><td style=\"text-align: right;\">    5100</td></tr>\n",
       "<tr><td>B      </td><td style=\"text-align: right;\">   63</td><td style=\"text-align: right;\">              7</td><td style=\"text-align: right;\">                3</td><td style=\"text-align: right;\">    4900</td></tr>\n",
       "<tr><td>A      </td><td style=\"text-align: right;\">   63</td><td style=\"text-align: right;\">              8</td><td style=\"text-align: right;\">               10</td><td style=\"text-align: right;\">    5000</td></tr>\n",
       "<tr><td>O      </td><td style=\"text-align: right;\">   38</td><td style=\"text-align: right;\">              3</td><td style=\"text-align: right;\">                3</td><td style=\"text-align: right;\">    6500</td></tr>\n",
       "<tr><td>O      </td><td style=\"text-align: right;\">   64</td><td style=\"text-align: right;\">              2</td><td style=\"text-align: right;\">                6</td><td style=\"text-align: right;\">    5800</td></tr>\n",
       "<tr><td>B      </td><td style=\"text-align: right;\">   47</td><td style=\"text-align: right;\">              0</td><td style=\"text-align: right;\">                5</td><td style=\"text-align: right;\">    3000</td></tr>\n",
       "</tbody>\n",
       "</table>"
      ]
     },
     "metadata": {},
     "output_type": "display_data"
    },
    {
     "data": {
      "text/plain": []
     },
     "execution_count": 30,
     "metadata": {},
     "output_type": "execute_result"
    }
   ],
   "source": [
    "hf.head()"
   ]
  },
  {
   "cell_type": "markdown",
   "metadata": {},
   "source": [
    "# Split data into train, test and validation sets\n",
    "We will be using validation tests because we usually train our models such that we maximize the accuracy in the test set. By doing so, we are overfitting our model to the test set. To solve it, we could use an additional partition of the data: the validation set.\n",
    "However, an alternative to the validation set is Coss Validation, as we will be taking random partitions of the data and hence taking several tests sets in our analysis."
   ]
  },
  {
   "cell_type": "code",
   "execution_count": 31,
   "metadata": {},
   "outputs": [],
   "source": [
    "# Import the data from the server\n",
    "people = h2o.get_frame(\"people\")"
   ]
  },
  {
   "cell_type": "code",
   "execution_count": 32,
   "metadata": {},
   "outputs": [],
   "source": [
    "train, valid, test = people.split_frame(\n",
    "    ratios = [0.8, 0.1],\n",
    "    destination_frames = [\"people_train\", \"people_valid\", \"people_test\"],\n",
    "    seed = 123\n",
    "    )"
   ]
  },
  {
   "cell_type": "code",
   "execution_count": 33,
   "metadata": {},
   "outputs": [
    {
     "name": "stdout",
     "output_type": "stream",
     "text": [
      "788/118/94\n"
     ]
    }
   ],
   "source": [
    "print(\"%d/%d/%d\" % (train.nrows, valid.nrows, test.nrows))"
   ]
  },
  {
   "cell_type": "markdown",
   "metadata": {},
   "source": [
    "# A GBM on the artificial data"
   ]
  },
  {
   "cell_type": "code",
   "execution_count": 34,
   "metadata": {},
   "outputs": [],
   "source": [
    "train = h2o.get_frame(\"people_train\")\n",
    "valid = h2o.get_frame(\"people_valid\")\n",
    "test = h2o.get_frame(\"people_test\")"
   ]
  },
  {
   "cell_type": "code",
   "execution_count": 35,
   "metadata": {},
   "outputs": [],
   "source": [
    "from h2o.estimators.gbm import H2OGradientBoostingEstimator"
   ]
  },
  {
   "cell_type": "code",
   "execution_count": 36,
   "metadata": {},
   "outputs": [
    {
     "name": "stdout",
     "output_type": "stream",
     "text": [
      "['Btype', 'Age', 'HealthyEating', 'ActiveLifestyle']\n"
     ]
    }
   ],
   "source": [
    "y = 'Income'\n",
    "ignoreFields = [y, \"id\"]\n",
    "x = [i for i in train.names if i not in ignoreFields]\n",
    "print(x)"
   ]
  },
  {
   "cell_type": "code",
   "execution_count": 37,
   "metadata": {},
   "outputs": [
    {
     "name": "stdout",
     "output_type": "stream",
     "text": [
      "gbm Model Build progress: |███████████████████████████████████████████████| 100%\n"
     ]
    }
   ],
   "source": [
    "ml = H2OGradientBoostingEstimator(model_id = \"defaults\")\n",
    "ml.train(x, y, train, validation_frame = valid)"
   ]
  },
  {
   "cell_type": "code",
   "execution_count": 38,
   "metadata": {},
   "outputs": [
    {
     "data": {
      "text/plain": [
       "996.6777320513265"
      ]
     },
     "execution_count": 38,
     "metadata": {},
     "output_type": "execute_result"
    }
   ],
   "source": [
    "ml.mae(train=True)"
   ]
  },
  {
   "cell_type": "code",
   "execution_count": 40,
   "metadata": {},
   "outputs": [
    {
     "data": {
      "text/plain": [
       "1315.786854524846"
      ]
     },
     "execution_count": 40,
     "metadata": {},
     "output_type": "execute_result"
    }
   ],
   "source": [
    "ml.mae(valid=True)\n",
    "# And on the test set\n",
    "perf = ml.model_performance(test)\n",
    "perf.mae()"
   ]
  },
  {
   "cell_type": "markdown",
   "metadata": {},
   "source": [
    "Deliberately overfitting our model (specifying ntrees to 1000 and a max depth of 10)"
   ]
  },
  {
   "cell_type": "code",
   "execution_count": 41,
   "metadata": {},
   "outputs": [
    {
     "name": "stdout",
     "output_type": "stream",
     "text": [
      "gbm Model Build progress: |███████████████████████████████████████████████| 100%\n"
     ]
    }
   ],
   "source": [
    "m2 = H2OGradientBoostingEstimator(model_id = \"overfit\",\n",
    "                                 ntrees = 1000,\n",
    "                                 max_depth = 10)\n",
    "m2.train(x, y, train, validation_frame = valid)"
   ]
  },
  {
   "cell_type": "code",
   "execution_count": 46,
   "metadata": {},
   "outputs": [
    {
     "name": "stdout",
     "output_type": "stream",
     "text": [
      "Train: 996 --> 275\n",
      "Valid: 1213 --> 1397\n",
      "Test: 1315 --> 1513\n"
     ]
    }
   ],
   "source": [
    "print(\"Train: %d --> %d\" % (ml.mae(train=True), m2.mae(train=True)))\n",
    "print(\"Valid: %d --> %d\" % (ml.mae(valid=True), m2.mae(valid=True)))\n",
    "print(\"Test: %d --> %d\" % (perf.mae(), m2.model_performance(test).mae()))"
   ]
  },
  {
   "cell_type": "markdown",
   "metadata": {},
   "source": [
    "We can clearly see that with 1000 trees and a max depth of 10, we are overfitting. The estimation error goes up in the test and validation set."
   ]
  },
  {
   "cell_type": "markdown",
   "metadata": {},
   "source": [
    "# Cross Validation"
   ]
  },
  {
   "cell_type": "code",
   "execution_count": 47,
   "metadata": {},
   "outputs": [],
   "source": [
    "# We need to re-split the data as we'll be no more using a validation set\n",
    "train, test = people.split_frame(\n",
    "    ratios = [0.897],\n",
    "    destination_frames = [\"people_train\", \"people_test\"],\n",
    "    seed = 123)"
   ]
  },
  {
   "cell_type": "code",
   "execution_count": 55,
   "metadata": {},
   "outputs": [
    {
     "name": "stdout",
     "output_type": "stream",
     "text": [
      "gbm Model Build progress: |███████████████████████████████████████████████| 100%\n"
     ]
    }
   ],
   "source": [
    "m3 = H2OGradientBoostingEstimator(model_id = \"def9folds\", nfolds = 9)\n",
    "m3.train(x, y, train)"
   ]
  },
  {
   "cell_type": "code",
   "execution_count": 49,
   "metadata": {},
   "outputs": [
    {
     "data": {
      "text/plain": [
       "999.1829014756944"
      ]
     },
     "execution_count": 49,
     "metadata": {},
     "output_type": "execute_result"
    }
   ],
   "source": [
    "m3.mae(train=True)"
   ]
  },
  {
   "cell_type": "code",
   "execution_count": 51,
   "metadata": {},
   "outputs": [
    {
     "data": {
      "text/plain": [
       "1274.763231970931"
      ]
     },
     "execution_count": 51,
     "metadata": {},
     "output_type": "execute_result"
    }
   ],
   "source": [
    "m3.mae(xval=True)"
   ]
  },
  {
   "cell_type": "code",
   "execution_count": 53,
   "metadata": {},
   "outputs": [
    {
     "data": {
      "text/plain": [
       "1276.102243428479"
      ]
     },
     "execution_count": 53,
     "metadata": {},
     "output_type": "execute_result"
    }
   ],
   "source": [
    "perf = m3.model_performance(test)\n",
    "perf.mae()"
   ]
  },
  {
   "cell_type": "code",
   "execution_count": null,
   "metadata": {},
   "outputs": [],
   "source": []
  }
 ],
 "metadata": {
  "kernelspec": {
   "display_name": "Python 3",
   "language": "python",
   "name": "python3"
  },
  "language_info": {
   "codemirror_mode": {
    "name": "ipython",
    "version": 3
   },
   "file_extension": ".py",
   "mimetype": "text/x-python",
   "name": "python",
   "nbconvert_exporter": "python",
   "pygments_lexer": "ipython3",
   "version": "3.7.1"
  }
 },
 "nbformat": 4,
 "nbformat_minor": 2
}
