{
 "cells": [
  {
   "cell_type": "code",
   "execution_count": 1,
   "metadata": {},
   "outputs": [
    {
     "name": "stdout",
     "output_type": "stream",
     "text": [
      "Checking whether there is an H2O instance running at http://localhost:54321 . connected.\n"
     ]
    },
    {
     "data": {
      "text/html": [
       "<div style=\"overflow:auto\"><table style=\"width:50%\"><tr><td>H2O cluster uptime:</td>\n",
       "<td>12 mins 22 secs</td></tr>\n",
       "<tr><td>H2O cluster timezone:</td>\n",
       "<td>Europe/Paris</td></tr>\n",
       "<tr><td>H2O data parsing timezone:</td>\n",
       "<td>UTC</td></tr>\n",
       "<tr><td>H2O cluster version:</td>\n",
       "<td>3.24.0.1</td></tr>\n",
       "<tr><td>H2O cluster version age:</td>\n",
       "<td>7 days, 21 hours and 37 minutes </td></tr>\n",
       "<tr><td>H2O cluster name:</td>\n",
       "<td>H2O_from_python_a_nogue_sanchez_axv9ns</td></tr>\n",
       "<tr><td>H2O cluster total nodes:</td>\n",
       "<td>1</td></tr>\n",
       "<tr><td>H2O cluster free memory:</td>\n",
       "<td>3.363 Gb</td></tr>\n",
       "<tr><td>H2O cluster total cores:</td>\n",
       "<td>4</td></tr>\n",
       "<tr><td>H2O cluster allowed cores:</td>\n",
       "<td>4</td></tr>\n",
       "<tr><td>H2O cluster status:</td>\n",
       "<td>locked, healthy</td></tr>\n",
       "<tr><td>H2O connection url:</td>\n",
       "<td>http://localhost:54321</td></tr>\n",
       "<tr><td>H2O connection proxy:</td>\n",
       "<td>None</td></tr>\n",
       "<tr><td>H2O internal security:</td>\n",
       "<td>False</td></tr>\n",
       "<tr><td>H2O API Extensions:</td>\n",
       "<td>Amazon S3, Algos, AutoML, Core V3, Core V4</td></tr>\n",
       "<tr><td>Python version:</td>\n",
       "<td>3.7.1 final</td></tr></table></div>"
      ],
      "text/plain": [
       "--------------------------  ------------------------------------------\n",
       "H2O cluster uptime:         12 mins 22 secs\n",
       "H2O cluster timezone:       Europe/Paris\n",
       "H2O data parsing timezone:  UTC\n",
       "H2O cluster version:        3.24.0.1\n",
       "H2O cluster version age:    7 days, 21 hours and 37 minutes\n",
       "H2O cluster name:           H2O_from_python_a_nogue_sanchez_axv9ns\n",
       "H2O cluster total nodes:    1\n",
       "H2O cluster free memory:    3.363 Gb\n",
       "H2O cluster total cores:    4\n",
       "H2O cluster allowed cores:  4\n",
       "H2O cluster status:         locked, healthy\n",
       "H2O connection url:         http://localhost:54321\n",
       "H2O connection proxy:\n",
       "H2O internal security:      False\n",
       "H2O API Extensions:         Amazon S3, Algos, AutoML, Core V3, Core V4\n",
       "Python version:             3.7.1 final\n",
       "--------------------------  ------------------------------------------"
      ]
     },
     "metadata": {},
     "output_type": "display_data"
    },
    {
     "name": "stdout",
     "output_type": "stream",
     "text": [
      "Parse progress: |█████████████████████████████████████████████████████████| 100%\n",
      "gbm Model Build progress: |███████████████████████████████████████████████| 100%\n",
      "gbm Model Build progress: |███████████████████████████████████████████████| 100%\n",
      "Train: 1292 --> 211\n",
      "Valid: 1920 --> 2213\n",
      " Test: 2076 --> 1940\n"
     ]
    }
   ],
   "source": [
    "import h2o\n",
    "import numpy as np\n",
    "import pandas as pd\n",
    "import matplotlib.pyplot as plt\n",
    "import random\n",
    "from h2o.estimators.gbm import H2OGradientBoostingEstimator\n",
    "\n",
    "h2o.init()\n",
    "\n",
    "# referencing for python code: https://github.com/istrategy/H2O-Course-Week-2-Artificial-Data-Sets-Python/blob/master/coursera6.py\n",
    "# note: took reference from above transcribing R into Python from the lecture--modified data to look at PhD students in the data science industry, mostly influenced by age and school tier\n",
    "\n",
    "random.seed(12234516)\n",
    "sample_size = 150\n",
    "\n",
    "age_list = []\n",
    "for i in range(sample_size):\n",
    "    # assume only PhD graduates... start from age 25\n",
    "    age_list.append(random.randrange(25, 66, 1))\n",
    "\n",
    "school_tier_list = []\n",
    "for i in range(sample_size):\n",
    "    # assume only from schools in the top 500\n",
    "    school_tier_list.append(random.randrange(1, 501, 1))\n",
    "    \n",
    "income_list = []\n",
    "for i in range(sample_size):\n",
    "    income_var = 80000 + round((20000 * age_list[i] / 12))^16\n",
    "    income_var += (500 - school_tier_list[i]) * 100\n",
    "    \n",
    "    # adding random noise\n",
    "    income_var += random.randrange(0, 4001, 1)\n",
    "    income_var = round(income_var, -2)\n",
    "    income_list.append(income_var)\n",
    " \n",
    "peopleDF = pd.DataFrame(list(zip(age_list, school_tier_list, income_list)))\n",
    "peopleDF.columns =['Age', 'School Tier', 'Income']\n",
    "people = h2o.H2OFrame(peopleDF, destination_frame = \"people\")\n",
    "\n",
    "train, valid, test = people.split_frame(\n",
    "    ratios = [0.8, 0.1],\n",
    "    destination_frames = [\"people_train\", \"people_valid\", \"people_test\"],\n",
    "    seed = 1\n",
    ")\n",
    "\n",
    "y = \"Income\"\n",
    "ignoreFields = [y, \"id\"]\n",
    "x = [i for i in train.names if i not in ignoreFields]\n",
    "\n",
    "m1 = H2OGradientBoostingEstimator(model_id=\"defaults\")\n",
    "m1.train(x, y, train, validation_frame=valid)\n",
    "\n",
    "m2 = H2OGradientBoostingEstimator(model_id=\"overfits\", ntrees=1000, max_depth=10)\n",
    "m2.train(x, y, train, validation_frame=valid)\n",
    "\n",
    "print(\"Train: %d --> %d\" % (m1.mae(train=True), m2.mae(train=True)))\n",
    "print(\"Valid: %d --> %d\" % (m1.mae(valid=True), m2.mae(valid=True)))\n",
    "print(\" Test: %d --> %d\" % (m1.model_performance(test).mae(), m2.model_performance(test).mae()))"
   ]
  },
  {
   "cell_type": "code",
   "execution_count": null,
   "metadata": {},
   "outputs": [],
   "source": []
  }
 ],
 "metadata": {
  "kernelspec": {
   "display_name": "Python 3",
   "language": "python",
   "name": "python3"
  },
  "language_info": {
   "codemirror_mode": {
    "name": "ipython",
    "version": 3
   },
   "file_extension": ".py",
   "mimetype": "text/x-python",
   "name": "python",
   "nbconvert_exporter": "python",
   "pygments_lexer": "ipython3",
   "version": "3.6.8"
  }
 },
 "nbformat": 4,
 "nbformat_minor": 2
}
