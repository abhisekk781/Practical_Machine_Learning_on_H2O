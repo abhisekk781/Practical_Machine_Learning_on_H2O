{
 "cells": [
  {
   "cell_type": "code",
   "execution_count": 1,
   "metadata": {},
   "outputs": [
    {
     "name": "stdout",
     "output_type": "stream",
     "text": [
      "Checking whether there is an H2O instance running at http://localhost:54321 . connected.\n"
     ]
    },
    {
     "data": {
      "text/html": [
       "<div style=\"overflow:auto\"><table style=\"width:50%\"><tr><td>H2O cluster uptime:</td>\n",
       "<td>1 day 1 hour 39 mins</td></tr>\n",
       "<tr><td>H2O cluster timezone:</td>\n",
       "<td>America/Los_Angeles</td></tr>\n",
       "<tr><td>H2O data parsing timezone:</td>\n",
       "<td>UTC</td></tr>\n",
       "<tr><td>H2O cluster version:</td>\n",
       "<td>3.24.0.3</td></tr>\n",
       "<tr><td>H2O cluster version age:</td>\n",
       "<td>1 month and 13 days </td></tr>\n",
       "<tr><td>H2O cluster name:</td>\n",
       "<td>H2O_from_python_ec0198_unkim7</td></tr>\n",
       "<tr><td>H2O cluster total nodes:</td>\n",
       "<td>1</td></tr>\n",
       "<tr><td>H2O cluster free memory:</td>\n",
       "<td>2.685 Gb</td></tr>\n",
       "<tr><td>H2O cluster total cores:</td>\n",
       "<td>12</td></tr>\n",
       "<tr><td>H2O cluster allowed cores:</td>\n",
       "<td>12</td></tr>\n",
       "<tr><td>H2O cluster status:</td>\n",
       "<td>locked, healthy</td></tr>\n",
       "<tr><td>H2O connection url:</td>\n",
       "<td>http://localhost:54321</td></tr>\n",
       "<tr><td>H2O connection proxy:</td>\n",
       "<td>None</td></tr>\n",
       "<tr><td>H2O internal security:</td>\n",
       "<td>False</td></tr>\n",
       "<tr><td>H2O API Extensions:</td>\n",
       "<td>Amazon S3, XGBoost, Algos, AutoML, Core V3, Core V4</td></tr>\n",
       "<tr><td>Python version:</td>\n",
       "<td>2.7.16 final</td></tr></table></div>"
      ],
      "text/plain": [
       "--------------------------  ---------------------------------------------------\n",
       "H2O cluster uptime:         1 day 1 hour 39 mins\n",
       "H2O cluster timezone:       America/Los_Angeles\n",
       "H2O data parsing timezone:  UTC\n",
       "H2O cluster version:        3.24.0.3\n",
       "H2O cluster version age:    1 month and 13 days\n",
       "H2O cluster name:           H2O_from_python_ec0198_unkim7\n",
       "H2O cluster total nodes:    1\n",
       "H2O cluster free memory:    2.685 Gb\n",
       "H2O cluster total cores:    12\n",
       "H2O cluster allowed cores:  12\n",
       "H2O cluster status:         locked, healthy\n",
       "H2O connection url:         http://localhost:54321\n",
       "H2O connection proxy:\n",
       "H2O internal security:      False\n",
       "H2O API Extensions:         Amazon S3, XGBoost, Algos, AutoML, Core V3, Core V4\n",
       "Python version:             2.7.16 final\n",
       "--------------------------  ---------------------------------------------------"
      ]
     },
     "metadata": {},
     "output_type": "display_data"
    }
   ],
   "source": [
    "import h2o\n",
    "h2o.init()"
   ]
  },
  {
   "cell_type": "code",
   "execution_count": 2,
   "metadata": {},
   "outputs": [],
   "source": [
    "file1=\"http://coursera.h2o.ai/cacao.882.csv\""
   ]
  },
  {
   "cell_type": "code",
   "execution_count": 3,
   "metadata": {},
   "outputs": [
    {
     "name": "stdout",
     "output_type": "stream",
     "text": [
      "Parse progress: |█████████████████████████████████████████████████████████| 100%\n"
     ]
    }
   ],
   "source": [
    "rating= h2o.import_file(file1)"
   ]
  },
  {
   "cell_type": "code",
   "execution_count": 4,
   "metadata": {},
   "outputs": [
    {
     "data": {
      "text/html": [
       "<table>\n",
       "<thead>\n",
       "<tr><th>Maker   </th><th>Origin        </th><th style=\"text-align: right;\">  REF</th><th style=\"text-align: right;\">  Review Date</th><th style=\"text-align: right;\">  Cocoa Percent</th><th>Maker Location  </th><th style=\"text-align: right;\">  Rating</th><th>Bean Type  </th><th>Bean Origin  </th></tr>\n",
       "</thead>\n",
       "<tbody>\n",
       "<tr><td>A. Morin</td><td>Agua Grande   </td><td style=\"text-align: right;\"> 1876</td><td style=\"text-align: right;\">         2016</td><td style=\"text-align: right;\">           0.63</td><td>France          </td><td style=\"text-align: right;\">    3.75</td><td>           </td><td>Sao Tome     </td></tr>\n",
       "<tr><td>A. Morin</td><td>Kpime         </td><td style=\"text-align: right;\"> 1676</td><td style=\"text-align: right;\">         2015</td><td style=\"text-align: right;\">           0.7 </td><td>France          </td><td style=\"text-align: right;\">    2.75</td><td>           </td><td>Togo         </td></tr>\n",
       "<tr><td>A. Morin</td><td>Atsane        </td><td style=\"text-align: right;\"> 1676</td><td style=\"text-align: right;\">         2015</td><td style=\"text-align: right;\">           0.7 </td><td>France          </td><td style=\"text-align: right;\">    3   </td><td>           </td><td>Togo         </td></tr>\n",
       "<tr><td>A. Morin</td><td>Akata         </td><td style=\"text-align: right;\"> 1680</td><td style=\"text-align: right;\">         2015</td><td style=\"text-align: right;\">           0.7 </td><td>France          </td><td style=\"text-align: right;\">    3.5 </td><td>           </td><td>Togo         </td></tr>\n",
       "<tr><td>A. Morin</td><td>Quilla        </td><td style=\"text-align: right;\"> 1704</td><td style=\"text-align: right;\">         2015</td><td style=\"text-align: right;\">           0.7 </td><td>France          </td><td style=\"text-align: right;\">    3.5 </td><td>           </td><td>Peru         </td></tr>\n",
       "<tr><td>A. Morin</td><td>Carenero      </td><td style=\"text-align: right;\"> 1315</td><td style=\"text-align: right;\">         2014</td><td style=\"text-align: right;\">           0.7 </td><td>France          </td><td style=\"text-align: right;\">    2.75</td><td>Criollo    </td><td>Venezuela    </td></tr>\n",
       "<tr><td>A. Morin</td><td>Cuba          </td><td style=\"text-align: right;\"> 1315</td><td style=\"text-align: right;\">         2014</td><td style=\"text-align: right;\">           0.7 </td><td>France          </td><td style=\"text-align: right;\">    3.5 </td><td>           </td><td>Cuba         </td></tr>\n",
       "<tr><td>A. Morin</td><td>Sur del Lago  </td><td style=\"text-align: right;\"> 1315</td><td style=\"text-align: right;\">         2014</td><td style=\"text-align: right;\">           0.7 </td><td>France          </td><td style=\"text-align: right;\">    3.5 </td><td>Criollo    </td><td>Venezuela    </td></tr>\n",
       "<tr><td>A. Morin</td><td>Puerto Cabello</td><td style=\"text-align: right;\"> 1319</td><td style=\"text-align: right;\">         2014</td><td style=\"text-align: right;\">           0.7 </td><td>France          </td><td style=\"text-align: right;\">    3.75</td><td>Criollo    </td><td>Venezuela    </td></tr>\n",
       "<tr><td>A. Morin</td><td>Pablino       </td><td style=\"text-align: right;\"> 1319</td><td style=\"text-align: right;\">         2014</td><td style=\"text-align: right;\">           0.7 </td><td>France          </td><td style=\"text-align: right;\">    4   </td><td>           </td><td>Peru         </td></tr>\n",
       "</tbody>\n",
       "</table>"
      ]
     },
     "metadata": {},
     "output_type": "display_data"
    },
    {
     "data": {
      "text/plain": []
     },
     "execution_count": 4,
     "metadata": {},
     "output_type": "execute_result"
    }
   ],
   "source": [
    "rating.head()"
   ]
  },
  {
   "cell_type": "code",
   "execution_count": 5,
   "metadata": {},
   "outputs": [
    {
     "data": {
      "text/html": [
       "<table>\n",
       "<thead>\n",
       "<tr><th>       </th><th>Maker   </th><th>Origin        </th><th>REF          </th><th>Review Date  </th><th>Cocoa Percent  </th><th>Maker Location  </th><th>Rating        </th><th>Bean Type  </th><th>Bean Origin  </th></tr>\n",
       "</thead>\n",
       "<tbody>\n",
       "<tr><td>type   </td><td>enum    </td><td>enum          </td><td>int          </td><td>int          </td><td>real           </td><td>enum            </td><td>real          </td><td>enum       </td><td>enum         </td></tr>\n",
       "<tr><td>mins   </td><td>        </td><td>              </td><td>5.0          </td><td>2006.0       </td><td>0.42           </td><td>                </td><td>1.0           </td><td>           </td><td>             </td></tr>\n",
       "<tr><td>mean   </td><td>        </td><td>              </td><td>1035.90473538</td><td>2012.32534819</td><td>0.716983286908 </td><td>                </td><td>3.18593314763 </td><td>           </td><td>             </td></tr>\n",
       "<tr><td>maxs   </td><td>        </td><td>              </td><td>1952.0       </td><td>2017.0       </td><td>1.0            </td><td>                </td><td>5.0           </td><td>           </td><td>             </td></tr>\n",
       "<tr><td>sigma  </td><td>        </td><td>              </td><td>552.88636501 </td><td>2.92721027767</td><td>0.0632311833843</td><td>                </td><td>0.478062393586</td><td>           </td><td>             </td></tr>\n",
       "<tr><td>zeros  </td><td>        </td><td>              </td><td>0            </td><td>0            </td><td>0              </td><td>                </td><td>0             </td><td>           </td><td>             </td></tr>\n",
       "<tr><td>missing</td><td>0       </td><td>0             </td><td>0            </td><td>0            </td><td>0              </td><td>0               </td><td>0             </td><td>1          </td><td>1            </td></tr>\n",
       "<tr><td>0      </td><td>A. Morin</td><td>Agua Grande   </td><td>1876.0       </td><td>2016.0       </td><td>0.63           </td><td>France          </td><td>3.75          </td><td>           </td><td>Sao Tome     </td></tr>\n",
       "<tr><td>1      </td><td>A. Morin</td><td>Kpime         </td><td>1676.0       </td><td>2015.0       </td><td>0.7            </td><td>France          </td><td>2.75          </td><td>           </td><td>Togo         </td></tr>\n",
       "<tr><td>2      </td><td>A. Morin</td><td>Atsane        </td><td>1676.0       </td><td>2015.0       </td><td>0.7            </td><td>France          </td><td>3.0           </td><td>           </td><td>Togo         </td></tr>\n",
       "<tr><td>3      </td><td>A. Morin</td><td>Akata         </td><td>1680.0       </td><td>2015.0       </td><td>0.7            </td><td>France          </td><td>3.5           </td><td>           </td><td>Togo         </td></tr>\n",
       "<tr><td>4      </td><td>A. Morin</td><td>Quilla        </td><td>1704.0       </td><td>2015.0       </td><td>0.7            </td><td>France          </td><td>3.5           </td><td>           </td><td>Peru         </td></tr>\n",
       "<tr><td>5      </td><td>A. Morin</td><td>Carenero      </td><td>1315.0       </td><td>2014.0       </td><td>0.7            </td><td>France          </td><td>2.75          </td><td>Criollo    </td><td>Venezuela    </td></tr>\n",
       "<tr><td>6      </td><td>A. Morin</td><td>Cuba          </td><td>1315.0       </td><td>2014.0       </td><td>0.7            </td><td>France          </td><td>3.5           </td><td>           </td><td>Cuba         </td></tr>\n",
       "<tr><td>7      </td><td>A. Morin</td><td>Sur del Lago  </td><td>1315.0       </td><td>2014.0       </td><td>0.7            </td><td>France          </td><td>3.5           </td><td>Criollo    </td><td>Venezuela    </td></tr>\n",
       "<tr><td>8      </td><td>A. Morin</td><td>Puerto Cabello</td><td>1319.0       </td><td>2014.0       </td><td>0.7            </td><td>France          </td><td>3.75          </td><td>Criollo    </td><td>Venezuela    </td></tr>\n",
       "<tr><td>9      </td><td>A. Morin</td><td>Pablino       </td><td>1319.0       </td><td>2014.0       </td><td>0.7            </td><td>France          </td><td>4.0           </td><td>           </td><td>Peru         </td></tr>\n",
       "</tbody>\n",
       "</table>"
      ]
     },
     "metadata": {},
     "output_type": "display_data"
    }
   ],
   "source": [
    "rating.summary()"
   ]
  },
  {
   "cell_type": "code",
   "execution_count": 6,
   "metadata": {},
   "outputs": [
    {
     "data": {
      "text/plain": [
       "1795"
      ]
     },
     "execution_count": 6,
     "metadata": {},
     "output_type": "execute_result"
    }
   ],
   "source": [
    "rating.nrows"
   ]
  },
  {
   "cell_type": "code",
   "execution_count": 7,
   "metadata": {},
   "outputs": [],
   "source": [
    "rating_maker=rating.group_by('Maker')"
   ]
  },
  {
   "cell_type": "code",
   "execution_count": 8,
   "metadata": {},
   "outputs": [
    {
     "data": {
      "text/html": [
       "<table>\n",
       "<thead>\n",
       "<tr><th>Maker                </th><th style=\"text-align: right;\">  nrow</th></tr>\n",
       "</thead>\n",
       "<tbody>\n",
       "<tr><td>A. Morin             </td><td style=\"text-align: right;\">    23</td></tr>\n",
       "<tr><td>AMMA                 </td><td style=\"text-align: right;\">     5</td></tr>\n",
       "<tr><td>Acalli               </td><td style=\"text-align: right;\">     2</td></tr>\n",
       "<tr><td>Adi                  </td><td style=\"text-align: right;\">     4</td></tr>\n",
       "<tr><td>Aequare (Gianduja)   </td><td style=\"text-align: right;\">     2</td></tr>\n",
       "<tr><td>Ah Cacao             </td><td style=\"text-align: right;\">     1</td></tr>\n",
       "<tr><td>Akesson's (Pralus)   </td><td style=\"text-align: right;\">     3</td></tr>\n",
       "<tr><td>Alain Ducasse        </td><td style=\"text-align: right;\">     5</td></tr>\n",
       "<tr><td>Alexandre            </td><td style=\"text-align: right;\">     4</td></tr>\n",
       "<tr><td>Altus aka Cao Artisan</td><td style=\"text-align: right;\">    10</td></tr>\n",
       "</tbody>\n",
       "</table>"
      ]
     },
     "metadata": {},
     "output_type": "display_data"
    },
    {
     "data": {
      "text/plain": []
     },
     "execution_count": 8,
     "metadata": {},
     "output_type": "execute_result"
    }
   ],
   "source": [
    "rating_maker.count()\n",
    "rating_maker.get_frame()"
   ]
  },
  {
   "cell_type": "code",
   "execution_count": 9,
   "metadata": {},
   "outputs": [],
   "source": [
    "# spliting train,test and valid data sets\n",
    "train, test,valid = rating.split_frame(\n",
    "    ratios=[0.81,0.09],\n",
    "    destination_frames=['rating_train','rating_valid','rating_test'],seed = 122)"
   ]
  },
  {
   "cell_type": "code",
   "execution_count": 10,
   "metadata": {},
   "outputs": [
    {
     "name": "stdout",
     "output_type": "stream",
     "text": [
      "1452/176/167\n"
     ]
    }
   ],
   "source": [
    "print (\"%d/%d/%d\" % (train.nrows,valid.nrows,test.nrows))"
   ]
  },
  {
   "cell_type": "code",
   "execution_count": 11,
   "metadata": {},
   "outputs": [],
   "source": [
    "#declaring predictor variable and excluding ID's\n",
    "y = \"Rating\"\n",
    "ignoreFields =[y]\n",
    "\n",
    "x= [i for i in train.names if i not in ignoreFields]"
   ]
  },
  {
   "cell_type": "code",
   "execution_count": 12,
   "metadata": {},
   "outputs": [
    {
     "data": {
      "text/plain": [
       "[u'Maker',\n",
       " u'Origin',\n",
       " u'REF',\n",
       " u'Review Date',\n",
       " u'Cocoa Percent',\n",
       " u'Maker Location',\n",
       " u'Bean Type',\n",
       " u'Bean Origin']"
      ]
     },
     "execution_count": 12,
     "metadata": {},
     "output_type": "execute_result"
    }
   ],
   "source": [
    "x"
   ]
  },
  {
   "cell_type": "code",
   "execution_count": 13,
   "metadata": {},
   "outputs": [],
   "source": [
    "\n",
    "from h2o.estimators.glm import H2OGeneralizedLinearEstimator"
   ]
  },
  {
   "cell_type": "code",
   "execution_count": 14,
   "metadata": {},
   "outputs": [],
   "source": [
    "glm_gauss = H2OGeneralizedLinearEstimator(\n",
    "                    model_id='glm_v1',            #allows us to easily locate this model in Flow\n",
    "                    family='gaussian',seed=122, alpha=0.5,nfolds=5)\n"
   ]
  },
  {
   "cell_type": "code",
   "execution_count": 15,
   "metadata": {},
   "outputs": [
    {
     "name": "stdout",
     "output_type": "stream",
     "text": [
      "glm Model Build progress: |███████████████████████████████████████████████| 100%\n"
     ]
    }
   ],
   "source": [
    "glm_gauss.train(x,y, train, validation_frame = valid)"
   ]
  },
  {
   "cell_type": "code",
   "execution_count": 16,
   "metadata": {},
   "outputs": [
    {
     "name": "stdout",
     "output_type": "stream",
     "text": [
      "Model Details\n",
      "=============\n",
      "H2OGeneralizedLinearEstimator :  Generalized Linear Modeling\n",
      "Model Key:  glm_v1\n",
      "\n",
      "\n",
      "ModelMetricsRegressionGLM: glm\n",
      "** Reported on train data. **\n",
      "\n",
      "MSE: 0.207466316266\n",
      "RMSE: 0.455484704756\n",
      "MAE: 0.366220890926\n",
      "RMSLE: 0.114450698741\n",
      "R^2: 0.0668571818226\n",
      "Mean Residual Deviance: 0.207466316266\n",
      "Null degrees of freedom: 1451\n",
      "Residual degrees of freedom: 1440\n",
      "Null deviance: 322.824207989\n",
      "Residual deviance: 301.241091219\n",
      "AIC: 1862.91181644\n",
      "\n",
      "ModelMetricsRegressionGLM: glm\n",
      "** Reported on validation data. **\n",
      "\n",
      "MSE: 0.24438568835\n",
      "RMSE: 0.494353808876\n",
      "MAE: 0.393732438242\n",
      "RMSLE: 0.129567267121\n",
      "R^2: 0.03611764032\n",
      "Mean Residual Deviance: 0.24438568835\n",
      "Null degrees of freedom: 175\n",
      "Residual degrees of freedom: 164\n",
      "Null deviance: 45.4899720344\n",
      "Residual deviance: 43.0118811496\n",
      "AIC: 277.481024028\n",
      "\n",
      "ModelMetricsRegressionGLM: glm\n",
      "** Reported on cross-validation data. **\n",
      "\n",
      "MSE: 0.212007029334\n",
      "RMSE: 0.460442210635\n",
      "MAE: 0.370032327697\n",
      "RMSLE: 0.115690718364\n",
      "R^2: 0.0464339446191\n",
      "Mean Residual Deviance: 0.212007029334\n",
      "Null degrees of freedom: 1451\n",
      "Residual degrees of freedom: 1444\n",
      "Null deviance: 322.995124657\n",
      "Residual deviance: 307.834206594\n",
      "AIC: 1886.34824968\n",
      "Cross-Validation Metrics Summary: \n"
     ]
    },
    {
     "data": {
      "text/html": [
       "<div style=\"overflow:auto\"><table style=\"width:50%\"><tr><td><b></b></td>\n",
       "<td><b>mean</b></td>\n",
       "<td><b>sd</b></td>\n",
       "<td><b>cv_1_valid</b></td>\n",
       "<td><b>cv_2_valid</b></td>\n",
       "<td><b>cv_3_valid</b></td>\n",
       "<td><b>cv_4_valid</b></td>\n",
       "<td><b>cv_5_valid</b></td></tr>\n",
       "<tr><td>mae</td>\n",
       "<td>0.3699967</td>\n",
       "<td>0.0065473</td>\n",
       "<td>0.3833716</td>\n",
       "<td>0.3698760</td>\n",
       "<td>0.3765940</td>\n",
       "<td>0.3622156</td>\n",
       "<td>0.3579263</td></tr>\n",
       "<tr><td>mean_residual_deviance</td>\n",
       "<td>0.2122576</td>\n",
       "<td>0.0132232</td>\n",
       "<td>0.2464497</td>\n",
       "<td>0.2109187</td>\n",
       "<td>0.2049418</td>\n",
       "<td>0.2094392</td>\n",
       "<td>0.1895384</td></tr>\n",
       "<tr><td>mse</td>\n",
       "<td>0.2122576</td>\n",
       "<td>0.0132232</td>\n",
       "<td>0.2464497</td>\n",
       "<td>0.2109187</td>\n",
       "<td>0.2049418</td>\n",
       "<td>0.2094392</td>\n",
       "<td>0.1895384</td></tr>\n",
       "<tr><td>null_deviance</td>\n",
       "<td>64.59902</td>\n",
       "<td>3.7726512</td>\n",
       "<td>73.65858</td>\n",
       "<td>63.39339</td>\n",
       "<td>65.73587</td>\n",
       "<td>63.026875</td>\n",
       "<td>57.18041</td></tr>\n",
       "<tr><td>r2</td>\n",
       "<td>0.0452233</td>\n",
       "<td>0.0077007</td>\n",
       "<td>0.0470470</td>\n",
       "<td>0.0450960</td>\n",
       "<td>0.0423469</td>\n",
       "<td>0.0628529</td>\n",
       "<td>0.0287737</td></tr>\n",
       "<tr><td>residual_deviance</td>\n",
       "<td>61.56684</td>\n",
       "<td>3.406152</td>\n",
       "<td>69.991714</td>\n",
       "<td>60.53368</td>\n",
       "<td>62.712196</td>\n",
       "<td>59.061867</td>\n",
       "<td>55.53475</td></tr>\n",
       "<tr><td>rmse</td>\n",
       "<td>0.4602812</td>\n",
       "<td>0.0141198</td>\n",
       "<td>0.496437</td>\n",
       "<td>0.4592589</td>\n",
       "<td>0.452705</td>\n",
       "<td>0.4576453</td>\n",
       "<td>0.4353601</td></tr>\n",
       "<tr><td>rmsle</td>\n",
       "<td>0.1155672</td>\n",
       "<td>0.0052760</td>\n",
       "<td>0.1288012</td>\n",
       "<td>0.1134193</td>\n",
       "<td>0.1121694</td>\n",
       "<td>0.1170857</td>\n",
       "<td>0.1063606</td></tr></table></div>"
      ],
      "text/plain": [
       "                        mean       sd          cv_1_valid    cv_2_valid    cv_3_valid    cv_4_valid    cv_5_valid\n",
       "----------------------  ---------  ----------  ------------  ------------  ------------  ------------  ------------\n",
       "mae                     0.369997   0.00654726  0.383372      0.369876      0.376594      0.362216      0.357926\n",
       "mean_residual_deviance  0.212258   0.0132232   0.24645       0.210919      0.204942      0.209439      0.189538\n",
       "mse                     0.212258   0.0132232   0.24645       0.210919      0.204942      0.209439      0.189538\n",
       "null_deviance           64.599     3.77265     73.6586       63.3934       65.7359       63.0269       57.1804\n",
       "r2                      0.0452233  0.0077007   0.047047      0.045096      0.0423469     0.0628529     0.0287737\n",
       "residual_deviance       61.5668    3.40615     69.9917       60.5337       62.7122       59.0619       55.5348\n",
       "rmse                    0.460281   0.0141198   0.496437      0.459259      0.452705      0.457645      0.43536\n",
       "rmsle                   0.115567   0.00527603  0.128801      0.113419      0.112169      0.117086      0.106361"
      ]
     },
     "metadata": {},
     "output_type": "display_data"
    },
    {
     "name": "stdout",
     "output_type": "stream",
     "text": [
      "Scoring History: \n"
     ]
    },
    {
     "data": {
      "text/html": [
       "<div style=\"overflow:auto\"><table style=\"width:50%\"><tr><td><b></b></td>\n",
       "<td><b>timestamp</b></td>\n",
       "<td><b>duration</b></td>\n",
       "<td><b>iterations</b></td>\n",
       "<td><b>negative_log_likelihood</b></td>\n",
       "<td><b>objective</b></td></tr>\n",
       "<tr><td></td>\n",
       "<td>2019-06-20 18:17:22</td>\n",
       "<td> 0.000 sec</td>\n",
       "<td>0</td>\n",
       "<td>322.8242080</td>\n",
       "<td>0.2223307</td></tr></table></div>"
      ],
      "text/plain": [
       "    timestamp            duration    iterations    negative_log_likelihood    objective\n",
       "--  -------------------  ----------  ------------  -------------------------  -----------\n",
       "    2019-06-20 18:17:22  0.000 sec   0             322.824                    0.222331"
      ]
     },
     "metadata": {},
     "output_type": "display_data"
    },
    {
     "data": {
      "text/plain": []
     },
     "execution_count": 16,
     "metadata": {},
     "output_type": "execute_result"
    }
   ],
   "source": [
    "glm_gauss"
   ]
  },
  {
   "cell_type": "code",
   "execution_count": 17,
   "metadata": {},
   "outputs": [
    {
     "name": "stdout",
     "output_type": "stream",
     "text": [
      "\n",
      "ModelMetricsRegressionGLM: glm\n",
      "** Reported on test data. **\n",
      "\n",
      "MSE: 0.228126224293\n",
      "RMSE: 0.477625611011\n",
      "MAE: 0.375577898669\n",
      "RMSLE: 0.128208435291\n",
      "R^2: 0.0805553379968\n",
      "Mean Residual Deviance: 0.228126224293\n",
      "Null degrees of freedom: 166\n",
      "Residual degrees of freedom: 155\n",
      "Null deviance: 41.9546193291\n",
      "Residual deviance: 38.097079457\n",
      "AIC: 253.123486712\n"
     ]
    },
    {
     "data": {
      "text/plain": []
     },
     "execution_count": 17,
     "metadata": {},
     "output_type": "execute_result"
    }
   ],
   "source": [
    "p=glm_gauss.model_performance(test)\n",
    "p"
   ]
  },
  {
   "cell_type": "code",
   "execution_count": 18,
   "metadata": {},
   "outputs": [
    {
     "name": "stdout",
     "output_type": "stream",
     "text": [
      "glm Model Build progress: |███████████████████████████████████████████████| 100%\n",
      "0.216392663354\n"
     ]
    }
   ],
   "source": [
    "boston_glm = H2OGeneralizedLinearEstimator(lambda_search = True)\n",
    "boston_glm.train(x, y , training_frame = train, validation_frame = valid)\n",
    "\n",
    "# print the mse for the validation data\n",
    "print(boston_glm.mse(valid=True))"
   ]
  },
  {
   "cell_type": "code",
   "execution_count": 19,
   "metadata": {},
   "outputs": [
    {
     "name": "stdout",
     "output_type": "stream",
     "text": [
      "0.373016944991\n"
     ]
    }
   ],
   "source": [
    "print(boston_glm.mae(valid=True))"
   ]
  },
  {
   "cell_type": "code",
   "execution_count": 20,
   "metadata": {},
   "outputs": [],
   "source": [
    "# cross validation using H2OGeneralizedLinearEstimator\n",
    "\n",
    "train, test = rating.split_frame(\n",
    "    ratios = [ 0.897], destination_frames = ['rating1_train', 'rating1_test'], seed = 122)"
   ]
  },
  {
   "cell_type": "code",
   "execution_count": 21,
   "metadata": {},
   "outputs": [
    {
     "name": "stdout",
     "output_type": "stream",
     "text": [
      "1609/186\n"
     ]
    }
   ],
   "source": [
    "print('%d/%d' % (train.nrows, test.nrows))"
   ]
  },
  {
   "cell_type": "code",
   "execution_count": 22,
   "metadata": {},
   "outputs": [
    {
     "name": "stdout",
     "output_type": "stream",
     "text": [
      "glm Model Build progress: |███████████████████████████████████████████████| 100%\n",
      "0.216736299549\n",
      "0.37237589103\n"
     ]
    }
   ],
   "source": [
    "boston_glm = H2OGeneralizedLinearEstimator(lambda_search = True)\n",
    "boston_glm.train(x, y , training_frame = train, validation_frame = valid)\n",
    "\n",
    "# print the mse for the validation data\n",
    "print(boston_glm.mse(valid=True))\n",
    "print(boston_glm.mae(valid=True))"
   ]
  },
  {
   "cell_type": "code",
   "execution_count": 23,
   "metadata": {},
   "outputs": [
    {
     "name": "stdout",
     "output_type": "stream",
     "text": [
      "glm Model Build progress: |███████████████████████████████████████████████| 100%\n"
     ]
    }
   ],
   "source": [
    "cars_gbm = H2OGeneralizedLinearEstimator(keep_cross_validation_models = True, nfolds = 5, seed = 122)\n",
    "\n",
    "# then train your model\n",
    "cars_gbm.train(x , y , training_frame = train)\n",
    "\n",
    "# retrieve the cross-validation models\n",
    "cars_gbm_cv_models = cars_gbm.cross_validation_models()"
   ]
  },
  {
   "cell_type": "code",
   "execution_count": 24,
   "metadata": {},
   "outputs": [
    {
     "name": "stdout",
     "output_type": "stream",
     "text": [
      "Model Details\n",
      "=============\n",
      "H2OGeneralizedLinearEstimator :  Generalized Linear Modeling\n",
      "Model Key:  GLM_model_python_1560987482141_19_cv_1\n",
      "\n",
      "\n",
      "ModelMetricsRegressionGLM: glm\n",
      "** Reported on train data. **\n",
      "\n",
      "MSE: 0.212140650337\n",
      "RMSE: 0.46058728851\n",
      "MAE: 0.369049977531\n",
      "RMSLE: 0.115923631984\n",
      "R^2: 0.0601942264189\n",
      "Mean Residual Deviance: 0.212140650337\n",
      "Null degrees of freedom: 1290\n",
      "Residual degrees of freedom: 1284\n",
      "Null deviance: 291.415085205\n",
      "Residual deviance: 273.873579585\n",
      "AIC: 1677.99633165\n",
      "\n",
      "ModelMetricsRegressionGLM: glm\n",
      "** Reported on validation data. **\n",
      "\n",
      "MSE: 0.215896760922\n",
      "RMSE: 0.464646920707\n",
      "MAE: 0.372924832189\n",
      "RMSLE: 0.119678170122\n",
      "R^2: 0.0462919603027\n",
      "Mean Residual Deviance: 0.215896760922\n",
      "Null degrees of freedom: 317\n",
      "Residual degrees of freedom: 311\n",
      "Null deviance: 72.0875797093\n",
      "Residual deviance: 68.6551699733\n",
      "AIC: 430.965234847\n",
      "Scoring History: \n"
     ]
    },
    {
     "data": {
      "text/html": [
       "<div style=\"overflow:auto\"><table style=\"width:50%\"><tr><td><b></b></td>\n",
       "<td><b>timestamp</b></td>\n",
       "<td><b>duration</b></td>\n",
       "<td><b>iterations</b></td>\n",
       "<td><b>negative_log_likelihood</b></td>\n",
       "<td><b>objective</b></td></tr>\n",
       "<tr><td></td>\n",
       "<td>2019-06-20 18:17:23</td>\n",
       "<td> 0.000 sec</td>\n",
       "<td>0</td>\n",
       "<td>291.4309369</td>\n",
       "<td>0.1811255</td></tr></table></div>"
      ],
      "text/plain": [
       "    timestamp            duration    iterations    negative_log_likelihood    objective\n",
       "--  -------------------  ----------  ------------  -------------------------  -----------\n",
       "    2019-06-20 18:17:23  0.000 sec   0             291.431                    0.181126"
      ]
     },
     "metadata": {},
     "output_type": "display_data"
    },
    {
     "name": "stdout",
     "output_type": "stream",
     "text": [
      "Model Details\n",
      "=============\n",
      "H2OGeneralizedLinearEstimator :  Generalized Linear Modeling\n",
      "Model Key:  GLM_model_python_1560987482141_19_cv_2\n",
      "\n",
      "\n",
      "ModelMetricsRegressionGLM: glm\n",
      "** Reported on train data. **\n",
      "\n",
      "MSE: 0.207836135259\n",
      "RMSE: 0.455890486037\n",
      "MAE: 0.36507559078\n",
      "RMSLE: 0.115564039489\n",
      "R^2: 0.0556236709833\n",
      "Mean Residual Deviance: 0.207836135259\n",
      "Null degrees of freedom: 1296\n",
      "Residual degrees of freedom: 1291\n",
      "Null deviance: 285.440728604\n",
      "Residual deviance: 269.563467431\n",
      "AIC: 1657.13265377\n",
      "\n",
      "ModelMetricsRegressionGLM: glm\n",
      "** Reported on validation data. **\n",
      "\n",
      "MSE: 0.238576232583\n",
      "RMSE: 0.488442660486\n",
      "MAE: 0.391186785095\n",
      "RMSLE: 0.121893910739\n",
      "R^2: 0.0446719665766\n",
      "Mean Residual Deviance: 0.238576232583\n",
      "Null degrees of freedom: 311\n",
      "Residual degrees of freedom: 306\n",
      "Null deviance: 78.0724211067\n",
      "Residual deviance: 74.4357845658\n",
      "AIC: 452.300932208\n",
      "Scoring History: \n"
     ]
    },
    {
     "data": {
      "text/html": [
       "<div style=\"overflow:auto\"><table style=\"width:50%\"><tr><td><b></b></td>\n",
       "<td><b>timestamp</b></td>\n",
       "<td><b>duration</b></td>\n",
       "<td><b>iterations</b></td>\n",
       "<td><b>negative_log_likelihood</b></td>\n",
       "<td><b>objective</b></td></tr>\n",
       "<tr><td></td>\n",
       "<td>2019-06-20 18:17:23</td>\n",
       "<td> 0.000 sec</td>\n",
       "<td>0</td>\n",
       "<td>285.4651057</td>\n",
       "<td>0.1774177</td></tr></table></div>"
      ],
      "text/plain": [
       "    timestamp            duration    iterations    negative_log_likelihood    objective\n",
       "--  -------------------  ----------  ------------  -------------------------  -----------\n",
       "    2019-06-20 18:17:23  0.000 sec   0             285.465                    0.177418"
      ]
     },
     "metadata": {},
     "output_type": "display_data"
    },
    {
     "name": "stdout",
     "output_type": "stream",
     "text": [
      "Model Details\n",
      "=============\n",
      "H2OGeneralizedLinearEstimator :  Generalized Linear Modeling\n",
      "Model Key:  GLM_model_python_1560987482141_19_cv_3\n",
      "\n",
      "\n",
      "ModelMetricsRegressionGLM: glm\n",
      "** Reported on train data. **\n",
      "\n",
      "MSE: 0.217063183884\n",
      "RMSE: 0.46590040125\n",
      "MAE: 0.376021110319\n",
      "RMSLE: 0.117103741773\n",
      "R^2: 0.0571489062631\n",
      "Mean Residual Deviance: 0.217063183884\n",
      "Null degrees of freedom: 1275\n",
      "Residual degrees of freedom: 1270\n",
      "Null deviance: 293.760726881\n",
      "Residual deviance: 276.972622637\n",
      "AIC: 1685.95590268\n",
      "\n",
      "ModelMetricsRegressionGLM: glm\n",
      "** Reported on validation data. **\n",
      "\n",
      "MSE: 0.199195215086\n",
      "RMSE: 0.446312911629\n",
      "MAE: 0.352376867846\n",
      "RMSLE: 0.115713117626\n",
      "R^2: 0.0460051522661\n",
      "Mean Residual Deviance: 0.199195215086\n",
      "Null degrees of freedom: 332\n",
      "Residual degrees of freedom: 327\n",
      "Null deviance: 69.7721320131\n",
      "Residual deviance: 66.3320066238\n",
      "AIC: 421.727568176\n",
      "Scoring History: \n"
     ]
    },
    {
     "data": {
      "text/html": [
       "<div style=\"overflow:auto\"><table style=\"width:50%\"><tr><td><b></b></td>\n",
       "<td><b>timestamp</b></td>\n",
       "<td><b>duration</b></td>\n",
       "<td><b>iterations</b></td>\n",
       "<td><b>negative_log_likelihood</b></td>\n",
       "<td><b>objective</b></td></tr>\n",
       "<tr><td></td>\n",
       "<td>2019-06-20 18:17:23</td>\n",
       "<td> 0.000 sec</td>\n",
       "<td>0</td>\n",
       "<td>293.8003394</td>\n",
       "<td>0.1825981</td></tr></table></div>"
      ],
      "text/plain": [
       "    timestamp            duration    iterations    negative_log_likelihood    objective\n",
       "--  -------------------  ----------  ------------  -------------------------  -----------\n",
       "    2019-06-20 18:17:23  0.000 sec   0             293.8                      0.182598"
      ]
     },
     "metadata": {},
     "output_type": "display_data"
    },
    {
     "name": "stdout",
     "output_type": "stream",
     "text": [
      "Model Details\n",
      "=============\n",
      "H2OGeneralizedLinearEstimator :  Generalized Linear Modeling\n",
      "Model Key:  GLM_model_python_1560987482141_19_cv_4\n",
      "\n",
      "\n",
      "ModelMetricsRegressionGLM: glm\n",
      "** Reported on train data. **\n",
      "\n",
      "MSE: 0.208218270763\n",
      "RMSE: 0.456309402448\n",
      "MAE: 0.364531332189\n",
      "RMSLE: 0.115734681681\n",
      "R^2: 0.0532360428487\n",
      "Mean Residual Deviance: 0.208218270763\n",
      "Null degrees of freedom: 1288\n",
      "Residual degrees of freedom: 1283\n",
      "Null deviance: 283.484968968\n",
      "Residual deviance: 268.393351013\n",
      "AIC: 1649.36550861\n",
      "\n",
      "ModelMetricsRegressionGLM: glm\n",
      "** Reported on validation data. **\n",
      "\n",
      "MSE: 0.238369549324\n",
      "RMSE: 0.488231040926\n",
      "MAE: 0.390564730852\n",
      "RMSLE: 0.122420046206\n",
      "R^2: 0.0401383477717\n",
      "Mean Residual Deviance: 0.238369549324\n",
      "Null degrees of freedom: 319\n",
      "Residual degrees of freedom: 314\n",
      "Null deviance: 80.1295073159\n",
      "Residual deviance: 76.2782557836\n",
      "AIC: 463.262075236\n",
      "Scoring History: \n"
     ]
    },
    {
     "data": {
      "text/html": [
       "<div style=\"overflow:auto\"><table style=\"width:50%\"><tr><td><b></b></td>\n",
       "<td><b>timestamp</b></td>\n",
       "<td><b>duration</b></td>\n",
       "<td><b>iterations</b></td>\n",
       "<td><b>negative_log_likelihood</b></td>\n",
       "<td><b>objective</b></td></tr>\n",
       "<tr><td></td>\n",
       "<td>2019-06-20 18:17:23</td>\n",
       "<td> 0.000 sec</td>\n",
       "<td>0</td>\n",
       "<td>283.5903703</td>\n",
       "<td>0.1762526</td></tr></table></div>"
      ],
      "text/plain": [
       "    timestamp            duration    iterations    negative_log_likelihood    objective\n",
       "--  -------------------  ----------  ------------  -------------------------  -----------\n",
       "    2019-06-20 18:17:23  0.000 sec   0             283.59                     0.176253"
      ]
     },
     "metadata": {},
     "output_type": "display_data"
    },
    {
     "name": "stdout",
     "output_type": "stream",
     "text": [
      "Model Details\n",
      "=============\n",
      "H2OGeneralizedLinearEstimator :  Generalized Linear Modeling\n",
      "Model Key:  GLM_model_python_1560987482141_19_cv_5\n",
      "\n",
      "\n",
      "ModelMetricsRegressionGLM: glm\n",
      "** Reported on train data. **\n",
      "\n",
      "MSE: 0.220154230724\n",
      "RMSE: 0.469205957682\n",
      "MAE: 0.375083632744\n",
      "RMSLE: 0.119189967589\n",
      "R^2: 0.0573287703329\n",
      "Mean Residual Deviance: 0.220154230724\n",
      "Null degrees of freedom: 1282\n",
      "Residual degrees of freedom: 1275\n",
      "Null deviance: 299.635619641\n",
      "Residual deviance: 282.457878019\n",
      "AIC: 1717.26952565\n",
      "\n",
      "ModelMetricsRegressionGLM: glm\n",
      "** Reported on validation data. **\n",
      "\n",
      "MSE: 0.18594722696\n",
      "RMSE: 0.431215986439\n",
      "MAE: 0.351599937242\n",
      "RMSLE: 0.106396825145\n",
      "R^2: 0.0498855434557\n",
      "Mean Residual Deviance: 0.18594722696\n",
      "Null degrees of freedom: 325\n",
      "Residual degrees of freedom: 318\n",
      "Null deviance: 63.8589052976\n",
      "Residual deviance: 60.6187959891\n",
      "AIC: 394.720610525\n",
      "Scoring History: \n"
     ]
    },
    {
     "data": {
      "text/html": [
       "<div style=\"overflow:auto\"><table style=\"width:50%\"><tr><td><b></b></td>\n",
       "<td><b>timestamp</b></td>\n",
       "<td><b>duration</b></td>\n",
       "<td><b>iterations</b></td>\n",
       "<td><b>negative_log_likelihood</b></td>\n",
       "<td><b>objective</b></td></tr>\n",
       "<tr><td></td>\n",
       "<td>2019-06-20 18:17:23</td>\n",
       "<td> 0.000 sec</td>\n",
       "<td>0</td>\n",
       "<td>299.6448824</td>\n",
       "<td>0.1862305</td></tr></table></div>"
      ],
      "text/plain": [
       "    timestamp            duration    iterations    negative_log_likelihood    objective\n",
       "--  -------------------  ----------  ------------  -------------------------  -----------\n",
       "    2019-06-20 18:17:23  0.000 sec   0             299.645                    0.186231"
      ]
     },
     "metadata": {},
     "output_type": "display_data"
    },
    {
     "data": {
      "text/plain": [
       "[, , , , ]"
      ]
     },
     "execution_count": 24,
     "metadata": {},
     "output_type": "execute_result"
    }
   ],
   "source": [
    "cars_gbm_cv_models"
   ]
  },
  {
   "cell_type": "code",
   "execution_count": 25,
   "metadata": {},
   "outputs": [],
   "source": [
    "## performing GridSearch and using hyper params and opted for RandomDiscreate \n",
    "from h2o.grid.grid_search import H2OGridSearch"
   ]
  },
  {
   "cell_type": "code",
   "execution_count": 26,
   "metadata": {},
   "outputs": [],
   "source": [
    "g= h2o.grid.H2OGridSearch(H2OGeneralizedLinearEstimator(family=\"gaussian\", lambda_search = True),\n",
    "                        hyper_params = {\"alpha\": [x1 * 0.01 for x1 in range(0,100)],},\n",
    "                          search_criteria = { \"strategy\":\"RandomDiscrete\",\"max_models\":7,\"max_runtime_secs\":30})"
   ]
  },
  {
   "cell_type": "code",
   "execution_count": 27,
   "metadata": {},
   "outputs": [
    {
     "name": "stdout",
     "output_type": "stream",
     "text": [
      "glm Grid Build progress: |████████████████████████████████████████████████| 100%\n"
     ]
    }
   ],
   "source": [
    "g.train(x, y, train, validation_frame = valid)"
   ]
  },
  {
   "cell_type": "code",
   "execution_count": 28,
   "metadata": {},
   "outputs": [
    {
     "name": "stdout",
     "output_type": "stream",
     "text": [
      "                    alpha  \\\n",
      "0    [0.9500000000000001]   \n",
      "1                  [0.84]   \n",
      "2                   [0.8]   \n",
      "3                  [0.79]   \n",
      "4                  [0.73]   \n",
      "5                   [0.5]   \n",
      "6                  [0.37]   \n",
      "\n",
      "                                                      model_ids  \\\n",
      "0  Grid_GLM_rating1_train_model_python_1560987482141_20_model_6   \n",
      "1  Grid_GLM_rating1_train_model_python_1560987482141_20_model_5   \n",
      "2  Grid_GLM_rating1_train_model_python_1560987482141_20_model_2   \n",
      "3  Grid_GLM_rating1_train_model_python_1560987482141_20_model_1   \n",
      "4  Grid_GLM_rating1_train_model_python_1560987482141_20_model_4   \n",
      "5  Grid_GLM_rating1_train_model_python_1560987482141_20_model_3   \n",
      "6  Grid_GLM_rating1_train_model_python_1560987482141_20_model_7   \n",
      "\n",
      "    residual_deviance  \n",
      "0   37.76406487656328  \n",
      "1  37.833489452203224  \n",
      "2  37.859923266951945  \n",
      "3   37.86692345132296  \n",
      "4  37.908019970313454  \n",
      "5  38.145588720709405  \n",
      "6  38.387096232753414  \n"
     ]
    },
    {
     "data": {
      "text/plain": []
     },
     "execution_count": 28,
     "metadata": {},
     "output_type": "execute_result"
    }
   ],
   "source": [
    "g"
   ]
  },
  {
   "cell_type": "code",
   "execution_count": 29,
   "metadata": {},
   "outputs": [
    {
     "name": "stdout",
     "output_type": "stream",
     "text": [
      "\n",
      "ModelMetricsRegressionGLM: glm\n",
      "** Reported on test data. **\n",
      "\n",
      "MSE: 0.210427173005\n",
      "RMSE: 0.458723416674\n",
      "MAE: 0.367871340341\n",
      "RMSLE: 0.120198541123\n",
      "R^2: 0.151132763168\n",
      "Mean Residual Deviance: 0.210427173005\n",
      "Null degrees of freedom: 185\n",
      "Residual degrees of freedom: 36\n",
      "Null deviance: 46.5725553096\n",
      "Residual deviance: 39.1394541789\n",
      "AIC: 539.942622114\n",
      "\n",
      "ModelMetricsRegressionGLM: glm\n",
      "** Reported on test data. **\n",
      "\n",
      "MSE: 0.210390362563\n",
      "RMSE: 0.458683292221\n",
      "MAE: 0.367858515305\n",
      "RMSLE: 0.120188763948\n",
      "R^2: 0.151281257194\n",
      "Mean Residual Deviance: 0.210390362563\n",
      "Null degrees of freedom: 185\n",
      "Residual degrees of freedom: 37\n",
      "Null deviance: 46.5725553096\n",
      "Residual deviance: 39.1326074367\n",
      "AIC: 537.910081919\n",
      "\n",
      "ModelMetricsRegressionGLM: glm\n",
      "** Reported on test data. **\n",
      "\n",
      "MSE: 0.211904652493\n",
      "RMSE: 0.460331024908\n",
      "MAE: 0.36907111653\n",
      "RMSLE: 0.120591428872\n",
      "R^2: 0.145172582679\n",
      "Mean Residual Deviance: 0.211904652493\n",
      "Null degrees of freedom: 185\n",
      "Residual degrees of freedom: 35\n",
      "Null deviance: 46.5725553096\n",
      "Residual deviance: 39.4142653637\n",
      "AIC: 543.244026788\n",
      "\n",
      "ModelMetricsRegressionGLM: glm\n",
      "** Reported on test data. **\n",
      "\n",
      "MSE: 0.210643445237\n",
      "RMSE: 0.458959088849\n",
      "MAE: 0.367937572178\n",
      "RMSLE: 0.12025610044\n",
      "R^2: 0.150260316851\n",
      "Mean Residual Deviance: 0.210643445237\n",
      "Null degrees of freedom: 185\n",
      "Residual degrees of freedom: 35\n",
      "Null deviance: 46.5725553096\n",
      "Residual deviance: 39.1796808141\n",
      "AIC: 542.133690486\n",
      "\n",
      "ModelMetricsRegressionGLM: glm\n",
      "** Reported on test data. **\n",
      "\n",
      "MSE: 0.210251492617\n",
      "RMSE: 0.458531888331\n",
      "MAE: 0.367809672272\n",
      "RMSLE: 0.12015196863\n",
      "R^2: 0.151841461211\n",
      "Mean Residual Deviance: 0.210251492617\n",
      "Null degrees of freedom: 185\n",
      "Residual degrees of freedom: 37\n",
      "Null deviance: 46.5725553096\n",
      "Residual deviance: 39.1067776267\n",
      "AIC: 537.787270503\n",
      "\n",
      "ModelMetricsRegressionGLM: glm\n",
      "** Reported on test data. **\n",
      "\n",
      "MSE: 0.209886385545\n",
      "RMSE: 0.458133589191\n",
      "MAE: 0.367669977641\n",
      "RMSLE: 0.120055563888\n",
      "R^2: 0.153314310113\n",
      "Mean Residual Deviance: 0.209886385545\n",
      "Null degrees of freedom: 185\n",
      "Residual degrees of freedom: 38\n",
      "Null deviance: 46.5725553096\n",
      "Residual deviance: 39.0388677114\n",
      "AIC: 535.463995998\n",
      "\n",
      "ModelMetricsRegressionGLM: glm\n",
      "** Reported on test data. **\n",
      "\n",
      "MSE: 0.213206906771\n",
      "RMSE: 0.461743334301\n",
      "MAE: 0.370246389031\n",
      "RMSLE: 0.120932192798\n",
      "R^2: 0.139919264039\n",
      "Mean Residual Deviance: 0.213206906771\n",
      "Null degrees of freedom: 185\n",
      "Residual degrees of freedom: 35\n",
      "Null deviance: 46.5725553096\n",
      "Residual deviance: 39.6564846594\n",
      "AIC: 544.383586737\n"
     ]
    },
    {
     "data": {
      "text/plain": [
       "{u'Grid_GLM_rating1_train_model_python_1560987482141_20_model_1': ,\n",
       " u'Grid_GLM_rating1_train_model_python_1560987482141_20_model_2': ,\n",
       " u'Grid_GLM_rating1_train_model_python_1560987482141_20_model_3': ,\n",
       " u'Grid_GLM_rating1_train_model_python_1560987482141_20_model_4': ,\n",
       " u'Grid_GLM_rating1_train_model_python_1560987482141_20_model_5': ,\n",
       " u'Grid_GLM_rating1_train_model_python_1560987482141_20_model_6': ,\n",
       " u'Grid_GLM_rating1_train_model_python_1560987482141_20_model_7': }"
      ]
     },
     "execution_count": 29,
     "metadata": {},
     "output_type": "execute_result"
    }
   ],
   "source": [
    "pg=g.model_performance(test)\n",
    "pg"
   ]
  },
  {
   "cell_type": "code",
   "execution_count": null,
   "metadata": {},
   "outputs": [],
   "source": [
    "##rid_GLM_rating1_train_model_python_1560987482141_20_model_6 is saved \n",
    "##as the Residual deviance is less than the base model"
   ]
  }
 ],
 "metadata": {
  "kernelspec": {
   "display_name": "Python 3",
   "language": "python",
   "name": "python3"
  },
  "language_info": {
   "codemirror_mode": {
    "name": "ipython",
    "version": 3
   },
   "file_extension": ".py",
   "mimetype": "text/x-python",
   "name": "python",
   "nbconvert_exporter": "python",
   "pygments_lexer": "ipython3",
   "version": "3.6.8"
  }
 },
 "nbformat": 4,
 "nbformat_minor": 2
}
