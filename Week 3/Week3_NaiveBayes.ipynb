{
 "cells": [
  {
   "cell_type": "code",
   "execution_count": 2,
   "metadata": {},
   "outputs": [
    {
     "name": "stdout",
     "output_type": "stream",
     "text": [
      "Checking whether there is an H2O instance running at http://localhost:54321 . connected.\n"
     ]
    },
    {
     "data": {
      "text/html": [
       "<div style=\"overflow:auto\"><table style=\"width:50%\"><tr><td>H2O cluster uptime:</td>\n",
       "<td>09 secs</td></tr>\n",
       "<tr><td>H2O cluster timezone:</td>\n",
       "<td>Europe/Paris</td></tr>\n",
       "<tr><td>H2O data parsing timezone:</td>\n",
       "<td>UTC</td></tr>\n",
       "<tr><td>H2O cluster version:</td>\n",
       "<td>3.24.0.1</td></tr>\n",
       "<tr><td>H2O cluster version age:</td>\n",
       "<td>23 days </td></tr>\n",
       "<tr><td>H2O cluster name:</td>\n",
       "<td>H2O_from_python_a_nogue_sanchez_2hzsv6</td></tr>\n",
       "<tr><td>H2O cluster total nodes:</td>\n",
       "<td>1</td></tr>\n",
       "<tr><td>H2O cluster free memory:</td>\n",
       "<td>3.523 Gb</td></tr>\n",
       "<tr><td>H2O cluster total cores:</td>\n",
       "<td>4</td></tr>\n",
       "<tr><td>H2O cluster allowed cores:</td>\n",
       "<td>4</td></tr>\n",
       "<tr><td>H2O cluster status:</td>\n",
       "<td>locked, healthy</td></tr>\n",
       "<tr><td>H2O connection url:</td>\n",
       "<td>http://localhost:54321</td></tr>\n",
       "<tr><td>H2O connection proxy:</td>\n",
       "<td>None</td></tr>\n",
       "<tr><td>H2O internal security:</td>\n",
       "<td>False</td></tr>\n",
       "<tr><td>H2O API Extensions:</td>\n",
       "<td>Amazon S3, Algos, AutoML, Core V3, Core V4</td></tr>\n",
       "<tr><td>Python version:</td>\n",
       "<td>3.7.1 final</td></tr></table></div>"
      ],
      "text/plain": [
       "--------------------------  ------------------------------------------\n",
       "H2O cluster uptime:         09 secs\n",
       "H2O cluster timezone:       Europe/Paris\n",
       "H2O data parsing timezone:  UTC\n",
       "H2O cluster version:        3.24.0.1\n",
       "H2O cluster version age:    23 days\n",
       "H2O cluster name:           H2O_from_python_a_nogue_sanchez_2hzsv6\n",
       "H2O cluster total nodes:    1\n",
       "H2O cluster free memory:    3.523 Gb\n",
       "H2O cluster total cores:    4\n",
       "H2O cluster allowed cores:  4\n",
       "H2O cluster status:         locked, healthy\n",
       "H2O connection url:         http://localhost:54321\n",
       "H2O connection proxy:\n",
       "H2O internal security:      False\n",
       "H2O API Extensions:         Amazon S3, Algos, AutoML, Core V3, Core V4\n",
       "Python version:             3.7.1 final\n",
       "--------------------------  ------------------------------------------"
      ]
     },
     "metadata": {},
     "output_type": "display_data"
    }
   ],
   "source": [
    "import h2o\n",
    "h2o.init()"
   ]
  },
  {
   "cell_type": "code",
   "execution_count": 3,
   "metadata": {},
   "outputs": [
    {
     "name": "stdout",
     "output_type": "stream",
     "text": [
      "Parse progress: |█████████████████████████████████████████████████████████| 100%\n"
     ]
    }
   ],
   "source": [
    "url = \"http://h2o-public-test-data.s3.amazonaws.com/smalldata/iris/iris_wheader.csv\"\n",
    "iris = h2o.import_file(url)"
   ]
  },
  {
   "cell_type": "code",
   "execution_count": 5,
   "metadata": {},
   "outputs": [],
   "source": [
    "train, test = iris.split_frame([0.8])"
   ]
  },
  {
   "cell_type": "code",
   "execution_count": 6,
   "metadata": {},
   "outputs": [
    {
     "data": {
      "text/html": [
       "<table>\n",
       "<thead>\n",
       "<tr><th>       </th><th>sepal_len         </th><th>sepal_wid         </th><th>petal_len         </th><th>petal_wid         </th><th>class      </th></tr>\n",
       "</thead>\n",
       "<tbody>\n",
       "<tr><td>type   </td><td>real              </td><td>real              </td><td>real              </td><td>real              </td><td>enum       </td></tr>\n",
       "<tr><td>mins   </td><td>4.3               </td><td>2.0               </td><td>1.0               </td><td>0.1               </td><td>           </td></tr>\n",
       "<tr><td>mean   </td><td>5.818333333333333 </td><td>3.067500000000001 </td><td>3.699166666666665 </td><td>1.175             </td><td>           </td></tr>\n",
       "<tr><td>maxs   </td><td>7.7               </td><td>4.4               </td><td>6.9               </td><td>2.5               </td><td>           </td></tr>\n",
       "<tr><td>sigma  </td><td>0.8193031814177415</td><td>0.4282390167443702</td><td>1.7557825631220931</td><td>0.7646881058050163</td><td>           </td></tr>\n",
       "<tr><td>zeros  </td><td>0                 </td><td>0                 </td><td>0                 </td><td>0                 </td><td>           </td></tr>\n",
       "<tr><td>missing</td><td>0                 </td><td>0                 </td><td>0                 </td><td>0                 </td><td>0          </td></tr>\n",
       "<tr><td>0      </td><td>5.1               </td><td>3.5               </td><td>1.4               </td><td>0.2               </td><td>Iris-setosa</td></tr>\n",
       "<tr><td>1      </td><td>4.7               </td><td>3.2               </td><td>1.3               </td><td>0.2               </td><td>Iris-setosa</td></tr>\n",
       "<tr><td>2      </td><td>4.6               </td><td>3.1               </td><td>1.5               </td><td>0.2               </td><td>Iris-setosa</td></tr>\n",
       "<tr><td>3      </td><td>5.4               </td><td>3.9               </td><td>1.7               </td><td>0.4               </td><td>Iris-setosa</td></tr>\n",
       "<tr><td>4      </td><td>4.6               </td><td>3.4               </td><td>1.4               </td><td>0.3               </td><td>Iris-setosa</td></tr>\n",
       "<tr><td>5      </td><td>5.0               </td><td>3.4               </td><td>1.5               </td><td>0.2               </td><td>Iris-setosa</td></tr>\n",
       "<tr><td>6      </td><td>4.4               </td><td>2.9               </td><td>1.4               </td><td>0.2               </td><td>Iris-setosa</td></tr>\n",
       "<tr><td>7      </td><td>4.8               </td><td>3.4               </td><td>1.6               </td><td>0.2               </td><td>Iris-setosa</td></tr>\n",
       "<tr><td>8      </td><td>4.8               </td><td>3.0               </td><td>1.4               </td><td>0.1               </td><td>Iris-setosa</td></tr>\n",
       "<tr><td>9      </td><td>4.3               </td><td>3.0               </td><td>1.1               </td><td>0.1               </td><td>Iris-setosa</td></tr>\n",
       "</tbody>\n",
       "</table>"
      ]
     },
     "metadata": {},
     "output_type": "display_data"
    }
   ],
   "source": [
    "train.summary()"
   ]
  },
  {
   "cell_type": "code",
   "execution_count": 8,
   "metadata": {},
   "outputs": [
    {
     "data": {
      "text/plain": [
       "120"
      ]
     },
     "execution_count": 8,
     "metadata": {},
     "output_type": "execute_result"
    }
   ],
   "source": [
    "train.nrows"
   ]
  },
  {
   "cell_type": "code",
   "execution_count": 10,
   "metadata": {},
   "outputs": [],
   "source": [
    "from h2o.estimators.naive_bayes import H2ONaiveBayesEstimator"
   ]
  },
  {
   "cell_type": "code",
   "execution_count": 11,
   "metadata": {},
   "outputs": [
    {
     "name": "stdout",
     "output_type": "stream",
     "text": [
      "naivebayes Model Build progress: |████████████████████████████████████████| 100%\n"
     ]
    }
   ],
   "source": [
    "mNB = H2ONaiveBayesEstimator()\n",
    "mNB.train([\"sepal_len\", \"sepal_wid\", \"petal_len\", \"petal_wid\"], \"class\", train)"
   ]
  },
  {
   "cell_type": "code",
   "execution_count": 12,
   "metadata": {},
   "outputs": [
    {
     "name": "stdout",
     "output_type": "stream",
     "text": [
      "Model Details\n",
      "=============\n",
      "H2ONaiveBayesEstimator :  Naive Bayes\n",
      "Model Key:  NaiveBayes_model_python_1556123327497_1\n",
      "\n",
      "\n",
      "ModelMetricsMultinomial: naivebayes\n",
      "** Reported on train data. **\n",
      "\n",
      "MSE: 0.024753137771463523\n",
      "RMSE: 0.1573312994018149\n",
      "LogLoss: 0.08176222977207624\n",
      "Mean Per-Class Error: 0.03380402225074882\n",
      "Confusion Matrix: Row labels: Actual class; Column labels: Predicted class\n",
      "\n"
     ]
    },
    {
     "data": {
      "text/html": [
       "<div style=\"overflow:auto\"><table style=\"width:50%\"><tr><td><b>Iris-setosa</b></td>\n",
       "<td><b>Iris-versicolor</b></td>\n",
       "<td><b>Iris-virginica</b></td>\n",
       "<td><b>Error</b></td>\n",
       "<td><b>Rate</b></td></tr>\n",
       "<tr><td>41.0</td>\n",
       "<td>0.0</td>\n",
       "<td>0.0</td>\n",
       "<td>0.0</td>\n",
       "<td>0 / 41</td></tr>\n",
       "<tr><td>0.0</td>\n",
       "<td>39.0</td>\n",
       "<td>2.0</td>\n",
       "<td>0.0487805</td>\n",
       "<td>2 / 41</td></tr>\n",
       "<tr><td>0.0</td>\n",
       "<td>2.0</td>\n",
       "<td>36.0</td>\n",
       "<td>0.0526316</td>\n",
       "<td>2 / 38</td></tr>\n",
       "<tr><td>41.0</td>\n",
       "<td>41.0</td>\n",
       "<td>38.0</td>\n",
       "<td>0.0333333</td>\n",
       "<td>4 / 120</td></tr></table></div>"
      ],
      "text/plain": [
       "Iris-setosa    Iris-versicolor    Iris-virginica    Error      Rate\n",
       "-------------  -----------------  ----------------  ---------  -------\n",
       "41             0                  0                 0          0 / 41\n",
       "0              39                 2                 0.0487805  2 / 41\n",
       "0              2                  36                0.0526316  2 / 38\n",
       "41             41                 38                0.0333333  4 / 120"
      ]
     },
     "metadata": {},
     "output_type": "display_data"
    },
    {
     "name": "stdout",
     "output_type": "stream",
     "text": [
      "Top-3 Hit Ratios: \n"
     ]
    },
    {
     "data": {
      "text/html": [
       "<div style=\"overflow:auto\"><table style=\"width:50%\"><tr><td><b>k</b></td>\n",
       "<td><b>hit_ratio</b></td></tr>\n",
       "<tr><td>1</td>\n",
       "<td>0.9666666</td></tr>\n",
       "<tr><td>2</td>\n",
       "<td>1.0</td></tr>\n",
       "<tr><td>3</td>\n",
       "<td>1.0</td></tr></table></div>"
      ],
      "text/plain": [
       "k    hit_ratio\n",
       "---  -----------\n",
       "1    0.966667\n",
       "2    1\n",
       "3    1"
      ]
     },
     "metadata": {},
     "output_type": "display_data"
    },
    {
     "data": {
      "text/plain": []
     },
     "execution_count": 12,
     "metadata": {},
     "output_type": "execute_result"
    }
   ],
   "source": [
    "mNB"
   ]
  },
  {
   "cell_type": "code",
   "execution_count": 13,
   "metadata": {},
   "outputs": [
    {
     "name": "stdout",
     "output_type": "stream",
     "text": [
      "naivebayes prediction progress: |█████████████████████████████████████████| 100%\n"
     ]
    }
   ],
   "source": [
    "p = mNB.predict(test)"
   ]
  },
  {
   "cell_type": "code",
   "execution_count": 14,
   "metadata": {},
   "outputs": [
    {
     "data": {
      "text/html": [
       "<table>\n",
       "<thead>\n",
       "<tr><th>predict        </th><th style=\"text-align: right;\">  Iris-setosa</th><th style=\"text-align: right;\">  Iris-versicolor</th><th style=\"text-align: right;\">  Iris-virginica</th></tr>\n",
       "</thead>\n",
       "<tbody>\n",
       "<tr><td>Iris-setosa    </td><td style=\"text-align: right;\">  1          </td><td style=\"text-align: right;\">      2.15434e-18</td><td style=\"text-align: right;\">     2.39951e-25</td></tr>\n",
       "<tr><td>Iris-setosa    </td><td style=\"text-align: right;\">  1          </td><td style=\"text-align: right;\">      4.92322e-20</td><td style=\"text-align: right;\">     2.28732e-26</td></tr>\n",
       "<tr><td>Iris-setosa    </td><td style=\"text-align: right;\">  1          </td><td style=\"text-align: right;\">      4.32362e-19</td><td style=\"text-align: right;\">     9.1434e-26 </td></tr>\n",
       "<tr><td>Iris-setosa    </td><td style=\"text-align: right;\">  1          </td><td style=\"text-align: right;\">      5.55224e-19</td><td style=\"text-align: right;\">     3.85636e-25</td></tr>\n",
       "<tr><td>Iris-setosa    </td><td style=\"text-align: right;\">  1          </td><td style=\"text-align: right;\">      3.9143e-12 </td><td style=\"text-align: right;\">     2.96536e-19</td></tr>\n",
       "<tr><td>Iris-setosa    </td><td style=\"text-align: right;\">  1          </td><td style=\"text-align: right;\">      4.11753e-21</td><td style=\"text-align: right;\">     9.07287e-27</td></tr>\n",
       "<tr><td>Iris-setosa    </td><td style=\"text-align: right;\">  1          </td><td style=\"text-align: right;\">      6.19915e-19</td><td style=\"text-align: right;\">     1.85299e-25</td></tr>\n",
       "<tr><td>Iris-setosa    </td><td style=\"text-align: right;\">  1          </td><td style=\"text-align: right;\">      2.40544e-16</td><td style=\"text-align: right;\">     2.7437e-24 </td></tr>\n",
       "<tr><td>Iris-setosa    </td><td style=\"text-align: right;\">  1          </td><td style=\"text-align: right;\">      3.01183e-17</td><td style=\"text-align: right;\">     2.1459e-24 </td></tr>\n",
       "<tr><td>Iris-versicolor</td><td style=\"text-align: right;\">  1.60246e-97</td><td style=\"text-align: right;\">      0.709647   </td><td style=\"text-align: right;\">     0.290353   </td></tr>\n",
       "</tbody>\n",
       "</table>"
      ]
     },
     "metadata": {},
     "output_type": "display_data"
    },
    {
     "data": {
      "text/plain": []
     },
     "execution_count": 14,
     "metadata": {},
     "output_type": "execute_result"
    }
   ],
   "source": [
    "p"
   ]
  },
  {
   "cell_type": "code",
   "execution_count": 17,
   "metadata": {},
   "outputs": [
    {
     "name": "stdout",
     "output_type": "stream",
     "text": [
      "\n",
      "ModelMetricsMultinomial: naivebayes\n",
      "** Reported on test data. **\n",
      "\n",
      "MSE: 0.0784501075079247\n",
      "RMSE: 0.2800894634004012\n",
      "LogLoss: 0.30865353106750637\n",
      "Mean Per-Class Error: 0.06481481481481481\n",
      "Confusion Matrix: Row labels: Actual class; Column labels: Predicted class\n",
      "\n"
     ]
    },
    {
     "data": {
      "text/html": [
       "<div style=\"overflow:auto\"><table style=\"width:50%\"><tr><td><b>Iris-setosa</b></td>\n",
       "<td><b>Iris-versicolor</b></td>\n",
       "<td><b>Iris-virginica</b></td>\n",
       "<td><b>Error</b></td>\n",
       "<td><b>Rate</b></td></tr>\n",
       "<tr><td>9.0</td>\n",
       "<td>0.0</td>\n",
       "<td>0.0</td>\n",
       "<td>0.0</td>\n",
       "<td>0 / 9</td></tr>\n",
       "<tr><td>0.0</td>\n",
       "<td>8.0</td>\n",
       "<td>1.0</td>\n",
       "<td>0.1111111</td>\n",
       "<td>1 / 9</td></tr>\n",
       "<tr><td>0.0</td>\n",
       "<td>1.0</td>\n",
       "<td>11.0</td>\n",
       "<td>0.0833333</td>\n",
       "<td>1 / 12</td></tr>\n",
       "<tr><td>9.0</td>\n",
       "<td>9.0</td>\n",
       "<td>12.0</td>\n",
       "<td>0.0666667</td>\n",
       "<td>2 / 30</td></tr></table></div>"
      ],
      "text/plain": [
       "Iris-setosa    Iris-versicolor    Iris-virginica    Error      Rate\n",
       "-------------  -----------------  ----------------  ---------  ------\n",
       "9              0                  0                 0          0 / 9\n",
       "0              8                  1                 0.111111   1 / 9\n",
       "0              1                  11                0.0833333  1 / 12\n",
       "9              9                  12                0.0666667  2 / 30"
      ]
     },
     "metadata": {},
     "output_type": "display_data"
    },
    {
     "name": "stdout",
     "output_type": "stream",
     "text": [
      "Top-3 Hit Ratios: \n"
     ]
    },
    {
     "data": {
      "text/html": [
       "<div style=\"overflow:auto\"><table style=\"width:50%\"><tr><td><b>k</b></td>\n",
       "<td><b>hit_ratio</b></td></tr>\n",
       "<tr><td>1</td>\n",
       "<td>0.9333333</td></tr>\n",
       "<tr><td>2</td>\n",
       "<td>1.0</td></tr>\n",
       "<tr><td>3</td>\n",
       "<td>1.0</td></tr></table></div>"
      ],
      "text/plain": [
       "k    hit_ratio\n",
       "---  -----------\n",
       "1    0.933333\n",
       "2    1\n",
       "3    1"
      ]
     },
     "metadata": {},
     "output_type": "display_data"
    },
    {
     "data": {
      "text/plain": []
     },
     "execution_count": 17,
     "metadata": {},
     "output_type": "execute_result"
    }
   ],
   "source": [
    "mNB.model_performance(test)"
   ]
  },
  {
   "cell_type": "code",
   "execution_count": 19,
   "metadata": {},
   "outputs": [
    {
     "name": "stdout",
     "output_type": "stream",
     "text": [
      "naivebayes Model Build progress: |████████████████████████████████████████| 100%\n"
     ]
    }
   ],
   "source": [
    "mNB2 = H2ONaiveBayesEstimator(laplace = 2)\n",
    "mNB2.train([\"sepal_len\", \"sepal_wid\", \"petal_len\", \"petal_wid\"], \"class\", train)"
   ]
  },
  {
   "cell_type": "code",
   "execution_count": 20,
   "metadata": {},
   "outputs": [
    {
     "name": "stdout",
     "output_type": "stream",
     "text": [
      "\n",
      "ModelMetricsMultinomial: naivebayes\n",
      "** Reported on test data. **\n",
      "\n",
      "MSE: 0.07848542472956148\n",
      "RMSE: 0.2801525026294812\n",
      "LogLoss: 0.3087376698489438\n",
      "Mean Per-Class Error: 0.06481481481481481\n",
      "Confusion Matrix: Row labels: Actual class; Column labels: Predicted class\n",
      "\n"
     ]
    },
    {
     "data": {
      "text/html": [
       "<div style=\"overflow:auto\"><table style=\"width:50%\"><tr><td><b>Iris-setosa</b></td>\n",
       "<td><b>Iris-versicolor</b></td>\n",
       "<td><b>Iris-virginica</b></td>\n",
       "<td><b>Error</b></td>\n",
       "<td><b>Rate</b></td></tr>\n",
       "<tr><td>9.0</td>\n",
       "<td>0.0</td>\n",
       "<td>0.0</td>\n",
       "<td>0.0</td>\n",
       "<td>0 / 9</td></tr>\n",
       "<tr><td>0.0</td>\n",
       "<td>8.0</td>\n",
       "<td>1.0</td>\n",
       "<td>0.1111111</td>\n",
       "<td>1 / 9</td></tr>\n",
       "<tr><td>0.0</td>\n",
       "<td>1.0</td>\n",
       "<td>11.0</td>\n",
       "<td>0.0833333</td>\n",
       "<td>1 / 12</td></tr>\n",
       "<tr><td>9.0</td>\n",
       "<td>9.0</td>\n",
       "<td>12.0</td>\n",
       "<td>0.0666667</td>\n",
       "<td>2 / 30</td></tr></table></div>"
      ],
      "text/plain": [
       "Iris-setosa    Iris-versicolor    Iris-virginica    Error      Rate\n",
       "-------------  -----------------  ----------------  ---------  ------\n",
       "9              0                  0                 0          0 / 9\n",
       "0              8                  1                 0.111111   1 / 9\n",
       "0              1                  11                0.0833333  1 / 12\n",
       "9              9                  12                0.0666667  2 / 30"
      ]
     },
     "metadata": {},
     "output_type": "display_data"
    },
    {
     "name": "stdout",
     "output_type": "stream",
     "text": [
      "Top-3 Hit Ratios: \n"
     ]
    },
    {
     "data": {
      "text/html": [
       "<div style=\"overflow:auto\"><table style=\"width:50%\"><tr><td><b>k</b></td>\n",
       "<td><b>hit_ratio</b></td></tr>\n",
       "<tr><td>1</td>\n",
       "<td>0.9333333</td></tr>\n",
       "<tr><td>2</td>\n",
       "<td>1.0</td></tr>\n",
       "<tr><td>3</td>\n",
       "<td>1.0</td></tr></table></div>"
      ],
      "text/plain": [
       "k    hit_ratio\n",
       "---  -----------\n",
       "1    0.933333\n",
       "2    1\n",
       "3    1"
      ]
     },
     "metadata": {},
     "output_type": "display_data"
    },
    {
     "data": {
      "text/plain": []
     },
     "execution_count": 20,
     "metadata": {},
     "output_type": "execute_result"
    }
   ],
   "source": [
    "mNB2.model_performance(test)"
   ]
  },
  {
   "cell_type": "code",
   "execution_count": null,
   "metadata": {},
   "outputs": [],
   "source": []
  }
 ],
 "metadata": {
  "kernelspec": {
   "display_name": "Python 3",
   "language": "python",
   "name": "python3"
  },
  "language_info": {
   "codemirror_mode": {
    "name": "ipython",
    "version": 3
   },
   "file_extension": ".py",
   "mimetype": "text/x-python",
   "name": "python",
   "nbconvert_exporter": "python",
   "pygments_lexer": "ipython3",
   "version": "3.6.8"
  }
 },
 "nbformat": 4,
 "nbformat_minor": 2
}
