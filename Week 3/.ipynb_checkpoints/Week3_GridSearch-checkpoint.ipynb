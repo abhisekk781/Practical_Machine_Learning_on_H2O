{
 "cells": [
  {
   "cell_type": "code",
   "execution_count": 2,
   "metadata": {},
   "outputs": [
    {
     "name": "stdout",
     "output_type": "stream",
     "text": [
      "Checking whether there is an H2O instance running at http://localhost:54321 . connected.\n"
     ]
    },
    {
     "data": {
      "text/html": [
       "<div style=\"overflow:auto\"><table style=\"width:50%\"><tr><td>H2O cluster uptime:</td>\n",
       "<td>5 hours 24 mins</td></tr>\n",
       "<tr><td>H2O cluster timezone:</td>\n",
       "<td>Europe/Paris</td></tr>\n",
       "<tr><td>H2O data parsing timezone:</td>\n",
       "<td>UTC</td></tr>\n",
       "<tr><td>H2O cluster version:</td>\n",
       "<td>3.24.0.1</td></tr>\n",
       "<tr><td>H2O cluster version age:</td>\n",
       "<td>24 days </td></tr>\n",
       "<tr><td>H2O cluster name:</td>\n",
       "<td>H2O_from_python_a_nogue_sanchez_2hzsv6</td></tr>\n",
       "<tr><td>H2O cluster total nodes:</td>\n",
       "<td>1</td></tr>\n",
       "<tr><td>H2O cluster free memory:</td>\n",
       "<td>3.402 Gb</td></tr>\n",
       "<tr><td>H2O cluster total cores:</td>\n",
       "<td>4</td></tr>\n",
       "<tr><td>H2O cluster allowed cores:</td>\n",
       "<td>4</td></tr>\n",
       "<tr><td>H2O cluster status:</td>\n",
       "<td>locked, healthy</td></tr>\n",
       "<tr><td>H2O connection url:</td>\n",
       "<td>http://localhost:54321</td></tr>\n",
       "<tr><td>H2O connection proxy:</td>\n",
       "<td>None</td></tr>\n",
       "<tr><td>H2O internal security:</td>\n",
       "<td>False</td></tr>\n",
       "<tr><td>H2O API Extensions:</td>\n",
       "<td>Amazon S3, Algos, AutoML, Core V3, Core V4</td></tr>\n",
       "<tr><td>Python version:</td>\n",
       "<td>3.7.1 final</td></tr></table></div>"
      ],
      "text/plain": [
       "--------------------------  ------------------------------------------\n",
       "H2O cluster uptime:         5 hours 24 mins\n",
       "H2O cluster timezone:       Europe/Paris\n",
       "H2O data parsing timezone:  UTC\n",
       "H2O cluster version:        3.24.0.1\n",
       "H2O cluster version age:    24 days\n",
       "H2O cluster name:           H2O_from_python_a_nogue_sanchez_2hzsv6\n",
       "H2O cluster total nodes:    1\n",
       "H2O cluster free memory:    3.402 Gb\n",
       "H2O cluster total cores:    4\n",
       "H2O cluster allowed cores:  4\n",
       "H2O cluster status:         locked, healthy\n",
       "H2O connection url:         http://localhost:54321\n",
       "H2O connection proxy:\n",
       "H2O internal security:      False\n",
       "H2O API Extensions:         Amazon S3, Algos, AutoML, Core V3, Core V4\n",
       "Python version:             3.7.1 final\n",
       "--------------------------  ------------------------------------------"
      ]
     },
     "metadata": {},
     "output_type": "display_data"
    }
   ],
   "source": [
    "import h2o\n",
    "import h2o.grid\n",
    "h2o.init()"
   ]
  },
  {
   "cell_type": "code",
   "execution_count": 3,
   "metadata": {},
   "outputs": [
    {
     "name": "stdout",
     "output_type": "stream",
     "text": [
      "Parse progress: |█████████████████████████████████████████████████████████| 100%\n"
     ]
    }
   ],
   "source": [
    "data = h2o.import_file(\"http://h2o-public-test-data.s3.amazonaws.com/smalldata/airlines/allyears2k_headers.zip\")"
   ]
  },
  {
   "cell_type": "code",
   "execution_count": 4,
   "metadata": {},
   "outputs": [],
   "source": [
    "train, valid, test = data.split_frame([0.8,0.1], seed = 99)"
   ]
  },
  {
   "cell_type": "code",
   "execution_count": 5,
   "metadata": {},
   "outputs": [
    {
     "name": "stdout",
     "output_type": "stream",
     "text": [
      "35257/4270/4451\n"
     ]
    }
   ],
   "source": [
    "print(\"%d/%d/%d\" %(train.nrows, valid.nrows, test.nrows))"
   ]
  },
  {
   "cell_type": "code",
   "execution_count": 6,
   "metadata": {},
   "outputs": [],
   "source": [
    "y = 'IsArrDelayed'\n",
    "ignoreFields = [\n",
    "    \"ArrDelay\", \"DepDelay\",\n",
    "    \"CarrierDelay\", \"WeatherDelay\",\n",
    "    \"NASDelay\", \"SecurityDelay\",\n",
    "    \"LateAircraftDelay\",\n",
    "    \"IsDepDelayed\", \"IsArrDelayed\",\n",
    "    \"ActualElapsedTime\"\n",
    "]\n",
    "xAll = [i for i in train.names if i not in ignoreFields]\n",
    "xLikely = ['Month', 'DayOfWeek', 'UniqueCarrier', \n",
    "          'Origin', 'Dest', 'Distance',\n",
    "          'Cancelled', 'Diverted']"
   ]
  },
  {
   "cell_type": "code",
   "execution_count": 7,
   "metadata": {},
   "outputs": [],
   "source": [
    "from h2o.estimators.glm import H2OGeneralizedLinearEstimator"
   ]
  },
  {
   "cell_type": "code",
   "execution_count": 8,
   "metadata": {},
   "outputs": [
    {
     "name": "stdout",
     "output_type": "stream",
     "text": [
      "glm Model Build progress: |███████████████████████████████████████████████| 100%\n"
     ]
    }
   ],
   "source": [
    "m_def = H2OGeneralizedLinearEstimator(family = 'binomial')\n",
    "m_def.train(xAll, y, train, validation_frame = valid)"
   ]
  },
  {
   "cell_type": "code",
   "execution_count": 9,
   "metadata": {},
   "outputs": [
    {
     "data": {
      "text/plain": [
       "0.6231488670957813"
      ]
     },
     "execution_count": 9,
     "metadata": {},
     "output_type": "execute_result"
    }
   ],
   "source": [
    "m_def.logloss(valid=True)"
   ]
  },
  {
   "cell_type": "code",
   "execution_count": 15,
   "metadata": {},
   "outputs": [
    {
     "name": "stdout",
     "output_type": "stream",
     "text": [
      "glm Grid Build progress: |████████████████████████████████████████████████| 100%\n"
     ]
    }
   ],
   "source": [
    "g = h2o.grid.H2OGridSearch(\n",
    "    H2OGeneralizedLinearEstimator(\n",
    "        family = 'binomial',\n",
    "        lambda_search = True\n",
    "    ),\n",
    "    hyper_params = {\n",
    "        \"alpha\":[x * 0.01 for x in range(0, 100)],\n",
    "    },\n",
    "    search_criteria = {\n",
    "        \"strategy\":\"RandomDiscrete\",\n",
    "        \"max_models\":8,\n",
    "        \"max_runtime_secs\":30\n",
    "    }\n",
    ")\n",
    "g.train(xAll, y, train, validation_frame = valid)"
   ]
  },
  {
   "cell_type": "code",
   "execution_count": 16,
   "metadata": {},
   "outputs": [
    {
     "name": "stdout",
     "output_type": "stream",
     "text": [
      "                    alpha  \\\n",
      "0                  [0.93]   \n",
      "1    [0.7000000000000001]   \n",
      "2                  [0.63]   \n",
      "3                  [0.52]   \n",
      "4                  [0.38]   \n",
      "5                  [0.33]   \n",
      "6                  [0.17]   \n",
      "7                  [0.15]   \n",
      "\n",
      "                                                     model_ids  \\\n",
      "0  Grid_GLM_py_3_sid_a8a6_model_python_1556123327497_8_model_4   \n",
      "1  Grid_GLM_py_3_sid_a8a6_model_python_1556123327497_8_model_6   \n",
      "2  Grid_GLM_py_3_sid_a8a6_model_python_1556123327497_8_model_2   \n",
      "3  Grid_GLM_py_3_sid_a8a6_model_python_1556123327497_8_model_1   \n",
      "4  Grid_GLM_py_3_sid_a8a6_model_python_1556123327497_8_model_5   \n",
      "5  Grid_GLM_py_3_sid_a8a6_model_python_1556123327497_8_model_3   \n",
      "6  Grid_GLM_py_3_sid_a8a6_model_python_1556123327497_8_model_8   \n",
      "7  Grid_GLM_py_3_sid_a8a6_model_python_1556123327497_8_model_7   \n",
      "\n",
      "              logloss  \n",
      "0  0.5918403864210049  \n",
      "1  0.5933167178741808  \n",
      "2   0.593817232779936  \n",
      "3  0.5948126804873012  \n",
      "4  0.5966475391331265  \n",
      "5    0.59754945988766  \n",
      "6  0.6023340143298193  \n",
      "7  0.6033359547665007  \n"
     ]
    },
    {
     "data": {
      "text/plain": []
     },
     "execution_count": 16,
     "metadata": {},
     "output_type": "execute_result"
    }
   ],
   "source": [
    "g"
   ]
  },
  {
   "cell_type": "code",
   "execution_count": 17,
   "metadata": {},
   "outputs": [
    {
     "name": "stdout",
     "output_type": "stream",
     "text": [
      "glm Grid Build progress: |████████████████████████████████████████████████| 100%\n"
     ]
    }
   ],
   "source": [
    "g2 = h2o.grid.H2OGridSearch(\n",
    "    H2OGeneralizedLinearEstimator(\n",
    "        family = 'binomial',\n",
    "        lambda_search = True\n",
    "    ),\n",
    "    hyper_params = {\n",
    "        \"alpha\":[0, 0.2, 0.4, 0.6, 0.8, 0.99],\n",
    "    },\n",
    "    search_criteria = {\n",
    "        \"strategy\":\"Cartesian\"\n",
    "    }\n",
    ")\n",
    "g2.train(xAll, y, train, validation_frame = valid)"
   ]
  },
  {
   "cell_type": "code",
   "execution_count": 18,
   "metadata": {},
   "outputs": [
    {
     "name": "stdout",
     "output_type": "stream",
     "text": [
      "      alpha                                                     model_ids  \\\n",
      "0     [0.0]  Grid_GLM_py_3_sid_a8a6_model_python_1556123327497_25_model_1   \n",
      "1    [0.99]  Grid_GLM_py_3_sid_a8a6_model_python_1556123327497_25_model_6   \n",
      "2     [0.8]  Grid_GLM_py_3_sid_a8a6_model_python_1556123327497_25_model_5   \n",
      "3     [0.6]  Grid_GLM_py_3_sid_a8a6_model_python_1556123327497_25_model_4   \n",
      "4     [0.4]  Grid_GLM_py_3_sid_a8a6_model_python_1556123327497_25_model_3   \n",
      "5     [0.2]  Grid_GLM_py_3_sid_a8a6_model_python_1556123327497_25_model_2   \n",
      "\n",
      "              logloss  \n",
      "0  0.5835144264562336  \n",
      "1  0.5915109765299219  \n",
      "2  0.5926417280446038  \n",
      "3  0.5940601567706159  \n",
      "4  0.5963316034873363  \n",
      "5  0.6010804804019113  \n"
     ]
    },
    {
     "data": {
      "text/plain": []
     },
     "execution_count": 18,
     "metadata": {},
     "output_type": "execute_result"
    }
   ],
   "source": [
    "g2"
   ]
  },
  {
   "cell_type": "code",
   "execution_count": null,
   "metadata": {},
   "outputs": [],
   "source": []
  }
 ],
 "metadata": {
  "kernelspec": {
   "display_name": "Python 3",
   "language": "python",
   "name": "python3"
  },
  "language_info": {
   "codemirror_mode": {
    "name": "ipython",
    "version": 3
   },
   "file_extension": ".py",
   "mimetype": "text/x-python",
   "name": "python",
   "nbconvert_exporter": "python",
   "pygments_lexer": "ipython3",
   "version": "3.7.1"
  }
 },
 "nbformat": 4,
 "nbformat_minor": 2
}
