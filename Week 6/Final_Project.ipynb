{
 "cells": [
  {
   "cell_type": "markdown",
   "metadata": {},
   "source": [
    "# Final Project"
   ]
  },
  {
   "cell_type": "markdown",
   "metadata": {},
   "source": [
    "## Step 1: get and prepare the data"
   ]
  },
  {
   "cell_type": "code",
   "execution_count": 1,
   "metadata": {},
   "outputs": [
    {
     "name": "stdout",
     "output_type": "stream",
     "text": [
      "Checking whether there is an H2O instance running at http://localhost:54321 ..... not found.\n",
      "Attempting to start a local H2O server...\n",
      "; OpenJDK 64-Bit Server VM (build 25.152-b12, mixed mode)56-b12)\n",
      "  Starting server from C:\\Users\\a.nogue.sanchez\\AppData\\Local\\Continuum\\anaconda3\\lib\\site-packages\\h2o\\backend\\bin\\h2o.jar\n",
      "  Ice root: C:\\Users\\ANOGUE~1.SAN\\AppData\\Local\\Temp\\tmp1nygi_0t\n",
      "  JVM stdout: C:\\Users\\ANOGUE~1.SAN\\AppData\\Local\\Temp\\tmp1nygi_0t\\h2o_a_nogue_sanchez_started_from_python.out\n",
      "  JVM stderr: C:\\Users\\ANOGUE~1.SAN\\AppData\\Local\\Temp\\tmp1nygi_0t\\h2o_a_nogue_sanchez_started_from_python.err\n",
      "  Server is running at http://127.0.0.1:54321\n",
      "Connecting to H2O server at http://127.0.0.1:54321 ... successful.\n",
      "Warning: Your H2O cluster version is too old (4 months and 13 days)! Please download and install the latest version from http://h2o.ai/download/\n"
     ]
    },
    {
     "data": {
      "text/html": [
       "<div style=\"overflow:auto\"><table style=\"width:50%\"><tr><td>H2O cluster uptime:</td>\n",
       "<td>03 secs</td></tr>\n",
       "<tr><td>H2O cluster timezone:</td>\n",
       "<td>Europe/Paris</td></tr>\n",
       "<tr><td>H2O data parsing timezone:</td>\n",
       "<td>UTC</td></tr>\n",
       "<tr><td>H2O cluster version:</td>\n",
       "<td>3.24.0.1</td></tr>\n",
       "<tr><td>H2O cluster version age:</td>\n",
       "<td>4 months and 13 days !!!</td></tr>\n",
       "<tr><td>H2O cluster name:</td>\n",
       "<td>H2O_from_python_a_nogue_sanchez_gh0x7x</td></tr>\n",
       "<tr><td>H2O cluster total nodes:</td>\n",
       "<td>1</td></tr>\n",
       "<tr><td>H2O cluster free memory:</td>\n",
       "<td>3.533 Gb</td></tr>\n",
       "<tr><td>H2O cluster total cores:</td>\n",
       "<td>4</td></tr>\n",
       "<tr><td>H2O cluster allowed cores:</td>\n",
       "<td>4</td></tr>\n",
       "<tr><td>H2O cluster status:</td>\n",
       "<td>accepting new members, healthy</td></tr>\n",
       "<tr><td>H2O connection url:</td>\n",
       "<td>http://127.0.0.1:54321</td></tr>\n",
       "<tr><td>H2O connection proxy:</td>\n",
       "<td>None</td></tr>\n",
       "<tr><td>H2O internal security:</td>\n",
       "<td>False</td></tr>\n",
       "<tr><td>H2O API Extensions:</td>\n",
       "<td>Amazon S3, Algos, AutoML, Core V3, Core V4</td></tr>\n",
       "<tr><td>Python version:</td>\n",
       "<td>3.6.8 final</td></tr></table></div>"
      ],
      "text/plain": [
       "--------------------------  ------------------------------------------\n",
       "H2O cluster uptime:         03 secs\n",
       "H2O cluster timezone:       Europe/Paris\n",
       "H2O data parsing timezone:  UTC\n",
       "H2O cluster version:        3.24.0.1\n",
       "H2O cluster version age:    4 months and 13 days !!!\n",
       "H2O cluster name:           H2O_from_python_a_nogue_sanchez_gh0x7x\n",
       "H2O cluster total nodes:    1\n",
       "H2O cluster free memory:    3.533 Gb\n",
       "H2O cluster total cores:    4\n",
       "H2O cluster allowed cores:  4\n",
       "H2O cluster status:         accepting new members, healthy\n",
       "H2O connection url:         http://127.0.0.1:54321\n",
       "H2O connection proxy:\n",
       "H2O internal security:      False\n",
       "H2O API Extensions:         Amazon S3, Algos, AutoML, Core V3, Core V4\n",
       "Python version:             3.6.8 final\n",
       "--------------------------  ------------------------------------------"
      ]
     },
     "metadata": {},
     "output_type": "display_data"
    }
   ],
   "source": [
    "# Set up the libraries\n",
    "import h2o\n",
    "import pandas as pd\n",
    "h2o.init()"
   ]
  },
  {
   "cell_type": "code",
   "execution_count": 2,
   "metadata": {},
   "outputs": [
    {
     "name": "stdout",
     "output_type": "stream",
     "text": [
      "Parse progress: |█████████████████████████████████████████████████████████| 100%\n"
     ]
    }
   ],
   "source": [
    "# Load the data\n",
    "data = h2o.import_file(\"http://coursera.h2o.ai/house_data.3487.csv\")"
   ]
  },
  {
   "cell_type": "code",
   "execution_count": 3,
   "metadata": {},
   "outputs": [
    {
     "name": "stdout",
     "output_type": "stream",
     "text": [
      "Parse progress: |█████████████████████████████████████████████████████████| 100%\n"
     ]
    }
   ],
   "source": [
    "# Convert date into year and month\n",
    "data = data.as_data_frame() # didn't manage to work with H2O frames, sorry for that\n",
    "data['year'] = [data['date'][i][:4] for i in range(len(data))]\n",
    "data['month'] = [data['date'][i][4:6] for i in range(len(data))]\n",
    "data = h2o.H2OFrame(data)"
   ]
  },
  {
   "cell_type": "code",
   "execution_count": 4,
   "metadata": {},
   "outputs": [
    {
     "name": "stdout",
     "output_type": "stream",
     "text": [
      "Train length: 19462 / Test length: 2151\n",
      "Train length: 16584 / Test length: 2151 / Valid length: 2878\n"
     ]
    }
   ],
   "source": [
    "# Split the data\n",
    "train, test = data.split_frame([0.9], seed = 123)\n",
    "print(\"Train length: %d / Test length: %d\" %(train.nrows, test.nrows))\n",
    "\n",
    "# Split again to get a validation set\n",
    "train, valid = train.split_frame([0.85], seed = 123)\n",
    "print(\"Train length: %d / Test length: %d / Valid length: %d\" %(train.nrows, test.nrows, valid.nrows))"
   ]
  },
  {
   "cell_type": "code",
   "execution_count": 5,
   "metadata": {},
   "outputs": [],
   "source": [
    "# Specify the x and y variables\n",
    "y = 'price'\n",
    "ignoreFields = ['id', 'date', 'price', 'year', 'month']\n",
    "x = [i for i in data.names if i not in ignoreFields]"
   ]
  },
  {
   "cell_type": "markdown",
   "metadata": {},
   "source": [
    "## Step 2: training fours models"
   ]
  },
  {
   "cell_type": "markdown",
   "metadata": {},
   "source": [
    "## Generalized Linear Model"
   ]
  },
  {
   "cell_type": "code",
   "execution_count": 58,
   "metadata": {},
   "outputs": [],
   "source": [
    "from h2o.estimators.gbm import H2OGradientBoostingEstimator"
   ]
  },
  {
   "cell_type": "code",
   "execution_count": 90,
   "metadata": {},
   "outputs": [
    {
     "name": "stdout",
     "output_type": "stream",
     "text": [
      "gbm Model Build progress: |███████████████████████████████████████████████| 100%\n"
     ]
    }
   ],
   "source": [
    "my_GBM = H2OGradientBoostingEstimator(\n",
    "    model_id = 'my_GBM',\n",
    "    ntrees = 1000,\n",
    "    max_depth = 4,\n",
    "    seed = 123\n",
    "    )\n",
    "my_GBM.train(x, y, train, validation_frame = valid)"
   ]
  },
  {
   "cell_type": "code",
   "execution_count": null,
   "metadata": {},
   "outputs": [
    {
     "name": "stdout",
     "output_type": "stream",
     "text": [
      "gbm Grid Build progress: |████████████████████████████████████████████████"
     ]
    }
   ],
   "source": [
    "from h2o.grid.grid_search import H2OGridSearch\n",
    "hyper_parameters = { 'ntrees': [100, 400, 700, 1000, 2000],\n",
    "                     'max_depth' : [4, 6, 7, 8, 10],\n",
    "                     'learn_rate' : [0.01, 0.03, 0.05, 0.1, 0.15],\n",
    "                     'learn_rate_annealing' : [0.99, 1],\n",
    "                     'distribution' : ['gaussian', 'poisson']}\n",
    "\n",
    "search_criteria = { 'strategy': \"RandomDiscrete\", 'seed': 123}\n",
    "\n",
    "random_plus_manual = H2OGridSearch(H2OGradientBoostingEstimator(),\n",
    "      hyper_parameters, \n",
    "      search_criteria=search_criteria)\n",
    "    \n",
    "random_plus_manual.train(x=x,y=y, training_frame=train, validation_frame = valid)"
   ]
  },
  {
   "cell_type": "code",
   "execution_count": 87,
   "metadata": {},
   "outputs": [
    {
     "name": "stdout",
     "output_type": "stream",
     "text": [
      "     max_depth ntrees  \\\n",
      "0           16   1000   \n",
      "1           20   1000   \n",
      "2           12   1000   \n",
      "3            4    100   \n",
      "4           16    100   \n",
      "5           20    100   \n",
      "6           12    100   \n",
      "7            6    100   \n",
      "8            8   1000   \n",
      "9            8    100   \n",
      "10           6   1000   \n",
      "11           4   1000   \n",
      "\n",
      "                                                        model_ids  \\\n",
      "0   Grid_GBM_py_7_sid_88da_model_python_1565462043260_14_model_11   \n",
      "1    Grid_GBM_py_7_sid_88da_model_python_1565462043260_14_model_4   \n",
      "2    Grid_GBM_py_7_sid_88da_model_python_1565462043260_14_model_2   \n",
      "3    Grid_GBM_py_7_sid_88da_model_python_1565462043260_14_model_3   \n",
      "4    Grid_GBM_py_7_sid_88da_model_python_1565462043260_14_model_7   \n",
      "5   Grid_GBM_py_7_sid_88da_model_python_1565462043260_14_model_10   \n",
      "6   Grid_GBM_py_7_sid_88da_model_python_1565462043260_14_model_12   \n",
      "7    Grid_GBM_py_7_sid_88da_model_python_1565462043260_14_model_8   \n",
      "8    Grid_GBM_py_7_sid_88da_model_python_1565462043260_14_model_6   \n",
      "9    Grid_GBM_py_7_sid_88da_model_python_1565462043260_14_model_1   \n",
      "10   Grid_GBM_py_7_sid_88da_model_python_1565462043260_14_model_5   \n",
      "11   Grid_GBM_py_7_sid_88da_model_python_1565462043260_14_model_9   \n",
      "\n",
      "                  rmse  \n",
      "0   138120.34961070065  \n",
      "1    136921.0866616375  \n",
      "2    134821.8352902287  \n",
      "3   134543.48177656022  \n",
      "4   132920.10422696828  \n",
      "5   131616.92702124288  \n",
      "6   130799.86663111935  \n",
      "7   129880.33256640521  \n",
      "8   129010.31545567563  \n",
      "9   128402.63443415416  \n",
      "10  125145.66910668412  \n",
      "11  123619.16594533068  \n"
     ]
    },
    {
     "data": {
      "text/plain": []
     },
     "execution_count": 87,
     "metadata": {},
     "output_type": "execute_result"
    }
   ],
   "source": [
    "gbm_gridperf1 = random_plus_manual.get_grid(sort_by='rmse', decreasing=True)\n",
    "gbm_gridperf1"
   ]
  },
  {
   "cell_type": "code",
   "execution_count": 91,
   "metadata": {},
   "outputs": [
    {
     "name": "stdout",
     "output_type": "stream",
     "text": [
      "\n",
      "ModelMetricsRegression: gbm\n",
      "** Reported on test data. **\n",
      "\n",
      "MSE: 15281698189.019205\n",
      "RMSE: 123619.16594533068\n",
      "MAE: 67118.52288865628\n",
      "RMSLE: 0.1692573323102823\n",
      "Mean Residual Deviance: 15281698189.019205\n"
     ]
    },
    {
     "data": {
      "text/plain": []
     },
     "execution_count": 91,
     "metadata": {},
     "output_type": "execute_result"
    }
   ],
   "source": [
    "my_GBM.model_performance(valid)"
   ]
  },
  {
   "cell_type": "code",
   "execution_count": null,
   "metadata": {},
   "outputs": [],
   "source": []
  }
 ],
 "metadata": {
  "kernelspec": {
   "display_name": "Python 3",
   "language": "python",
   "name": "python3"
  },
  "language_info": {
   "codemirror_mode": {
    "name": "ipython",
    "version": 3
   },
   "file_extension": ".py",
   "mimetype": "text/x-python",
   "name": "python",
   "nbconvert_exporter": "python",
   "pygments_lexer": "ipython3",
   "version": "3.6.8"
  }
 },
 "nbformat": 4,
 "nbformat_minor": 2
}
