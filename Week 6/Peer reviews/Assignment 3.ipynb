{
 "cells": [
  {
   "cell_type": "markdown",
   "metadata": {},
   "source": [
    "## Assignment 2 - Deep Learning"
   ]
  },
  {
   "cell_type": "code",
   "execution_count": 1,
   "metadata": {},
   "outputs": [],
   "source": [
    "import h2o\n",
    "import pandas as pd"
   ]
  },
  {
   "cell_type": "code",
   "execution_count": 2,
   "metadata": {},
   "outputs": [
    {
     "name": "stdout",
     "output_type": "stream",
     "text": [
      "Checking whether there is an H2O instance running at http://localhost:54321 ..... not found.\n",
      "Attempting to start a local H2O server...\n",
      "; OpenJDK 64-Bit Server VM (build 25.152-b12, mixed mode)56-b12)\n",
      "  Starting server from C:\\Users\\a.nogue.sanchez\\AppData\\Local\\Continuum\\anaconda3\\lib\\site-packages\\h2o\\backend\\bin\\h2o.jar\n",
      "  Ice root: C:\\Users\\ANOGUE~1.SAN\\AppData\\Local\\Temp\\tmpalghxluq\n",
      "  JVM stdout: C:\\Users\\ANOGUE~1.SAN\\AppData\\Local\\Temp\\tmpalghxluq\\h2o_a_nogue_sanchez_started_from_python.out\n",
      "  JVM stderr: C:\\Users\\ANOGUE~1.SAN\\AppData\\Local\\Temp\\tmpalghxluq\\h2o_a_nogue_sanchez_started_from_python.err\n",
      "  Server is running at http://127.0.0.1:54321\n",
      "Connecting to H2O server at http://127.0.0.1:54321 ... successful.\n",
      "Warning: Your H2O cluster version is too old (4 months and 18 days)! Please download and install the latest version from http://h2o.ai/download/\n"
     ]
    },
    {
     "data": {
      "text/html": [
       "<div style=\"overflow:auto\"><table style=\"width:50%\"><tr><td>H2O cluster uptime:</td>\n",
       "<td>03 secs</td></tr>\n",
       "<tr><td>H2O cluster timezone:</td>\n",
       "<td>Europe/Paris</td></tr>\n",
       "<tr><td>H2O data parsing timezone:</td>\n",
       "<td>UTC</td></tr>\n",
       "<tr><td>H2O cluster version:</td>\n",
       "<td>3.24.0.1</td></tr>\n",
       "<tr><td>H2O cluster version age:</td>\n",
       "<td>4 months and 18 days !!!</td></tr>\n",
       "<tr><td>H2O cluster name:</td>\n",
       "<td>H2O_from_python_a_nogue_sanchez_9ykel6</td></tr>\n",
       "<tr><td>H2O cluster total nodes:</td>\n",
       "<td>1</td></tr>\n",
       "<tr><td>H2O cluster free memory:</td>\n",
       "<td>3.533 Gb</td></tr>\n",
       "<tr><td>H2O cluster total cores:</td>\n",
       "<td>4</td></tr>\n",
       "<tr><td>H2O cluster allowed cores:</td>\n",
       "<td>4</td></tr>\n",
       "<tr><td>H2O cluster status:</td>\n",
       "<td>accepting new members, healthy</td></tr>\n",
       "<tr><td>H2O connection url:</td>\n",
       "<td>http://127.0.0.1:54321</td></tr>\n",
       "<tr><td>H2O connection proxy:</td>\n",
       "<td>None</td></tr>\n",
       "<tr><td>H2O internal security:</td>\n",
       "<td>False</td></tr>\n",
       "<tr><td>H2O API Extensions:</td>\n",
       "<td>Amazon S3, Algos, AutoML, Core V3, Core V4</td></tr>\n",
       "<tr><td>Python version:</td>\n",
       "<td>3.6.8 final</td></tr></table></div>"
      ],
      "text/plain": [
       "--------------------------  ------------------------------------------\n",
       "H2O cluster uptime:         03 secs\n",
       "H2O cluster timezone:       Europe/Paris\n",
       "H2O data parsing timezone:  UTC\n",
       "H2O cluster version:        3.24.0.1\n",
       "H2O cluster version age:    4 months and 18 days !!!\n",
       "H2O cluster name:           H2O_from_python_a_nogue_sanchez_9ykel6\n",
       "H2O cluster total nodes:    1\n",
       "H2O cluster free memory:    3.533 Gb\n",
       "H2O cluster total cores:    4\n",
       "H2O cluster allowed cores:  4\n",
       "H2O cluster status:         accepting new members, healthy\n",
       "H2O connection url:         http://127.0.0.1:54321\n",
       "H2O connection proxy:\n",
       "H2O internal security:      False\n",
       "H2O API Extensions:         Amazon S3, Algos, AutoML, Core V3, Core V4\n",
       "Python version:             3.6.8 final\n",
       "--------------------------  ------------------------------------------"
      ]
     },
     "metadata": {},
     "output_type": "display_data"
    }
   ],
   "source": [
    "h2o.init()"
   ]
  },
  {
   "cell_type": "code",
   "execution_count": 3,
   "metadata": {},
   "outputs": [
    {
     "name": "stdout",
     "output_type": "stream",
     "text": [
      "Parse progress: |█████████████████████████████████████████████████████████| 100%\n"
     ]
    }
   ],
   "source": [
    "url = \"http://coursera.h2o.ai/house_data.3487.csv\"\n",
    "data = h2o.import_file(url)"
   ]
  },
  {
   "cell_type": "code",
   "execution_count": 4,
   "metadata": {},
   "outputs": [
    {
     "data": {
      "text/html": [
       "<table>\n",
       "<thead>\n",
       "<tr><th>       </th><th>id                </th><th>date           </th><th>price             </th><th>bedrooms         </th><th>bathrooms         </th><th>sqft_living      </th><th>sqft_lot         </th><th>floors            </th><th>waterfront          </th><th>view               </th><th>condition         </th><th>grade             </th><th>sqft_above        </th><th>sqft_basement     </th><th>yr_built          </th><th>yr_renovated      </th><th>zipcode          </th><th>lat                </th><th>long               </th><th>sqft_living15     </th><th>sqft_lot15        </th></tr>\n",
       "</thead>\n",
       "<tbody>\n",
       "<tr><td>type   </td><td>int               </td><td>enum           </td><td>int               </td><td>int              </td><td>real              </td><td>int              </td><td>int              </td><td>real              </td><td>int                 </td><td>int                </td><td>int               </td><td>int               </td><td>int               </td><td>int               </td><td>int               </td><td>int               </td><td>int              </td><td>real               </td><td>real               </td><td>int               </td><td>int               </td></tr>\n",
       "<tr><td>mins   </td><td>1000102.0         </td><td>               </td><td>75000.0           </td><td>0.0              </td><td>0.0               </td><td>290.0            </td><td>520.0            </td><td>1.0               </td><td>0.0                 </td><td>0.0                </td><td>1.0               </td><td>1.0               </td><td>290.0             </td><td>0.0               </td><td>1900.0            </td><td>0.0               </td><td>98001.0          </td><td>47.1559            </td><td>-122.519           </td><td>399.0             </td><td>651.0             </td></tr>\n",
       "<tr><td>mean   </td><td>4580301520.864987 </td><td>               </td><td>540088.1417665284 </td><td>3.370841623097218</td><td>2.114757321982139 </td><td>2079.899736269819</td><td>15106.96756581695</td><td>1.4943089807060526</td><td>0.007541757275713691</td><td>0.23430342849211097</td><td>3.4094295100171164</td><td>7.6568731781798105</td><td>1788.3906907879518</td><td>291.50904548188555</td><td>1971.0051357979064</td><td>84.4022579003377  </td><td>98077.93980474674</td><td>47.56005251931665  </td><td>-122.21389640494158</td><td>1986.5524915560036</td><td>12768.45565169118 </td></tr>\n",
       "<tr><td>maxs   </td><td>9900000190.0      </td><td>               </td><td>7700000.0         </td><td>33.0             </td><td>8.0               </td><td>13540.0          </td><td>1651359.0        </td><td>3.5               </td><td>1.0                 </td><td>4.0                </td><td>5.0               </td><td>13.0              </td><td>9410.0            </td><td>4820.0            </td><td>2015.0            </td><td>2015.0            </td><td>98199.0          </td><td>47.7776            </td><td>-121.315           </td><td>6210.0            </td><td>871200.0          </td></tr>\n",
       "<tr><td>sigma  </td><td>2876565571.3120522</td><td>               </td><td>367127.19648270035</td><td>0.930061831147451</td><td>0.7701631572177408</td><td>918.4408970468095</td><td>41420.51151513551</td><td>0.5399888951423489</td><td>0.08651719772788766 </td><td>0.7663175692736117 </td><td>0.6507430463662044</td><td>1.1754587569743344</td><td>828.0909776519175 </td><td>442.57504267746685</td><td>29.373410802386235</td><td>401.67924001917555</td><td>53.50502625747248</td><td>0.13856371024192365</td><td>0.14082834238139275</td><td>685.3913042527788 </td><td>27304.179631338524</td></tr>\n",
       "<tr><td>zeros  </td><td>0                 </td><td>               </td><td>0                 </td><td>13               </td><td>10                </td><td>0                </td><td>0                </td><td>0                 </td><td>21450               </td><td>19489              </td><td>0                 </td><td>0                 </td><td>0                 </td><td>13126             </td><td>0                 </td><td>20699             </td><td>0                </td><td>0                  </td><td>0                  </td><td>0                 </td><td>0                 </td></tr>\n",
       "<tr><td>missing</td><td>0                 </td><td>0              </td><td>0                 </td><td>0                </td><td>0                 </td><td>0                </td><td>0                </td><td>0                 </td><td>0                   </td><td>0                  </td><td>0                 </td><td>0                 </td><td>0                 </td><td>0                 </td><td>0                 </td><td>0                 </td><td>0                </td><td>0                  </td><td>0                  </td><td>0                 </td><td>0                 </td></tr>\n",
       "<tr><td>0      </td><td>7129300520.0      </td><td>20141013T000000</td><td>221900.0          </td><td>3.0              </td><td>1.0               </td><td>1180.0           </td><td>5650.0           </td><td>1.0               </td><td>0.0                 </td><td>0.0                </td><td>3.0               </td><td>7.0               </td><td>1180.0            </td><td>0.0               </td><td>1955.0            </td><td>0.0               </td><td>98178.0          </td><td>47.5112            </td><td>-122.257           </td><td>1340.0            </td><td>5650.0            </td></tr>\n",
       "<tr><td>1      </td><td>6414100192.0      </td><td>20141209T000000</td><td>538000.0          </td><td>3.0              </td><td>2.25              </td><td>2570.0           </td><td>7242.0           </td><td>2.0               </td><td>0.0                 </td><td>0.0                </td><td>3.0               </td><td>7.0               </td><td>2170.0            </td><td>400.0             </td><td>1951.0            </td><td>1991.0            </td><td>98125.0          </td><td>47.721             </td><td>-122.319           </td><td>1690.0            </td><td>7639.0            </td></tr>\n",
       "<tr><td>2      </td><td>5631500400.0      </td><td>20150225T000000</td><td>180000.0          </td><td>2.0              </td><td>1.0               </td><td>770.0            </td><td>10000.0          </td><td>1.0               </td><td>0.0                 </td><td>0.0                </td><td>3.0               </td><td>6.0               </td><td>770.0             </td><td>0.0               </td><td>1933.0            </td><td>0.0               </td><td>98028.0          </td><td>47.7379            </td><td>-122.233           </td><td>2720.0            </td><td>8062.0            </td></tr>\n",
       "<tr><td>3      </td><td>2487200875.0      </td><td>20141209T000000</td><td>604000.0          </td><td>4.0              </td><td>3.0               </td><td>1960.0           </td><td>5000.0           </td><td>1.0               </td><td>0.0                 </td><td>0.0                </td><td>5.0               </td><td>7.0               </td><td>1050.0            </td><td>910.0             </td><td>1965.0            </td><td>0.0               </td><td>98136.0          </td><td>47.5208            </td><td>-122.393           </td><td>1360.0            </td><td>5000.0            </td></tr>\n",
       "<tr><td>4      </td><td>1954400510.0      </td><td>20150218T000000</td><td>510000.0          </td><td>3.0              </td><td>2.0               </td><td>1680.0           </td><td>8080.0           </td><td>1.0               </td><td>0.0                 </td><td>0.0                </td><td>3.0               </td><td>8.0               </td><td>1680.0            </td><td>0.0               </td><td>1987.0            </td><td>0.0               </td><td>98074.0          </td><td>47.6168            </td><td>-122.045           </td><td>1800.0            </td><td>7503.0            </td></tr>\n",
       "<tr><td>5      </td><td>7237550310.0      </td><td>20140512T000000</td><td>1225000.0         </td><td>4.0              </td><td>4.5               </td><td>5420.0           </td><td>101930.0         </td><td>1.0               </td><td>0.0                 </td><td>0.0                </td><td>3.0               </td><td>11.0              </td><td>3890.0            </td><td>1530.0            </td><td>2001.0            </td><td>0.0               </td><td>98053.0          </td><td>47.6561            </td><td>-122.005           </td><td>4760.0            </td><td>101930.0          </td></tr>\n",
       "<tr><td>6      </td><td>1321400060.0      </td><td>20140627T000000</td><td>257500.0          </td><td>3.0              </td><td>2.25              </td><td>1715.0           </td><td>6819.0           </td><td>2.0               </td><td>0.0                 </td><td>0.0                </td><td>3.0               </td><td>7.0               </td><td>1715.0            </td><td>0.0               </td><td>1995.0            </td><td>0.0               </td><td>98003.0          </td><td>47.3097            </td><td>-122.327           </td><td>2238.0            </td><td>6819.0            </td></tr>\n",
       "<tr><td>7      </td><td>2008000270.0      </td><td>20150115T000000</td><td>291850.0          </td><td>3.0              </td><td>1.5               </td><td>1060.0           </td><td>9711.0           </td><td>1.0               </td><td>0.0                 </td><td>0.0                </td><td>3.0               </td><td>7.0               </td><td>1060.0            </td><td>0.0               </td><td>1963.0            </td><td>0.0               </td><td>98198.0          </td><td>47.4095            </td><td>-122.315           </td><td>1650.0            </td><td>9711.0            </td></tr>\n",
       "<tr><td>8      </td><td>2414600126.0      </td><td>20150415T000000</td><td>229500.0          </td><td>3.0              </td><td>1.0               </td><td>1780.0           </td><td>7470.0           </td><td>1.0               </td><td>0.0                 </td><td>0.0                </td><td>3.0               </td><td>7.0               </td><td>1050.0            </td><td>730.0             </td><td>1960.0            </td><td>0.0               </td><td>98146.0          </td><td>47.5123            </td><td>-122.337           </td><td>1780.0            </td><td>8113.0            </td></tr>\n",
       "<tr><td>9      </td><td>3793500160.0      </td><td>20150312T000000</td><td>323000.0          </td><td>3.0              </td><td>2.5               </td><td>1890.0           </td><td>6560.0           </td><td>2.0               </td><td>0.0                 </td><td>0.0                </td><td>3.0               </td><td>7.0               </td><td>1890.0            </td><td>0.0               </td><td>2003.0            </td><td>0.0               </td><td>98038.0          </td><td>47.3684            </td><td>-122.031           </td><td>2390.0            </td><td>7570.0            </td></tr>\n",
       "</tbody>\n",
       "</table>"
      ]
     },
     "metadata": {},
     "output_type": "display_data"
    }
   ],
   "source": [
    "data.summary()"
   ]
  },
  {
   "cell_type": "code",
   "execution_count": 5,
   "metadata": {},
   "outputs": [],
   "source": [
    "train, valid, test = data.split_frame([0.8, 0.1])"
   ]
  },
  {
   "cell_type": "code",
   "execution_count": 6,
   "metadata": {},
   "outputs": [
    {
     "data": {
      "text/plain": [
       "17196"
      ]
     },
     "execution_count": 6,
     "metadata": {},
     "output_type": "execute_result"
    }
   ],
   "source": [
    "train.nrows"
   ]
  },
  {
   "cell_type": "code",
   "execution_count": 7,
   "metadata": {},
   "outputs": [
    {
     "data": {
      "text/plain": [
       "2214"
      ]
     },
     "execution_count": 7,
     "metadata": {},
     "output_type": "execute_result"
    }
   ],
   "source": [
    "valid.nrows"
   ]
  },
  {
   "cell_type": "code",
   "execution_count": 8,
   "metadata": {},
   "outputs": [
    {
     "data": {
      "text/plain": [
       "2203"
      ]
     },
     "execution_count": 8,
     "metadata": {},
     "output_type": "execute_result"
    }
   ],
   "source": [
    "test.nrows"
   ]
  },
  {
   "cell_type": "code",
   "execution_count": null,
   "metadata": {},
   "outputs": [
    {
     "data": {
      "text/html": [
       "<table>\n",
       "<thead>\n",
       "<tr><th style=\"text-align: right;\">         id</th><th>date           </th><th style=\"text-align: right;\">         price</th><th style=\"text-align: right;\">  bedrooms</th><th style=\"text-align: right;\">  bathrooms</th><th style=\"text-align: right;\">  sqft_living</th><th style=\"text-align: right;\">  sqft_lot</th><th style=\"text-align: right;\">  floors</th><th style=\"text-align: right;\">  waterfront</th><th style=\"text-align: right;\">  view</th><th style=\"text-align: right;\">  condition</th><th style=\"text-align: right;\">  grade</th><th style=\"text-align: right;\">  sqft_above</th><th style=\"text-align: right;\">  sqft_basement</th><th style=\"text-align: right;\">  yr_built</th><th style=\"text-align: right;\">  yr_renovated</th><th style=\"text-align: right;\">  zipcode</th><th style=\"text-align: right;\">    lat</th><th style=\"text-align: right;\">    long</th><th style=\"text-align: right;\">  sqft_living15</th><th style=\"text-align: right;\">  sqft_lot15</th></tr>\n",
       "</thead>\n",
       "<tbody>\n",
       "<tr><td style=\"text-align: right;\">7.1293e+09 </td><td>20141013T000000</td><td style=\"text-align: right;\">221900        </td><td style=\"text-align: right;\">         3</td><td style=\"text-align: right;\">       1   </td><td style=\"text-align: right;\">         1180</td><td style=\"text-align: right;\">      5650</td><td style=\"text-align: right;\">       1</td><td style=\"text-align: right;\">           0</td><td style=\"text-align: right;\">     0</td><td style=\"text-align: right;\">          3</td><td style=\"text-align: right;\">      7</td><td style=\"text-align: right;\">        1180</td><td style=\"text-align: right;\">              0</td><td style=\"text-align: right;\">      1955</td><td style=\"text-align: right;\">             0</td><td style=\"text-align: right;\">    98178</td><td style=\"text-align: right;\">47.5112</td><td style=\"text-align: right;\">-122.257</td><td style=\"text-align: right;\">           1340</td><td style=\"text-align: right;\">        5650</td></tr>\n",
       "<tr><td style=\"text-align: right;\">6.4141e+09 </td><td>20141209T000000</td><td style=\"text-align: right;\">538000        </td><td style=\"text-align: right;\">         3</td><td style=\"text-align: right;\">       2.25</td><td style=\"text-align: right;\">         2570</td><td style=\"text-align: right;\">      7242</td><td style=\"text-align: right;\">       2</td><td style=\"text-align: right;\">           0</td><td style=\"text-align: right;\">     0</td><td style=\"text-align: right;\">          3</td><td style=\"text-align: right;\">      7</td><td style=\"text-align: right;\">        2170</td><td style=\"text-align: right;\">            400</td><td style=\"text-align: right;\">      1951</td><td style=\"text-align: right;\">          1991</td><td style=\"text-align: right;\">    98125</td><td style=\"text-align: right;\">47.721 </td><td style=\"text-align: right;\">-122.319</td><td style=\"text-align: right;\">           1690</td><td style=\"text-align: right;\">        7639</td></tr>\n",
       "<tr><td style=\"text-align: right;\">5.6315e+09 </td><td>20150225T000000</td><td style=\"text-align: right;\">180000        </td><td style=\"text-align: right;\">         2</td><td style=\"text-align: right;\">       1   </td><td style=\"text-align: right;\">          770</td><td style=\"text-align: right;\">     10000</td><td style=\"text-align: right;\">       1</td><td style=\"text-align: right;\">           0</td><td style=\"text-align: right;\">     0</td><td style=\"text-align: right;\">          3</td><td style=\"text-align: right;\">      6</td><td style=\"text-align: right;\">         770</td><td style=\"text-align: right;\">              0</td><td style=\"text-align: right;\">      1933</td><td style=\"text-align: right;\">             0</td><td style=\"text-align: right;\">    98028</td><td style=\"text-align: right;\">47.7379</td><td style=\"text-align: right;\">-122.233</td><td style=\"text-align: right;\">           2720</td><td style=\"text-align: right;\">        8062</td></tr>\n",
       "<tr><td style=\"text-align: right;\">2.4872e+09 </td><td>20141209T000000</td><td style=\"text-align: right;\">604000        </td><td style=\"text-align: right;\">         4</td><td style=\"text-align: right;\">       3   </td><td style=\"text-align: right;\">         1960</td><td style=\"text-align: right;\">      5000</td><td style=\"text-align: right;\">       1</td><td style=\"text-align: right;\">           0</td><td style=\"text-align: right;\">     0</td><td style=\"text-align: right;\">          5</td><td style=\"text-align: right;\">      7</td><td style=\"text-align: right;\">        1050</td><td style=\"text-align: right;\">            910</td><td style=\"text-align: right;\">      1965</td><td style=\"text-align: right;\">             0</td><td style=\"text-align: right;\">    98136</td><td style=\"text-align: right;\">47.5208</td><td style=\"text-align: right;\">-122.393</td><td style=\"text-align: right;\">           1360</td><td style=\"text-align: right;\">        5000</td></tr>\n",
       "<tr><td style=\"text-align: right;\">1.9544e+09 </td><td>20150218T000000</td><td style=\"text-align: right;\">510000        </td><td style=\"text-align: right;\">         3</td><td style=\"text-align: right;\">       2   </td><td style=\"text-align: right;\">         1680</td><td style=\"text-align: right;\">      8080</td><td style=\"text-align: right;\">       1</td><td style=\"text-align: right;\">           0</td><td style=\"text-align: right;\">     0</td><td style=\"text-align: right;\">          3</td><td style=\"text-align: right;\">      8</td><td style=\"text-align: right;\">        1680</td><td style=\"text-align: right;\">              0</td><td style=\"text-align: right;\">      1987</td><td style=\"text-align: right;\">             0</td><td style=\"text-align: right;\">    98074</td><td style=\"text-align: right;\">47.6168</td><td style=\"text-align: right;\">-122.045</td><td style=\"text-align: right;\">           1800</td><td style=\"text-align: right;\">        7503</td></tr>\n",
       "<tr><td style=\"text-align: right;\">7.23755e+09</td><td>20140512T000000</td><td style=\"text-align: right;\">     1.225e+06</td><td style=\"text-align: right;\">         4</td><td style=\"text-align: right;\">       4.5 </td><td style=\"text-align: right;\">         5420</td><td style=\"text-align: right;\">    101930</td><td style=\"text-align: right;\">       1</td><td style=\"text-align: right;\">           0</td><td style=\"text-align: right;\">     0</td><td style=\"text-align: right;\">          3</td><td style=\"text-align: right;\">     11</td><td style=\"text-align: right;\">        3890</td><td style=\"text-align: right;\">           1530</td><td style=\"text-align: right;\">      2001</td><td style=\"text-align: right;\">             0</td><td style=\"text-align: right;\">    98053</td><td style=\"text-align: right;\">47.6561</td><td style=\"text-align: right;\">-122.005</td><td style=\"text-align: right;\">           4760</td><td style=\"text-align: right;\">      101930</td></tr>\n",
       "<tr><td style=\"text-align: right;\">1.3214e+09 </td><td>20140627T000000</td><td style=\"text-align: right;\">257500        </td><td style=\"text-align: right;\">         3</td><td style=\"text-align: right;\">       2.25</td><td style=\"text-align: right;\">         1715</td><td style=\"text-align: right;\">      6819</td><td style=\"text-align: right;\">       2</td><td style=\"text-align: right;\">           0</td><td style=\"text-align: right;\">     0</td><td style=\"text-align: right;\">          3</td><td style=\"text-align: right;\">      7</td><td style=\"text-align: right;\">        1715</td><td style=\"text-align: right;\">              0</td><td style=\"text-align: right;\">      1995</td><td style=\"text-align: right;\">             0</td><td style=\"text-align: right;\">    98003</td><td style=\"text-align: right;\">47.3097</td><td style=\"text-align: right;\">-122.327</td><td style=\"text-align: right;\">           2238</td><td style=\"text-align: right;\">        6819</td></tr>\n",
       "<tr><td style=\"text-align: right;\">2.008e+09  </td><td>20150115T000000</td><td style=\"text-align: right;\">291850        </td><td style=\"text-align: right;\">         3</td><td style=\"text-align: right;\">       1.5 </td><td style=\"text-align: right;\">         1060</td><td style=\"text-align: right;\">      9711</td><td style=\"text-align: right;\">       1</td><td style=\"text-align: right;\">           0</td><td style=\"text-align: right;\">     0</td><td style=\"text-align: right;\">          3</td><td style=\"text-align: right;\">      7</td><td style=\"text-align: right;\">        1060</td><td style=\"text-align: right;\">              0</td><td style=\"text-align: right;\">      1963</td><td style=\"text-align: right;\">             0</td><td style=\"text-align: right;\">    98198</td><td style=\"text-align: right;\">47.4095</td><td style=\"text-align: right;\">-122.315</td><td style=\"text-align: right;\">           1650</td><td style=\"text-align: right;\">        9711</td></tr>\n",
       "<tr><td style=\"text-align: right;\">2.4146e+09 </td><td>20150415T000000</td><td style=\"text-align: right;\">229500        </td><td style=\"text-align: right;\">         3</td><td style=\"text-align: right;\">       1   </td><td style=\"text-align: right;\">         1780</td><td style=\"text-align: right;\">      7470</td><td style=\"text-align: right;\">       1</td><td style=\"text-align: right;\">           0</td><td style=\"text-align: right;\">     0</td><td style=\"text-align: right;\">          3</td><td style=\"text-align: right;\">      7</td><td style=\"text-align: right;\">        1050</td><td style=\"text-align: right;\">            730</td><td style=\"text-align: right;\">      1960</td><td style=\"text-align: right;\">             0</td><td style=\"text-align: right;\">    98146</td><td style=\"text-align: right;\">47.5123</td><td style=\"text-align: right;\">-122.337</td><td style=\"text-align: right;\">           1780</td><td style=\"text-align: right;\">        8113</td></tr>\n",
       "<tr><td style=\"text-align: right;\">3.7935e+09 </td><td>20150312T000000</td><td style=\"text-align: right;\">323000        </td><td style=\"text-align: right;\">         3</td><td style=\"text-align: right;\">       2.5 </td><td style=\"text-align: right;\">         1890</td><td style=\"text-align: right;\">      6560</td><td style=\"text-align: right;\">       2</td><td style=\"text-align: right;\">           0</td><td style=\"text-align: right;\">     0</td><td style=\"text-align: right;\">          3</td><td style=\"text-align: right;\">      7</td><td style=\"text-align: right;\">        1890</td><td style=\"text-align: right;\">              0</td><td style=\"text-align: right;\">      2003</td><td style=\"text-align: right;\">             0</td><td style=\"text-align: right;\">    98038</td><td style=\"text-align: right;\">47.3684</td><td style=\"text-align: right;\">-122.031</td><td style=\"text-align: right;\">           2390</td><td style=\"text-align: right;\">        7570</td></tr>\n",
       "</tbody>\n",
       "</table>"
      ]
     },
     "metadata": {},
     "output_type": "display_data"
    },
    {
     "data": {
      "text/plain": [
       "<bound method H2OFrame.head of >"
      ]
     },
     "execution_count": 9,
     "metadata": {},
     "output_type": "execute_result"
    }
   ],
   "source": [
    "data.head"
   ]
  },
  {
   "cell_type": "code",
   "execution_count": null,
   "metadata": {},
   "outputs": [],
   "source": [
    "y = \"price\"\n",
    "xAll = [i for i in train.names]\n",
    "nfolds = 5\n",
    "train2 = train.rbind(valid)"
   ]
  },
  {
   "cell_type": "code",
   "execution_count": null,
   "metadata": {},
   "outputs": [],
   "source": [
    "from h2o.estimators.deeplearning import H2ODeepLearningEstimator\n",
    "from h2o.estimators.random_forest import H2ORandomForestEstimator\n",
    "from h2o.estimators.gbm import H2OGradientBoostingEstimator\n",
    "from h2o.estimators.glm import H2OGeneralizedLinearEstimator\n",
    "from h2o.estimators.stackedensemble import H2OStackedEnsembleEstimator"
   ]
  },
  {
   "cell_type": "code",
   "execution_count": null,
   "metadata": {},
   "outputs": [
    {
     "name": "stdout",
     "output_type": "stream",
     "text": [
      "deeplearning Model Build progress: |███"
     ]
    }
   ],
   "source": [
    "m_deeplearning = H2ODeepLearningEstimator(model_id = 'm_deeplearning',\n",
    "                                          nfolds=nfolds,\n",
    "                                          fold_assignment = 'Modulo',\n",
    "                                          keep_cross_validation_predictions = True)\n",
    "%time m_deeplearning.train(xAll, y, train2)"
   ]
  },
  {
   "cell_type": "code",
   "execution_count": null,
   "metadata": {},
   "outputs": [],
   "source": [
    "m_deeplearning.model_performance(test)"
   ]
  },
  {
   "cell_type": "code",
   "execution_count": null,
   "metadata": {},
   "outputs": [],
   "source": [
    "m_randomforest = H2ORandomForestEstimator(model_id = 'm_randomforest',\n",
    "                                          nfolds=nfolds,\n",
    "                                          fold_assignment = 'Modulo',\n",
    "                                          keep_cross_validation_predictions = True)\n",
    "%time m_randomforest.train(xAll, y, train2)"
   ]
  },
  {
   "cell_type": "code",
   "execution_count": null,
   "metadata": {},
   "outputs": [],
   "source": [
    "m_randomforest.model_performance(test)"
   ]
  },
  {
   "cell_type": "code",
   "execution_count": null,
   "metadata": {},
   "outputs": [],
   "source": [
    "m_gbm = H2OGradientBoostingEstimator(model_id = 'm_gbm',\n",
    "                                          nfolds=nfolds,\n",
    "                                          fold_assignment = 'Modulo',\n",
    "                                          keep_cross_validation_predictions = True)\n",
    "%time m_gbm.train(xAll, y, train2)"
   ]
  },
  {
   "cell_type": "code",
   "execution_count": null,
   "metadata": {},
   "outputs": [],
   "source": [
    "m_gbm.model_performance(test)"
   ]
  },
  {
   "cell_type": "code",
   "execution_count": null,
   "metadata": {},
   "outputs": [],
   "source": [
    "m_glm = H2OGeneralizedLinearEstimator(model_id = 'm_glm',\n",
    "                                          nfolds=nfolds,\n",
    "                                          fold_assignment = 'Modulo',\n",
    "                                          keep_cross_validation_predictions = True)\n",
    "%time m_glm.train(xAll, y, train2)"
   ]
  },
  {
   "cell_type": "code",
   "execution_count": null,
   "metadata": {},
   "outputs": [],
   "source": [
    "m_glm.model_performance(test)"
   ]
  },
  {
   "cell_type": "code",
   "execution_count": null,
   "metadata": {},
   "outputs": [],
   "source": [
    "models = [m_deeplearning.model_id,m_randomforest.model_id,m_gbm.model_id,m_glm.model_id]"
   ]
  },
  {
   "cell_type": "code",
   "execution_count": null,
   "metadata": {},
   "outputs": [],
   "source": [
    "m_SE = H2OStackedEnsembleEstimator(model_id = \"SE\",\n",
    "                                  base_models = models)\n",
    "m_SE.train(xAll, y, train2)"
   ]
  },
  {
   "cell_type": "code",
   "execution_count": null,
   "metadata": {
    "scrolled": true
   },
   "outputs": [],
   "source": [
    "m_SE.model_performance(test)"
   ]
  },
  {
   "cell_type": "code",
   "execution_count": null,
   "metadata": {},
   "outputs": [],
   "source": [
    "h2o.save_model(m_SE,force=True)"
   ]
  }
 ],
 "metadata": {
  "kernelspec": {
   "display_name": "Python 3",
   "language": "python",
   "name": "python3"
  },
  "language_info": {
   "codemirror_mode": {
    "name": "ipython",
    "version": 3
   },
   "file_extension": ".py",
   "mimetype": "text/x-python",
   "name": "python",
   "nbconvert_exporter": "python",
   "pygments_lexer": "ipython3",
   "version": "3.6.8"
  }
 },
 "nbformat": 4,
 "nbformat_minor": 2
}
